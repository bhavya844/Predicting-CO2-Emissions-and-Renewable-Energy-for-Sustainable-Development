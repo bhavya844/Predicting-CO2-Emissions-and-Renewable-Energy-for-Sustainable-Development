{
  "cells": [
    {
      "cell_type": "code",
      "execution_count": null,
      "metadata": {
        "colab": {
          "base_uri": "https://localhost:8080/"
        },
        "id": "Kw1fQX8Enllo",
        "outputId": "0e8ea2ee-c59b-46b4-b949-bff35be013d7"
      },
      "outputs": [],
      "source": [
        "import pandas as pd\n",
        "import numpy as np\n",
        "\n",
        "data= pd.read_csv('global-data-on-sustainable-energy.csv')\n",
        "missing_values = data.isnull().sum()\n",
        "length=len(data)\n",
        "missing_percentage = (missing_values / len(data)) * 100\n",
        "print(f\"Missing values are  :{missing_values}\")\n",
        "print(f\"Missing percentages are :{missing_percentage}\")"
      ]
    },
    {
      "cell_type": "code",
      "execution_count": null,
      "metadata": {
        "colab": {
          "base_uri": "https://localhost:8080/"
        },
        "id": "Ta5rc3Er7GJs",
        "outputId": "45c069fb-9020-4484-c0fe-79cbd6e84eb5"
      },
      "outputs": [],
      "source": [
        "data_types = data.dtypes\n",
        "print(data_types)"
      ]
    },
    {
      "cell_type": "code",
      "execution_count": null,
      "metadata": {
        "colab": {
          "base_uri": "https://localhost:8080/"
        },
        "id": "5rVv33T6ns-3",
        "outputId": "516d7ada-1aba-42a1-c2a8-375a56e0c49a"
      },
      "outputs": [],
      "source": [
        "data_types = data.dtypes\n",
        "print(data_types)"
      ]
    },
    {
      "cell_type": "code",
      "execution_count": null,
      "metadata": {
        "id": "B5Ne2ZLIbqbh"
      },
      "outputs": [],
      "source": [
        "def remove_functuation(density):\n",
        "    return density.replace(',','')\n",
        "data['Entity']=data['Entity'].astype(str)\n",
        "data['Density\\\\n(P/Km2)']=data['Density\\\\n(P/Km2)'].astype(str)\n",
        "data['Density\\\\n(P/Km2)']=data['Density\\\\n(P/Km2)'].apply(remove_functuation)\n",
        "data['Density\\\\n(P/Km2)']=data['Density\\\\n(P/Km2)'].astype(float)"
      ]
    },
    {
      "cell_type": "code",
      "execution_count": null,
      "metadata": {
        "id": "7-QQ5xH9RH1r"
      },
      "outputs": [],
      "source": [
        "# dropping ALbania as there is no good data available\n",
        "indices_to_drop = data[data['Entity'] == 'Albania'].index\n",
        "data.drop(indices_to_drop, inplace=True)"
      ]
    },
    {
      "cell_type": "code",
      "execution_count": null,
      "metadata": {
        "colab": {
          "base_uri": "https://localhost:8080/"
        },
        "id": "CC_tgenQRH1r",
        "outputId": "1abf1ed5-7df8-4670-9278-87f031c7e5df"
      },
      "outputs": [],
      "source": [
        "columns=data.columns.tolist()\n",
        "feature_with_null=[column for column in columns if column not in ['Entity','Year','Primary energy consumption per capita (kWh/person)']]\n",
        "feature_with_null"
      ]
    },
    {
      "cell_type": "code",
      "execution_count": null,
      "metadata": {
        "id": "VuvaUHqQRH1r"
      },
      "outputs": [],
      "source": [
        "data.replace({None: np.nan}, inplace=True)\n",
        "\n",
        "columns=['Financial flows to developing countries (US $)','Renewable-electricity-generating-capacity-per-capita','Renewables (% equivalent primary energy)']\n",
        "data.drop(columns=columns,inplace=True)\n",
        "\n",
        "columns=data.columns.tolist()\n",
        "feature_with_null=[column for column in columns if column not in ['Entity','Year','Primary energy consumption per capita (kWh/person)']]\n",
        "\n",
        "for column in feature_with_null:\n",
        "    # Group by 'Country_Encoded' and calculate the mean for each group\n",
        "    means = data.groupby('Entity')[column].transform('mean')\n",
        "\n",
        "    # If the mean is NaN, replace it with the global mean of the column\n",
        "    global_mean = data[column].mean()\n",
        "    means_filled = means.fillna(global_mean)\n",
        "\n",
        "    # Fill the missing values with the calculated means\n",
        "    data[column] = data[column].fillna(means_filled)\n",
        "\n",
        "zero_columns=['Electricity from nuclear (TWh)','Electricity from renewables (TWh)','Low-carbon electricity (% electricity)']\n",
        "data.drop(columns=zero_columns,inplace=True, axis=1)\n",
        "\n",
        "\n"
      ]
    },
    {
      "cell_type": "code",
      "execution_count": null,
      "metadata": {
        "colab": {
          "base_uri": "https://localhost:8080/"
        },
        "id": "W0rB9jD6RH1s",
        "outputId": "3bd8ba6a-35eb-433b-983b-a110da13fbcd"
      },
      "outputs": [],
      "source": [
        "zero_counts=(data==0).sum()\n",
        "print(zero_counts)"
      ]
    },
    {
      "cell_type": "code",
      "execution_count": null,
      "metadata": {
        "colab": {
          "base_uri": "https://localhost:8080/"
        },
        "id": "wuHTzF_CRH1s",
        "outputId": "1832aded-eba8-4741-ab87-50bb76b8f5c8"
      },
      "outputs": [],
      "source": [
        "columns=data.columns.to_list()\n",
        "\n",
        "df=data\n",
        "\n",
        "def rmOutliers(df, columns):\n",
        "    for column in columns:\n",
        "        Q1 = df[column].quantile(0.25)\n",
        "        Q3 = df[column].quantile(0.75)\n",
        "        IQR = Q3 - Q1\n",
        "        lower_bound = Q1 - 1.5 * IQR\n",
        "        upper_bound = Q3 + 1.5 * IQR\n",
        "        df = df[(df[column] >= lower_bound) & (df[column] <= upper_bound)]\n",
        "    return df\n",
        "\n",
        "# List of columns to check for outliers\n",
        "columns_to_check = [\n",
        "    'Access to electricity (% of population)',\n",
        " 'Access to clean fuels for cooking',\n",
        " 'Renewable energy share in the total final energy consumption (%)',\n",
        " 'Electricity from fossil fuels (TWh)',\n",
        " 'Primary energy consumption per capita (kWh/person)',\n",
        " 'Energy intensity level of primary energy (MJ/$2017 PPP GDP)',\n",
        " 'Value_co2_emissions_kt_by_country',\n",
        " 'gdp_growth',\n",
        " 'gdp_per_capita',\n",
        " 'Density\\\\n(P/Km2)',\n",
        " 'Land Area(Km2)',\n",
        " 'Latitude',\n",
        " 'Longitude']\n",
        "\n",
        "print (columns_to_check)\n",
        "\n",
        "# Apply the function to each group of entities\n",
        "df_cleaned = df.groupby('Entity').apply(lambda x: rmOutliers(x, columns_to_check)).reset_index(drop=True)"
      ]
    },
    {
      "cell_type": "code",
      "execution_count": null,
      "metadata": {
        "colab": {
          "base_uri": "https://localhost:8080/"
        },
        "id": "49HA0CzGRH1s",
        "outputId": "bc8b390b-53bd-467c-b5ed-b2518717b948"
      },
      "outputs": [],
      "source": [
        "data=df_cleaned\n",
        "print(f\"Total Outliers Removed considering for each country are:{df.count()-df_cleaned.count()}\")"
      ]
    },
    {
      "cell_type": "markdown",
      "metadata": {},
      "source": [
        "## Data Quality Plan\n",
        "\n",
        "### Issues Found:\n",
        "\n",
        "**High Missing Value Rate**: Most columns have missing values. Columns like **Financial flows to developing countries (US $)** and **Renewables (% equivalent primary energy)** have a missing rate over 50%.\n",
        "\n",
        "**Type Inconsistency**: The type of columns like **Entity** and **Density\\n(P/Km2)** is Object. They should be string and float instead. Additionally, **Density\\n(P/Km2)** has commas in the values, which prevents direct processing.\n",
        "\n",
        "**Outliers**: The dataset contains outliers, which can lead to poor model performance.\n",
        "| Feature Name                                           | Domain Concept                    | Feature Description                                                                                           | Feature Type       | Data Type     |\n",
        "|--------------------------------------------------------|-----------------------------------|---------------------------------------------------------------------------------------------------------------|--------------------|---------------|\n",
        "| Entity                                                 | Country Identifier                | The name of the country                                                                                       | Categorical        | String        |\n",
        "| Year                                                   | Time                              | Year of the data                                                                                              | Numerical          | Integer       |\n",
        "| Access to electricity (% of population)                | Energy Usage Statistics           | The proportion of population that can use electricity                                                         | Numerical          | Float         |\n",
        "| Access to clean fuels for cooking                      | Energy Usage Statistics           | Clean fuel used for cooking                                                                                   | Numerical          | Float         |\n",
        "| Renewable electricity generating capacity per capita   | Energy Generation Statistics      | Renewable energy generated per person                                                                         | Numerical          | Float         |\n",
        "| Financial flows to developing countries (US $)         | Economical Statistics             | Aid and assistance from developed countries for clean energy projects                                         | Numerical          | Float         |\n",
        "| Renewable energy share in total final energy consumption (%) | Energy Usage Statistics          | Percentage of renewable energy in final energy consumption                                                    | Numerical          | Float         |\n",
        "| Electricity from fossil fuels (TWh)                    | Energy Generation Statistics      | Electricity generated from fossil fuels (coal, oil, gas) in terawatt-hours                                    | Numerical          | Float         |\n",
        "| Electricity from nuclear (TWh)                         | Energy Generation Statistics      | Electricity generated from nuclear power in terawatt-hours                                                    | Numerical          | Float         |\n",
        "| Electricity from renewables (TWh)                      | Energy Generation Statistics      | Electricity generated from renewable sources (hydro, solar, wind, etc.) in terawatt-hours                     | Numerical          | Float         |\n",
        "| Low-carbon electricity (% electricity)                 | Energy Usage Statistics           | Percentage of electricity from low-carbon sources (nuclear and renewables)                                    | Numerical          | Float         |\n",
        "| Primary energy consumption per capita (kWh/person)     | Energy Usage Statistics           | Energy consumption per person in kilowatt-hours                                                               | Numerical          | Float         |\n",
        "| Energy intensity level of primary energy (MJ/$2011 PPP GDP) | Energy Statistics   | Energy use per unit of GDP at purchasing power parity                                                         | Numerical          | Float         |\n",
        "| Value_co2_emissions (metric tons per capita)           | Environmental Statistics           | Carbon dioxide emissions per person in metric tons                                                            | Numerical          | Float         |\n",
        "| Renewables (% equivalent primary energy)               | Energy Usage Statistics           | Equivalent primary energy that is derived from renewable sources                                              | Numerical          | Float         |\n",
        "| GDP growth (annual %)                                  | Economic Statistics        | Annual GDP growth rate based on constant local currency                                                       | Numerical          | Float         |\n",
        "| GDP per capita                                         | Economic Statistics               | Gross domestic product per person                                                                             | Numerical          | Float         |\n",
        "| Density (P/Km2)                                        | Demographic Statistics            | Population density in persons per square kilometer                                                            | Numerical          | Float         |\n",
        "| Land Area (Km2)                                        | Geographic Statistics             | Total land area in square kilometers                                                                          | Numerical          | Float         |\n",
        "| Latitude                                               | Geographic Coordinates            | Latitude of the country's centroid in decimal degrees                                                         | Numerical          | Float         |\n",
        "| Longitude                                              | Geographic Coordinates            | Longitude of the country's centroid in decimal degrees                                                        | Numerical          | Float         |\n",
        "\n",
        "\n",
        "### Solution:\n",
        "\n",
        "We imputed the missing values with mean values to avoid losing too many data points. For type conversion, **Entity** was converted to a string. **Density\\n(P/Km2)** was first converted to a string to remove the commas, and then it was converted to float. To handle outliers, we implemented a method to remove all values below the lower bound and above the upper bound, determined by the Interquartile Range (IQR) of each column.\n"
      ]
    },
    {
      "cell_type": "code",
      "execution_count": null,
      "metadata": {
        "colab": {
          "base_uri": "https://localhost:8080/"
        },
        "id": "y3JK4n7URH1s",
        "outputId": "e60bc5d0-a108-4a20-d24c-4d16e22d9ef7"
      },
      "outputs": [],
      "source": [
        "from sklearn.feature_selection import RFE\n",
        "from sklearn.linear_model import LinearRegression\n",
        "from sklearn.preprocessing import StandardScaler, LabelEncoder\n",
        "from sklearn.tree import DecisionTreeRegressor\n",
        "from sklearn.svm import SVR\n",
        "from sklearn.ensemble import RandomForestRegressor\n",
        "from sklearn.model_selection import train_test_split\n",
        "from sklearn.metrics import mean_squared_error, mean_absolute_error, r2_score\n",
        "import pandas as pd\n",
        "import joblib\n",
        "\n",
        "\n",
        "label_encoder=LabelEncoder()\n",
        "data['Entity']=label_encoder.fit_transform(data['Entity'])\n",
        "\n",
        "target_variables = ['Value_co2_emissions_kt_by_country', 'Renewable energy share in the total final energy consumption (%)']\n",
        "\n",
        "models={\n",
        "    'Linear Regression':LinearRegression(),\n",
        "    'Decision Tree Regression': DecisionTreeRegressor(),\n",
        "    'Support Vector Regressor':SVR(),\n",
        "    'Random Forest Regressor':RandomForestRegressor()\n",
        "}\n",
        "\n",
        "# Dictionaries to store the metrics\n",
        "mse_scores = {'CO2 Emissions': [], 'Renewable Energy Share': []}\n",
        "mae_scores = {'CO2 Emissions': [], 'Renewable Energy Share': []}\n",
        "r2_scores = {'CO2 Emissions': [], 'Renewable Energy Share': []}\n",
        "\n",
        "def evaluate_model_with_base_parameters(data, models_dict):\n",
        "    random_forest_features = []\n",
        "    for i in range(len(target_variables)):\n",
        "        target_variable = target_variables[i]\n",
        "        print(f\"Below are the metrics for the target variable: {target_variables[i]}\")\n",
        "        for name, model in models_dict.items():\n",
        "            if name == 'Support Vector Regressor':\n",
        "                # Skipping RFE for SVR as it does not have the feature_importances_ or coef_ attribute\n",
        "                correlation_matrix = data.select_dtypes(\"number\").corr()\n",
        "                target_features = correlation_matrix[target_variables[i]].drop(target_variables[i])\n",
        "                target_features = target_features[abs(target_features) > 0.3].index.tolist()\n",
        "                X = data.drop(columns=target_features)\n",
        "                y = data[target_variables[i]]\n",
        "                X_train, X_test, y_train, y_test = train_test_split(X, y, test_size=0.2)\n",
        "                model.fit(X_train, y_train)\n",
        "                y_pred = model.predict(X_test)\n",
        "\n",
        "            else:\n",
        "                # Applying RFE for other models\n",
        "                rfe = RFE(estimator=model, n_features_to_select=10)\n",
        "                X = data.drop(columns=target_variables)\n",
        "                y = data[target_variables[i]]\n",
        "                fit = rfe.fit(X, y)\n",
        "                feature_ranking = pd.DataFrame({'Feature': X.columns, 'Ranking': fit.ranking_}).sort_values(by='Ranking')\n",
        "                final_features = feature_ranking[feature_ranking['Ranking'] == 1]['Feature'].to_list()\n",
        "                if 'Entity'  not in final_features:\n",
        "                    final_features.append('Entity')\n",
        "                if 'Year' not in final_features:\n",
        "                  final_features.append('Year')\n",
        "                print(f\"Feature importances for {name} are {final_features}\")\n",
        "                X = X[final_features]\n",
        "                X_train, X_test, y_train, y_test = train_test_split(X, y, test_size=0.2)\n",
        "                model.fit(X_train, y_train)\n",
        "                if name == 'Random Forest Regressor':\n",
        "                    model_filename = f'Random forest regressor model for {target_variables[i]}'\n",
        "                    joblib.dump(model, model_filename)\n",
        "                    random_forest_features.append(final_features)  # Capture the features for Random Forest Regressor\n",
        "                y_pred = model.predict(X_test)\n",
        "\n",
        "            mse = mean_squared_error(y_test, y_pred)\n",
        "            mae = mean_absolute_error(y_test, y_pred)\n",
        "            r2 = r2_score(y_test, y_pred)\n",
        "\n",
        "            target_key = 'CO2 Emissions' if target_variable == 'Value_co2_emissions_kt_by_country' else 'Renewable Energy Share'\n",
        "            mse_scores[target_key].append(mse)\n",
        "            mae_scores[target_key].append(mae)\n",
        "            r2_scores[target_key].append(r2)\n",
        "\n",
        "            print(f\"Model: {name}\")\n",
        "            print(f\"Mean squared error is: {mse}\")\n",
        "            print(f\"Mean absolute error is: {mae}\")\n",
        "            print(f\"R2 score error is: {r2}\")\n",
        "            print(\"\\n\")\n",
        "\n",
        "    return random_forest_features\n",
        "\n",
        "\n",
        "random_forest_features=evaluate_model_with_base_parameters(data, models)\n"
      ]
    },
    {
      "cell_type": "code",
      "execution_count": null,
      "metadata": {
        "colab": {
          "base_uri": "https://localhost:8080/"
        },
        "id": "_sQyi-q8RH1s",
        "outputId": "87e341b7-3922-4895-a9f2-41ee82cc87a8"
      },
      "outputs": [],
      "source": [
        "random_forest_features"
      ]
    },
    {
      "cell_type": "code",
      "execution_count": null,
      "metadata": {},
      "outputs": [],
      "source": [
        "import matplotlib.pyplot as plt"
      ]
    },
    {
      "cell_type": "code",
      "execution_count": null,
      "metadata": {},
      "outputs": [],
      "source": [
        "# Visualization for CO2 Emissions\n",
        "fig, axs = plt.subplots(3, 1, figsize=(10,15))\n",
        "\n",
        "bar_width = 0.35\n",
        "index = np.arange(len(models))\n",
        "\n",
        "# MSE for CO2 Emissions\n",
        "axs[0].bar(index, mse_scores['CO2 Emissions'], bar_width, label='CO2 Emissions', color='skyblue')\n",
        "axs[0].set_title('Mean Squared Error (MSE) Comparison - CO2 Emissions')\n",
        "axs[0].set_ylabel('MSE')\n",
        "axs[0].set_xticks(index)\n",
        "axs[0].set_xticklabels(models.keys())\n",
        "axs[0].legend()\n",
        "\n",
        "# MAE for CO2 Emissions\n",
        "axs[1].bar(index, mae_scores['CO2 Emissions'], bar_width, label='CO2 Emissions', color='lightgreen')\n",
        "axs[1].set_title('Mean Absolute Error (MAE) Comparison - CO2 Emissions')\n",
        "axs[1].set_ylabel('MAE')\n",
        "axs[1].set_xticks(index)\n",
        "axs[1].set_xticklabels(models.keys())\n",
        "axs[1].legend()\n",
        "\n",
        "# R2 for CO2 Emissions\n",
        "axs[2].bar(index, r2_scores['CO2 Emissions'], bar_width, label='CO2 Emissions', color='salmon')\n",
        "axs[2].set_title('R² Score Comparison - CO2 Emissions')\n",
        "axs[2].set_ylabel('R²')\n",
        "axs[2].set_xticks(index)\n",
        "axs[2].set_xticklabels(models.keys())\n",
        "axs[2].legend()\n",
        "\n",
        "plt.tight_layout()\n",
        "plt.show()"
      ]
    },
    {
      "cell_type": "code",
      "execution_count": null,
      "metadata": {},
      "outputs": [],
      "source": [
        "# Visualization for Renewable Energy Share\n",
        "fig, axs = plt.subplots(3, 1, figsize=(10,15))\n",
        "\n",
        "# MSE for Renewable Energy Share\n",
        "axs[0].bar(index, mse_scores['Renewable Energy Share'], bar_width, label='Renewable Energy Share', color='skyblue')\n",
        "axs[0].set_title('Mean Squared Error (MSE) Comparison - Renewable Energy Share')\n",
        "axs[0].set_ylabel('MSE')\n",
        "axs[0].set_xticks(index)\n",
        "axs[0].set_xticklabels(models.keys())\n",
        "axs[0].legend()\n",
        "\n",
        "# MAE for Renewable Energy Share\n",
        "axs[1].bar(index, mae_scores['Renewable Energy Share'], bar_width, label='Renewable Energy Share', color='lightgreen')\n",
        "axs[1].set_title('Mean Absolute Error (MAE) Comparison - Renewable Energy Share')\n",
        "axs[1].set_ylabel('MAE')\n",
        "axs[1].set_xticks(index)\n",
        "axs[1].set_xticklabels(models.keys())\n",
        "axs[1].legend()\n",
        "\n",
        "# R2 for Renewable Energy Share\n",
        "axs[2].bar(index, r2_scores['Renewable Energy Share'], bar_width, label='Renewable Energy Share', color='salmon')\n",
        "axs[2].set_title('R² Score Comparison - Renewable Energy Share')\n",
        "axs[2].set_ylabel('R²')\n",
        "axs[2].set_xticks(index)\n",
        "axs[2].set_xticklabels(models.keys())\n",
        "axs[2].legend()\n",
        "\n",
        "plt.tight_layout()\n",
        "plt.show()"
      ]
    },
    {
      "cell_type": "markdown",
      "metadata": {},
      "source": [
        "#### Time series forecasting using Prophet"
      ]
    },
    {
      "cell_type": "code",
      "execution_count": null,
      "metadata": {
        "colab": {
          "base_uri": "https://localhost:8080/"
        },
        "id": "oBmgpaieRH1t",
        "outputId": "7c205f65-bd8e-4022-96c2-748cce96035a"
      },
      "outputs": [],
      "source": [
        "!pip install prophet"
      ]
    },
    {
      "cell_type": "code",
      "execution_count": null,
      "metadata": {
        "id": "CgNbIPrzRH1t"
      },
      "outputs": [],
      "source": [
        "# doing the time series forecasting\n",
        "\n",
        "from prophet import Prophet"
      ]
    },
    {
      "cell_type": "code",
      "execution_count": null,
      "metadata": {
        "colab": {
          "base_uri": "https://localhost:8080/",
          "height": 365
        },
        "id": "fA0a0wkfRH1t",
        "outputId": "52832c8c-969f-4eb6-bdca-6921b9657047"
      },
      "outputs": [],
      "source": [
        "# decoding the label encoded columns\n",
        "\n",
        "# saving the mapping of the label encoders\n",
        "\n",
        "label_mapping = dict(zip(label_encoder.classes_, label_encoder.transform(label_encoder.classes_)))\n",
        "print(label_mapping['Afghanistan'])\n",
        "\n",
        "data['Country_Decoded'] = label_encoder.inverse_transform(data['Entity'])\n",
        "#data.head()"
      ]
    },
    {
      "cell_type": "code",
      "execution_count": null,
      "metadata": {
        "id": "ClnOOjTtRH1t"
      },
      "outputs": [],
      "source": [
        "# function to filter the data based on the country based on the user input\n",
        "\n",
        "def filter_data_by_country(data, country):\n",
        "  return data[data['Entity']==label_mapping[country]]"
      ]
    },
    {
      "cell_type": "code",
      "execution_count": null,
      "metadata": {
        "id": "qrtU1zlWRH1t"
      },
      "outputs": [],
      "source": [
        "# Assuming random_forest_features is defined somewhere in your code\n",
        "co2_emission_features = random_forest_features[0].copy()\n",
        "renewable_energy_percentage_features = random_forest_features[1].copy()\n",
        "features_list = [co2_emission_features, renewable_energy_percentage_features]\n",
        "\n",
        "# Assuming data_1 is defined somewhere in your code\n",
        "data_1 = data\n",
        "\n",
        "for column in features_list:\n",
        "  column.remove('Year')\n",
        "  column.remove('Entity')"
      ]
    },
    {
      "cell_type": "code",
      "execution_count": null,
      "metadata": {
        "id": "9WrcHLBVRH1t"
      },
      "outputs": [],
      "source": [
        "def predict_all_variables(country, data, input_year):\n",
        "    pred_dict = {\"co2_emission\": {}, \"renewable_energy_percentage\": {}}\n",
        "    feature_dict_keys = [\"co2_emission\", \"renewable_energy_percentage\"]\n",
        "\n",
        "    for idx, feature_set in enumerate(features_list):\n",
        "        for column in feature_set:\n",
        "            country_data = data_1[data_1['Country_Decoded'] == country][['Year', column]].copy()\n",
        "            country_data['ds'] = pd.to_datetime(country_data['Year'], format='%Y')\n",
        "            country_data['y'] = country_data[column]\n",
        "            country_data = country_data[['ds', 'y']]\n",
        "\n",
        "            m = Prophet()\n",
        "            m.fit(country_data)\n",
        "\n",
        "            future = m.make_future_dataframe(periods=15, freq='Y')\n",
        "            forecast = m.predict(future)\n",
        "            forecast['ds'] = pd.to_datetime(forecast['ds'])\n",
        "            forecast['year'] = forecast['ds'].dt.year\n",
        "\n",
        "            matching_row = forecast[forecast['year'] == input_year]\n",
        "            if not matching_row.empty:\n",
        "                pred_dict[feature_dict_keys[idx]][column] = matching_row['yhat'].values[0]\n",
        "            else:\n",
        "                pred_dict[feature_dict_keys[idx]][column] = None  # Handle the case where there's no matching row\n",
        "\n",
        "            # Visualization -\n",
        "            # a line plot that compares the actual historical data with the \n",
        "            # forecasted values from the Prophet model\n",
        "            fig, ax = plt.subplots(figsize=(10, 6))\n",
        "            ax.plot(country_data['ds'], country_data['y'], 'b-', label='Actual')\n",
        "            ax.plot(forecast['ds'], forecast['yhat'], 'r--', label='Predicted')\n",
        "            ax.fill_between(forecast['ds'], forecast['yhat_lower'], forecast['yhat_upper'], color='gray', alpha=0.2)\n",
        "            plt.title(f'Actual vs Predicted {column} for {country}')\n",
        "            plt.xlabel('Year')\n",
        "            plt.ylabel(column)\n",
        "            plt.legend()\n",
        "            plt.show()\n",
        "\n",
        "    return pred_dict"
      ]
    },
    {
      "cell_type": "code",
      "execution_count": null,
      "metadata": {
        "colab": {
          "base_uri": "https://localhost:8080/"
        },
        "id": "xwJzLGrARH1u",
        "outputId": "56d6913c-4b7b-4726-d273-30953235efb8"
      },
      "outputs": [],
      "source": [
        "predicted_values = predict_all_variables('Afghanistan', data_1, 2022 )\n",
        "input_data=predicted_values"
      ]
    },
    {
      "cell_type": "code",
      "execution_count": null,
      "metadata": {
        "colab": {
          "base_uri": "https://localhost:8080/"
        },
        "id": "5mxzIBUmRH1u",
        "outputId": "9f255512-eea8-46c4-90c1-8f16f9af39a7"
      },
      "outputs": [],
      "source": [
        "predicted_values"
      ]
    },
    {
      "cell_type": "code",
      "execution_count": null,
      "metadata": {
        "id": "Lx_P3-lcRH1u"
      },
      "outputs": [],
      "source": [
        "extra_columns=['co2_emission','renewable_energy_percentage']"
      ]
    },
    {
      "cell_type": "code",
      "execution_count": null,
      "metadata": {
        "id": "nQXsraTIRH1u"
      },
      "outputs": [],
      "source": [
        "for column in extra_columns:\n",
        "   input_data[column]['Year']=2022\n",
        "   input_data[column]['Entity']=label_mapping['Afghanistan']"
      ]
    },
    {
      "cell_type": "code",
      "execution_count": null,
      "metadata": {
        "colab": {
          "base_uri": "https://localhost:8080/"
        },
        "id": "myVnqXOARH1u",
        "outputId": "16028105-1b0f-4aa9-b46f-6916df8f04b6"
      },
      "outputs": [],
      "source": [
        "input_data"
      ]
    },
    {
      "cell_type": "code",
      "execution_count": null,
      "metadata": {
        "id": "gZyppFHQRH1u"
      },
      "outputs": [],
      "source": [
        "loaded_model_list=['./Random forest regressor model for Value_co2_emissions_kt_by_country', './Random forest regressor model for Renewable energy share in the total final energy consumption (%)']"
      ]
    },
    {
      "cell_type": "code",
      "execution_count": null,
      "metadata": {
        "colab": {
          "base_uri": "https://localhost:8080/"
        },
        "id": "ka5qOKd7RH1u",
        "outputId": "8db4fa22-9d8e-41d7-f267-c83d5c0d55be"
      },
      "outputs": [],
      "source": [
        "# Convert each inner dictionary to a DataFrame\n",
        "df_co2_emission = pd.DataFrame([input_data['co2_emission']])\n",
        "df_renewable_energy_percentage = pd.DataFrame([input_data['renewable_energy_percentage']])\n",
        "\n",
        "model_1=joblib.load(loaded_model_list[0])\n",
        "model_2=joblib.load(loaded_model_list[1])\n",
        "\n",
        "df_co2_emission=df_co2_emission[random_forest_features[0]]\n",
        "predicted_value_1 = model_1.predict(df_co2_emission)\n",
        "print(f\"The predicted value of the co_2 emission  is: {predicted_value_1[0]}\")\n",
        "\n",
        "df_renewable_energy_percentage=df_renewable_energy_percentage[random_forest_features[1]]\n",
        "predicted_value_2 = model_2.predict(df_renewable_energy_percentage)\n",
        "print(f\"The predicted value of the renewable energy consumption  is: {predicted_value_2[0]}\")"
      ]
    },
    {
      "cell_type": "markdown",
      "metadata": {
        "id": "PSlSgPzRRH1v"
      },
      "source": [
        "# Neural Network Training"
      ]
    },
    {
      "cell_type": "code",
      "execution_count": null,
      "metadata": {
        "colab": {
          "base_uri": "https://localhost:8080/"
        },
        "id": "N4KgZ-UYRH1v",
        "outputId": "4a9a929d-880f-47dc-bc7f-e39d4305d9c6"
      },
      "outputs": [],
      "source": [
        "!pip install tensorflow"
      ]
    },
    {
      "cell_type": "code",
      "execution_count": null,
      "metadata": {
        "id": "hJuWthfRRH1v"
      },
      "outputs": [],
      "source": [
        "import tensorflow as tf\n",
        "from tensorflow import keras\n",
        "from tensorflow.keras import layers"
      ]
    },
    {
      "cell_type": "code",
      "execution_count": null,
      "metadata": {
        "colab": {
          "base_uri": "https://localhost:8080/"
        },
        "id": "YwsKF2HURH1v",
        "outputId": "90d3fc5e-e2be-4a03-c975-932c8af71a64"
      },
      "outputs": [],
      "source": [
        "data.columns.to_list()"
      ]
    },
    {
      "cell_type": "code",
      "execution_count": null,
      "metadata": {
        "id": "Vn-RYzCqRH1v"
      },
      "outputs": [],
      "source": [
        "target_variables=['Value_co2_emissions_kt_by_country','Renewable energy share in the total final energy consumption (%)']"
      ]
    },
    {
      "cell_type": "code",
      "execution_count": null,
      "metadata": {
        "id": "lDnQuQ-FRH1v"
      },
      "outputs": [],
      "source": [
        "correlation_matrix =  data.select_dtypes(\"number\").corr()\n",
        "target_features = correlation_matrix[target_variables[0]].drop(target_variables[0])\n",
        "target_features = target_features[abs(target_features)>0.3].index.tolist()"
      ]
    },
    {
      "cell_type": "code",
      "execution_count": null,
      "metadata": {
        "id": "1nu7HESpRH1w"
      },
      "outputs": [],
      "source": [
        "from sklearn.preprocessing import StandardScaler\n",
        "\n",
        "columns=['Electricity from fossil fuels (TWh)', 'Land Area(Km2)','Value_co2_emissions_kt_by_country','Renewable energy share in the total final energy consumption (%)']\n",
        "\n",
        "scaler=StandardScaler()\n",
        "data[columns]=scaler.fit_transform(data[columns])"
      ]
    },
    {
      "cell_type": "code",
      "execution_count": null,
      "metadata": {
        "id": "m6FZGoa_RH1w"
      },
      "outputs": [],
      "source": [
        "from sklearn.model_selection import train_test_split\n",
        "\n",
        "X=data[target_features]\n",
        "y=data[target_variables[0]]\n",
        "\n",
        "X_train, X_test, y_train, y_test= train_test_split(X,y, random_state=42, test_size=0.2)"
      ]
    },
    {
      "cell_type": "code",
      "execution_count": null,
      "metadata": {
        "id": "O5DXBJ5FRH1w"
      },
      "outputs": [],
      "source": [
        "neural_network=keras.Sequential([\n",
        "    layers.Input(shape=(2,)),\n",
        "    layers.Dense(32, activation='relu'),\n",
        "    layers.Dense(1)\n",
        "])"
      ]
    },
    {
      "cell_type": "code",
      "execution_count": null,
      "metadata": {
        "id": "j2wZIlKARH1w"
      },
      "outputs": [],
      "source": [
        "neural_network.compile(optimizer='adam', loss='mean_squared_error')"
      ]
    },
    {
      "cell_type": "code",
      "execution_count": null,
      "metadata": {
        "colab": {
          "base_uri": "https://localhost:8080/"
        },
        "id": "Z44QY1UwRH1w",
        "outputId": "1d13e71f-a6c1-43c2-efd8-3bfd354cca1c"
      },
      "outputs": [],
      "source": [
        "history = neural_network.fit(X_train, y_train, epochs=40, batch_size=32)"
      ]
    },
    {
      "cell_type": "code",
      "execution_count": null,
      "metadata": {
        "colab": {
          "base_uri": "https://localhost:8080/"
        },
        "id": "UFPxoM2rRH1x",
        "outputId": "2d8b6f2c-c284-4b1e-d31f-9a3c0066d7a6"
      },
      "outputs": [],
      "source": [
        "from sklearn.metrics import mean_absolute_error\n",
        "from sklearn.metrics import mean_squared_error\n",
        "from sklearn.metrics import r2_score\n",
        "\n",
        "\n",
        "\n",
        "y_pred=neural_network.predict(X_test)\n",
        "# Make predictions\n",
        "y_pred_train = neural_network.predict(X_train)\n",
        "\n"
      ]
    },
    {
      "cell_type": "code",
      "execution_count": null,
      "metadata": {},
      "outputs": [],
      "source": [
        "# Plot training & validation loss values\n",
        "plt.figure(figsize=(10, 6))\n",
        "plt.plot(history.history['loss'], label='Train Loss')\n",
        "if 'val_loss' in history.history:\n",
        "    plt.plot(history.history['val_loss'], label='Validation Loss')\n",
        "plt.title('Model Loss')\n",
        "plt.ylabel('Loss')\n",
        "plt.xlabel('Epoch')\n",
        "plt.legend(loc='upper right')\n",
        "plt.show()\n",
        "\n",
        "# Plot actual vs predicted values for test set\n",
        "plt.figure(figsize=(10, 6))\n",
        "plt.plot(y_test.values, label='Actual')\n",
        "plt.plot(y_pred, label='Predicted')\n",
        "plt.title('Actual vs Predicted CO2 Emissions')\n",
        "plt.ylabel('CO2 Emissions (kt)')\n",
        "plt.xlabel('Samples')\n",
        "plt.legend()\n",
        "plt.show()"
      ]
    },
    {
      "cell_type": "code",
      "execution_count": null,
      "metadata": {},
      "outputs": [],
      "source": [
        "# calculating the scores based on the performance of the neural network\n",
        "\n",
        "mse = mean_squared_error(y_test, y_pred)\n",
        "mae = mean_absolute_error(y_test, y_pred)\n",
        "r2 = r2_score(y_test, y_pred)\n",
        "\n",
        "\n",
        "print(f\"Mean squared error (same as neural_network.evaluate()) is: {mse}\")\n",
        "print(f\"Mean absolute error is: {mae}\")\n",
        "print(f\"R2 score error is: {r2}\")"
      ]
    },
    {
      "cell_type": "code",
      "execution_count": null,
      "metadata": {
        "colab": {
          "base_uri": "https://localhost:8080/"
        },
        "id": "smo1cQpBRH1x",
        "outputId": "59d8d674-d2ea-4d28-c49d-7d96f0d9033b"
      },
      "outputs": [],
      "source": [
        "test_loss = neural_network.evaluate(X_test, y_test)\n",
        "print(f\"Test Loss: {test_loss:.4f}\")"
      ]
    }
  ],
  "metadata": {
    "accelerator": "GPU",
    "colab": {
      "gpuType": "T4",
      "provenance": []
    },
    "kernelspec": {
      "display_name": "wang",
      "language": "python",
      "name": "python3"
    },
    "language_info": {
      "codemirror_mode": {
        "name": "ipython",
        "version": 3
      },
      "file_extension": ".py",
      "mimetype": "text/x-python",
      "name": "python",
      "nbconvert_exporter": "python",
      "pygments_lexer": "ipython3",
      "version": "3.8.18"
    }
  },
  "nbformat": 4,
  "nbformat_minor": 0
}
