{
 "cells": [
  {
   "cell_type": "code",
   "execution_count": 1,
   "metadata": {},
   "outputs": [],
   "source": [
    "import pandas as pd\n",
    "import warnings\n",
    "import matplotlib.pyplot as plt\n",
    "import numpy as np\n",
    "import seaborn as sns\n",
    "import plotly.express as px\n",
    "# configs\n",
    "warnings.filterwarnings('ignore')\n",
    "%config InlineBackend.figure_format = 'retina'"
   ]
  },
  {
   "cell_type": "code",
   "execution_count": 2,
   "metadata": {},
   "outputs": [],
   "source": [
    "data= pd.read_csv('global-data-on-sustainable-energy.csv')"
   ]
  },
  {
   "cell_type": "markdown",
   "metadata": {},
   "source": [
    "#### Exploratory Data Analysis"
   ]
  },
  {
   "cell_type": "code",
   "execution_count": 3,
   "metadata": {},
   "outputs": [
    {
     "data": {
      "text/html": [
       "<div>\n",
       "<style scoped>\n",
       "    .dataframe tbody tr th:only-of-type {\n",
       "        vertical-align: middle;\n",
       "    }\n",
       "\n",
       "    .dataframe tbody tr th {\n",
       "        vertical-align: top;\n",
       "    }\n",
       "\n",
       "    .dataframe thead th {\n",
       "        text-align: right;\n",
       "    }\n",
       "</style>\n",
       "<table border=\"1\" class=\"dataframe\">\n",
       "  <thead>\n",
       "    <tr style=\"text-align: right;\">\n",
       "      <th></th>\n",
       "      <th>count</th>\n",
       "      <th>mean</th>\n",
       "      <th>std</th>\n",
       "      <th>min</th>\n",
       "      <th>25%</th>\n",
       "      <th>50%</th>\n",
       "      <th>75%</th>\n",
       "      <th>max</th>\n",
       "    </tr>\n",
       "  </thead>\n",
       "  <tbody>\n",
       "    <tr>\n",
       "      <th>Year</th>\n",
       "      <td>3649.0</td>\n",
       "      <td>2.010038e+03</td>\n",
       "      <td>6.054228e+00</td>\n",
       "      <td>2000.000000</td>\n",
       "      <td>2005.000000</td>\n",
       "      <td>2.010000e+03</td>\n",
       "      <td>2.015000e+03</td>\n",
       "      <td>2.020000e+03</td>\n",
       "    </tr>\n",
       "    <tr>\n",
       "      <th>Access to electricity (% of population)</th>\n",
       "      <td>3639.0</td>\n",
       "      <td>7.893370e+01</td>\n",
       "      <td>3.027554e+01</td>\n",
       "      <td>1.252269</td>\n",
       "      <td>59.800890</td>\n",
       "      <td>9.836157e+01</td>\n",
       "      <td>1.000000e+02</td>\n",
       "      <td>1.000000e+02</td>\n",
       "    </tr>\n",
       "    <tr>\n",
       "      <th>Access to clean fuels for cooking</th>\n",
       "      <td>3480.0</td>\n",
       "      <td>6.325529e+01</td>\n",
       "      <td>3.904366e+01</td>\n",
       "      <td>0.000000</td>\n",
       "      <td>23.175000</td>\n",
       "      <td>8.315000e+01</td>\n",
       "      <td>1.000000e+02</td>\n",
       "      <td>1.000000e+02</td>\n",
       "    </tr>\n",
       "    <tr>\n",
       "      <th>Renewable-electricity-generating-capacity-per-capita</th>\n",
       "      <td>2718.0</td>\n",
       "      <td>1.131375e+02</td>\n",
       "      <td>2.441673e+02</td>\n",
       "      <td>0.000000</td>\n",
       "      <td>3.540000</td>\n",
       "      <td>3.291000e+01</td>\n",
       "      <td>1.122100e+02</td>\n",
       "      <td>3.060190e+03</td>\n",
       "    </tr>\n",
       "    <tr>\n",
       "      <th>Financial flows to developing countries (US $)</th>\n",
       "      <td>1560.0</td>\n",
       "      <td>9.422400e+07</td>\n",
       "      <td>2.981544e+08</td>\n",
       "      <td>0.000000</td>\n",
       "      <td>260000.000000</td>\n",
       "      <td>5.665000e+06</td>\n",
       "      <td>5.534750e+07</td>\n",
       "      <td>5.202310e+09</td>\n",
       "    </tr>\n",
       "    <tr>\n",
       "      <th>Renewable energy share in the total final energy consumption (%)</th>\n",
       "      <td>3455.0</td>\n",
       "      <td>3.263816e+01</td>\n",
       "      <td>2.989490e+01</td>\n",
       "      <td>0.000000</td>\n",
       "      <td>6.515000</td>\n",
       "      <td>2.330000e+01</td>\n",
       "      <td>5.524500e+01</td>\n",
       "      <td>9.604000e+01</td>\n",
       "    </tr>\n",
       "    <tr>\n",
       "      <th>Electricity from fossil fuels (TWh)</th>\n",
       "      <td>3628.0</td>\n",
       "      <td>7.036500e+01</td>\n",
       "      <td>3.480519e+02</td>\n",
       "      <td>0.000000</td>\n",
       "      <td>0.290000</td>\n",
       "      <td>2.970000e+00</td>\n",
       "      <td>2.683750e+01</td>\n",
       "      <td>5.184130e+03</td>\n",
       "    </tr>\n",
       "    <tr>\n",
       "      <th>Electricity from nuclear (TWh)</th>\n",
       "      <td>3523.0</td>\n",
       "      <td>1.345019e+01</td>\n",
       "      <td>7.300662e+01</td>\n",
       "      <td>0.000000</td>\n",
       "      <td>0.000000</td>\n",
       "      <td>0.000000e+00</td>\n",
       "      <td>0.000000e+00</td>\n",
       "      <td>8.094100e+02</td>\n",
       "    </tr>\n",
       "    <tr>\n",
       "      <th>Electricity from renewables (TWh)</th>\n",
       "      <td>3628.0</td>\n",
       "      <td>2.396801e+01</td>\n",
       "      <td>1.044311e+02</td>\n",
       "      <td>0.000000</td>\n",
       "      <td>0.040000</td>\n",
       "      <td>1.470000e+00</td>\n",
       "      <td>9.600000e+00</td>\n",
       "      <td>2.184940e+03</td>\n",
       "    </tr>\n",
       "    <tr>\n",
       "      <th>Low-carbon electricity (% electricity)</th>\n",
       "      <td>3607.0</td>\n",
       "      <td>3.680118e+01</td>\n",
       "      <td>3.431488e+01</td>\n",
       "      <td>0.000000</td>\n",
       "      <td>2.877847</td>\n",
       "      <td>2.786507e+01</td>\n",
       "      <td>6.440379e+01</td>\n",
       "      <td>1.000000e+02</td>\n",
       "    </tr>\n",
       "    <tr>\n",
       "      <th>Primary energy consumption per capita (kWh/person)</th>\n",
       "      <td>3649.0</td>\n",
       "      <td>2.574398e+04</td>\n",
       "      <td>3.477322e+04</td>\n",
       "      <td>0.000000</td>\n",
       "      <td>3116.737300</td>\n",
       "      <td>1.312057e+04</td>\n",
       "      <td>3.389278e+04</td>\n",
       "      <td>2.625857e+05</td>\n",
       "    </tr>\n",
       "    <tr>\n",
       "      <th>Energy intensity level of primary energy (MJ/$2017 PPP GDP)</th>\n",
       "      <td>3442.0</td>\n",
       "      <td>5.307345e+00</td>\n",
       "      <td>3.532020e+00</td>\n",
       "      <td>0.110000</td>\n",
       "      <td>3.170000</td>\n",
       "      <td>4.300000e+00</td>\n",
       "      <td>6.027500e+00</td>\n",
       "      <td>3.257000e+01</td>\n",
       "    </tr>\n",
       "    <tr>\n",
       "      <th>Value_co2_emissions_kt_by_country</th>\n",
       "      <td>3221.0</td>\n",
       "      <td>1.598665e+05</td>\n",
       "      <td>7.736611e+05</td>\n",
       "      <td>10.000000</td>\n",
       "      <td>2019.999981</td>\n",
       "      <td>1.050000e+04</td>\n",
       "      <td>6.058000e+04</td>\n",
       "      <td>1.070722e+07</td>\n",
       "    </tr>\n",
       "    <tr>\n",
       "      <th>Renewables (% equivalent primary energy)</th>\n",
       "      <td>1512.0</td>\n",
       "      <td>1.198671e+01</td>\n",
       "      <td>1.499464e+01</td>\n",
       "      <td>0.000000</td>\n",
       "      <td>2.137095</td>\n",
       "      <td>6.290766e+00</td>\n",
       "      <td>1.684164e+01</td>\n",
       "      <td>8.683659e+01</td>\n",
       "    </tr>\n",
       "    <tr>\n",
       "      <th>gdp_growth</th>\n",
       "      <td>3332.0</td>\n",
       "      <td>3.441610e+00</td>\n",
       "      <td>5.686720e+00</td>\n",
       "      <td>-62.075920</td>\n",
       "      <td>1.383302</td>\n",
       "      <td>3.559855e+00</td>\n",
       "      <td>5.830099e+00</td>\n",
       "      <td>1.231396e+02</td>\n",
       "    </tr>\n",
       "    <tr>\n",
       "      <th>gdp_per_capita</th>\n",
       "      <td>3367.0</td>\n",
       "      <td>1.328377e+04</td>\n",
       "      <td>1.970987e+04</td>\n",
       "      <td>111.927225</td>\n",
       "      <td>1337.813437</td>\n",
       "      <td>4.578633e+03</td>\n",
       "      <td>1.576862e+04</td>\n",
       "      <td>1.235142e+05</td>\n",
       "    </tr>\n",
       "    <tr>\n",
       "      <th>Land Area(Km2)</th>\n",
       "      <td>3648.0</td>\n",
       "      <td>6.332135e+05</td>\n",
       "      <td>1.585519e+06</td>\n",
       "      <td>21.000000</td>\n",
       "      <td>25713.000000</td>\n",
       "      <td>1.176000e+05</td>\n",
       "      <td>5.131200e+05</td>\n",
       "      <td>9.984670e+06</td>\n",
       "    </tr>\n",
       "    <tr>\n",
       "      <th>Latitude</th>\n",
       "      <td>3648.0</td>\n",
       "      <td>1.824639e+01</td>\n",
       "      <td>2.415923e+01</td>\n",
       "      <td>-40.900557</td>\n",
       "      <td>3.202778</td>\n",
       "      <td>1.718988e+01</td>\n",
       "      <td>3.896972e+01</td>\n",
       "      <td>6.496305e+01</td>\n",
       "    </tr>\n",
       "    <tr>\n",
       "      <th>Longitude</th>\n",
       "      <td>3648.0</td>\n",
       "      <td>1.482269e+01</td>\n",
       "      <td>6.634815e+01</td>\n",
       "      <td>-175.198242</td>\n",
       "      <td>-11.779889</td>\n",
       "      <td>1.914514e+01</td>\n",
       "      <td>4.619962e+01</td>\n",
       "      <td>1.780650e+02</td>\n",
       "    </tr>\n",
       "  </tbody>\n",
       "</table>\n",
       "</div>"
      ],
      "text/plain": [
       "                                                     count          mean  \\\n",
       "Year                                                3649.0  2.010038e+03   \n",
       "Access to electricity (% of population)             3639.0  7.893370e+01   \n",
       "Access to clean fuels for cooking                   3480.0  6.325529e+01   \n",
       "Renewable-electricity-generating-capacity-per-c...  2718.0  1.131375e+02   \n",
       "Financial flows to developing countries (US $)      1560.0  9.422400e+07   \n",
       "Renewable energy share in the total final energ...  3455.0  3.263816e+01   \n",
       "Electricity from fossil fuels (TWh)                 3628.0  7.036500e+01   \n",
       "Electricity from nuclear (TWh)                      3523.0  1.345019e+01   \n",
       "Electricity from renewables (TWh)                   3628.0  2.396801e+01   \n",
       "Low-carbon electricity (% electricity)              3607.0  3.680118e+01   \n",
       "Primary energy consumption per capita (kWh/person)  3649.0  2.574398e+04   \n",
       "Energy intensity level of primary energy (MJ/$2...  3442.0  5.307345e+00   \n",
       "Value_co2_emissions_kt_by_country                   3221.0  1.598665e+05   \n",
       "Renewables (% equivalent primary energy)            1512.0  1.198671e+01   \n",
       "gdp_growth                                          3332.0  3.441610e+00   \n",
       "gdp_per_capita                                      3367.0  1.328377e+04   \n",
       "Land Area(Km2)                                      3648.0  6.332135e+05   \n",
       "Latitude                                            3648.0  1.824639e+01   \n",
       "Longitude                                           3648.0  1.482269e+01   \n",
       "\n",
       "                                                             std          min  \\\n",
       "Year                                                6.054228e+00  2000.000000   \n",
       "Access to electricity (% of population)             3.027554e+01     1.252269   \n",
       "Access to clean fuels for cooking                   3.904366e+01     0.000000   \n",
       "Renewable-electricity-generating-capacity-per-c...  2.441673e+02     0.000000   \n",
       "Financial flows to developing countries (US $)      2.981544e+08     0.000000   \n",
       "Renewable energy share in the total final energ...  2.989490e+01     0.000000   \n",
       "Electricity from fossil fuels (TWh)                 3.480519e+02     0.000000   \n",
       "Electricity from nuclear (TWh)                      7.300662e+01     0.000000   \n",
       "Electricity from renewables (TWh)                   1.044311e+02     0.000000   \n",
       "Low-carbon electricity (% electricity)              3.431488e+01     0.000000   \n",
       "Primary energy consumption per capita (kWh/person)  3.477322e+04     0.000000   \n",
       "Energy intensity level of primary energy (MJ/$2...  3.532020e+00     0.110000   \n",
       "Value_co2_emissions_kt_by_country                   7.736611e+05    10.000000   \n",
       "Renewables (% equivalent primary energy)            1.499464e+01     0.000000   \n",
       "gdp_growth                                          5.686720e+00   -62.075920   \n",
       "gdp_per_capita                                      1.970987e+04   111.927225   \n",
       "Land Area(Km2)                                      1.585519e+06    21.000000   \n",
       "Latitude                                            2.415923e+01   -40.900557   \n",
       "Longitude                                           6.634815e+01  -175.198242   \n",
       "\n",
       "                                                              25%  \\\n",
       "Year                                                  2005.000000   \n",
       "Access to electricity (% of population)                 59.800890   \n",
       "Access to clean fuels for cooking                       23.175000   \n",
       "Renewable-electricity-generating-capacity-per-c...       3.540000   \n",
       "Financial flows to developing countries (US $)      260000.000000   \n",
       "Renewable energy share in the total final energ...       6.515000   \n",
       "Electricity from fossil fuels (TWh)                      0.290000   \n",
       "Electricity from nuclear (TWh)                           0.000000   \n",
       "Electricity from renewables (TWh)                        0.040000   \n",
       "Low-carbon electricity (% electricity)                   2.877847   \n",
       "Primary energy consumption per capita (kWh/person)    3116.737300   \n",
       "Energy intensity level of primary energy (MJ/$2...       3.170000   \n",
       "Value_co2_emissions_kt_by_country                     2019.999981   \n",
       "Renewables (% equivalent primary energy)                 2.137095   \n",
       "gdp_growth                                               1.383302   \n",
       "gdp_per_capita                                        1337.813437   \n",
       "Land Area(Km2)                                       25713.000000   \n",
       "Latitude                                                 3.202778   \n",
       "Longitude                                              -11.779889   \n",
       "\n",
       "                                                             50%  \\\n",
       "Year                                                2.010000e+03   \n",
       "Access to electricity (% of population)             9.836157e+01   \n",
       "Access to clean fuels for cooking                   8.315000e+01   \n",
       "Renewable-electricity-generating-capacity-per-c...  3.291000e+01   \n",
       "Financial flows to developing countries (US $)      5.665000e+06   \n",
       "Renewable energy share in the total final energ...  2.330000e+01   \n",
       "Electricity from fossil fuels (TWh)                 2.970000e+00   \n",
       "Electricity from nuclear (TWh)                      0.000000e+00   \n",
       "Electricity from renewables (TWh)                   1.470000e+00   \n",
       "Low-carbon electricity (% electricity)              2.786507e+01   \n",
       "Primary energy consumption per capita (kWh/person)  1.312057e+04   \n",
       "Energy intensity level of primary energy (MJ/$2...  4.300000e+00   \n",
       "Value_co2_emissions_kt_by_country                   1.050000e+04   \n",
       "Renewables (% equivalent primary energy)            6.290766e+00   \n",
       "gdp_growth                                          3.559855e+00   \n",
       "gdp_per_capita                                      4.578633e+03   \n",
       "Land Area(Km2)                                      1.176000e+05   \n",
       "Latitude                                            1.718988e+01   \n",
       "Longitude                                           1.914514e+01   \n",
       "\n",
       "                                                             75%           max  \n",
       "Year                                                2.015000e+03  2.020000e+03  \n",
       "Access to electricity (% of population)             1.000000e+02  1.000000e+02  \n",
       "Access to clean fuels for cooking                   1.000000e+02  1.000000e+02  \n",
       "Renewable-electricity-generating-capacity-per-c...  1.122100e+02  3.060190e+03  \n",
       "Financial flows to developing countries (US $)      5.534750e+07  5.202310e+09  \n",
       "Renewable energy share in the total final energ...  5.524500e+01  9.604000e+01  \n",
       "Electricity from fossil fuels (TWh)                 2.683750e+01  5.184130e+03  \n",
       "Electricity from nuclear (TWh)                      0.000000e+00  8.094100e+02  \n",
       "Electricity from renewables (TWh)                   9.600000e+00  2.184940e+03  \n",
       "Low-carbon electricity (% electricity)              6.440379e+01  1.000000e+02  \n",
       "Primary energy consumption per capita (kWh/person)  3.389278e+04  2.625857e+05  \n",
       "Energy intensity level of primary energy (MJ/$2...  6.027500e+00  3.257000e+01  \n",
       "Value_co2_emissions_kt_by_country                   6.058000e+04  1.070722e+07  \n",
       "Renewables (% equivalent primary energy)            1.684164e+01  8.683659e+01  \n",
       "gdp_growth                                          5.830099e+00  1.231396e+02  \n",
       "gdp_per_capita                                      1.576862e+04  1.235142e+05  \n",
       "Land Area(Km2)                                      5.131200e+05  9.984670e+06  \n",
       "Latitude                                            3.896972e+01  6.496305e+01  \n",
       "Longitude                                           4.619962e+01  1.780650e+02  "
      ]
     },
     "execution_count": 3,
     "metadata": {},
     "output_type": "execute_result"
    }
   ],
   "source": [
    "data.describe().transpose()"
   ]
  },
  {
   "cell_type": "code",
   "execution_count": 4,
   "metadata": {},
   "outputs": [
    {
     "data": {
      "application/vnd.plotly.v1+json": {
       "config": {
        "plotlyServerURL": "https://plot.ly"
       },
       "data": [
        {
         "coloraxis": "coloraxis",
         "geo": "geo",
         "hovertemplate": "<b>%{hovertext}</b><br><br>Entity=%{location}<br>Access to electricity (% of population)=%{z}<extra></extra>",
         "hovertext": [
          "Afghanistan",
          "Albania",
          "Algeria",
          "Angola",
          "Antigua and Barbuda",
          "Argentina",
          "Armenia",
          "Aruba",
          "Australia",
          "Austria",
          "Azerbaijan",
          "Bahamas",
          "Bahrain",
          "Bangladesh",
          "Barbados",
          "Belarus",
          "Belgium",
          "Belize",
          "Benin",
          "Bermuda",
          "Bhutan",
          "Bosnia and Herzegovina",
          "Botswana",
          "Brazil",
          "Bulgaria",
          "Burkina Faso",
          "Burundi",
          "Cambodia",
          "Cameroon",
          "Canada",
          "Cayman Islands",
          "Central African Republic",
          "Chad",
          "Chile",
          "China",
          "Colombia",
          "Comoros",
          "Congo",
          "Costa Rica",
          "Croatia",
          "Cuba",
          "Cyprus",
          "Czechia",
          "Denmark",
          "Djibouti",
          "Dominica",
          "Dominican Republic",
          "Ecuador",
          "Egypt",
          "El Salvador",
          "Equatorial Guinea",
          "Eritrea",
          "Estonia",
          "Eswatini",
          "Ethiopia",
          "Fiji",
          "Finland",
          "France",
          "Gabon",
          "Gambia",
          "Georgia",
          "Germany",
          "Ghana",
          "Greece",
          "Grenada",
          "Guatemala",
          "Guinea",
          "Guinea-Bissau",
          "Guyana",
          "Haiti",
          "Honduras",
          "Hungary",
          "Iceland",
          "India",
          "Indonesia",
          "Iraq",
          "Ireland",
          "Israel",
          "Italy",
          "Jamaica",
          "Japan",
          "Jordan",
          "Kazakhstan",
          "Kenya",
          "Kiribati",
          "Kuwait",
          "Kyrgyzstan",
          "Latvia",
          "Lebanon",
          "Lesotho",
          "Liberia",
          "Libya",
          "Lithuania",
          "Luxembourg",
          "Madagascar",
          "Malawi",
          "Malaysia",
          "Maldives",
          "Mali",
          "Malta",
          "Mauritania",
          "Mauritius",
          "Mexico",
          "Mongolia",
          "Montenegro",
          "Morocco",
          "Mozambique",
          "Myanmar",
          "Namibia",
          "Nauru",
          "Nepal",
          "Netherlands",
          "New Caledonia",
          "New Zealand",
          "Nicaragua",
          "Niger",
          "Nigeria",
          "North Macedonia",
          "Norway",
          "Oman",
          "Pakistan",
          "Panama",
          "Papua New Guinea",
          "Paraguay",
          "Peru",
          "Philippines",
          "Poland",
          "Portugal",
          "Puerto Rico",
          "Qatar",
          "Romania",
          "Rwanda",
          "Saint Kitts and Nevis",
          "Saint Lucia",
          "Saint Vincent and the Grenadines",
          "Samoa",
          "Sao Tome and Principe",
          "Saudi Arabia",
          "Senegal",
          "Serbia",
          "Seychelles",
          "Sierra Leone",
          "Singapore",
          "Slovakia",
          "Slovenia",
          "Solomon Islands",
          "Somalia",
          "South Africa",
          "South Sudan",
          "Spain",
          "Sri Lanka",
          "Sudan",
          "Suriname",
          "Sweden",
          "Switzerland",
          "Tajikistan",
          "Thailand",
          "Togo",
          "Tonga",
          "Trinidad and Tobago",
          "Tunisia",
          "Turkey",
          "Turkmenistan",
          "Tuvalu",
          "Uganda",
          "Ukraine",
          "United Arab Emirates",
          "United Kingdom",
          "United States",
          "Uruguay",
          "Uzbekistan",
          "Vanuatu",
          "Yemen",
          "Zambia",
          "Zimbabwe"
         ],
         "locationmode": "country names",
         "locations": [
          "Afghanistan",
          "Albania",
          "Algeria",
          "Angola",
          "Antigua and Barbuda",
          "Argentina",
          "Armenia",
          "Aruba",
          "Australia",
          "Austria",
          "Azerbaijan",
          "Bahamas",
          "Bahrain",
          "Bangladesh",
          "Barbados",
          "Belarus",
          "Belgium",
          "Belize",
          "Benin",
          "Bermuda",
          "Bhutan",
          "Bosnia and Herzegovina",
          "Botswana",
          "Brazil",
          "Bulgaria",
          "Burkina Faso",
          "Burundi",
          "Cambodia",
          "Cameroon",
          "Canada",
          "Cayman Islands",
          "Central African Republic",
          "Chad",
          "Chile",
          "China",
          "Colombia",
          "Comoros",
          "Congo",
          "Costa Rica",
          "Croatia",
          "Cuba",
          "Cyprus",
          "Czechia",
          "Denmark",
          "Djibouti",
          "Dominica",
          "Dominican Republic",
          "Ecuador",
          "Egypt",
          "El Salvador",
          "Equatorial Guinea",
          "Eritrea",
          "Estonia",
          "Eswatini",
          "Ethiopia",
          "Fiji",
          "Finland",
          "France",
          "Gabon",
          "Gambia",
          "Georgia",
          "Germany",
          "Ghana",
          "Greece",
          "Grenada",
          "Guatemala",
          "Guinea",
          "Guinea-Bissau",
          "Guyana",
          "Haiti",
          "Honduras",
          "Hungary",
          "Iceland",
          "India",
          "Indonesia",
          "Iraq",
          "Ireland",
          "Israel",
          "Italy",
          "Jamaica",
          "Japan",
          "Jordan",
          "Kazakhstan",
          "Kenya",
          "Kiribati",
          "Kuwait",
          "Kyrgyzstan",
          "Latvia",
          "Lebanon",
          "Lesotho",
          "Liberia",
          "Libya",
          "Lithuania",
          "Luxembourg",
          "Madagascar",
          "Malawi",
          "Malaysia",
          "Maldives",
          "Mali",
          "Malta",
          "Mauritania",
          "Mauritius",
          "Mexico",
          "Mongolia",
          "Montenegro",
          "Morocco",
          "Mozambique",
          "Myanmar",
          "Namibia",
          "Nauru",
          "Nepal",
          "Netherlands",
          "New Caledonia",
          "New Zealand",
          "Nicaragua",
          "Niger",
          "Nigeria",
          "North Macedonia",
          "Norway",
          "Oman",
          "Pakistan",
          "Panama",
          "Papua New Guinea",
          "Paraguay",
          "Peru",
          "Philippines",
          "Poland",
          "Portugal",
          "Puerto Rico",
          "Qatar",
          "Romania",
          "Rwanda",
          "Saint Kitts and Nevis",
          "Saint Lucia",
          "Saint Vincent and the Grenadines",
          "Samoa",
          "Sao Tome and Principe",
          "Saudi Arabia",
          "Senegal",
          "Serbia",
          "Seychelles",
          "Sierra Leone",
          "Singapore",
          "Slovakia",
          "Slovenia",
          "Solomon Islands",
          "Somalia",
          "South Africa",
          "South Sudan",
          "Spain",
          "Sri Lanka",
          "Sudan",
          "Suriname",
          "Sweden",
          "Switzerland",
          "Tajikistan",
          "Thailand",
          "Togo",
          "Tonga",
          "Trinidad and Tobago",
          "Tunisia",
          "Turkey",
          "Turkmenistan",
          "Tuvalu",
          "Uganda",
          "Ukraine",
          "United Arab Emirates",
          "United Kingdom",
          "United States",
          "Uruguay",
          "Uzbekistan",
          "Vanuatu",
          "Yemen",
          "Zambia",
          "Zimbabwe"
         ],
         "name": "",
         "type": "choropleth",
         "z": [
          97.7,
          100,
          99.80413,
          46.89061,
          100,
          100,
          100,
          100,
          100,
          100,
          100,
          100,
          100,
          96.2,
          100,
          100,
          100,
          97.113335,
          41.410957,
          100,
          100,
          100,
          71.99476,
          100,
          99.7,
          18.95724,
          11.735556,
          86.4,
          64.72137,
          100,
          100,
          15.465084,
          11.080117,
          100,
          100,
          100,
          86.73714,
          49.5171,
          99.9,
          100,
          100,
          100,
          100,
          100,
          61.767082,
          100,
          100,
          98.85,
          100,
          100,
          66.74773,
          52.171097,
          100,
          79.7305,
          51.093983,
          100,
          100,
          100,
          91.57156,
          62.273067,
          100,
          100,
          85.87355,
          100,
          93.58645,
          97.05527,
          44.66868,
          33.33547,
          92.54054,
          46.925533,
          93.20671,
          100,
          100,
          99,
          96.95,
          100,
          100,
          100,
          100,
          100,
          100,
          99.9,
          100,
          71.43794,
          91.96303,
          100,
          99.98105,
          100,
          100,
          47.352737,
          27.53471,
          69.70735,
          100,
          100,
          33.735077,
          14.866769,
          100,
          100,
          50.561417,
          100,
          47.34842,
          99.66165,
          99.4,
          98.1,
          100,
          100,
          30.603832,
          70.397194,
          56.258694,
          100,
          89.9,
          100,
          100,
          100,
          88.90738,
          19.25191,
          55.4,
          100,
          100,
          100,
          75.37969,
          96.704636,
          60.4,
          100,
          99.31181,
          96.842384,
          100,
          100,
          100,
          100,
          100,
          46.6,
          100,
          100,
          100,
          100,
          76.55909,
          100,
          70.36894,
          100,
          100,
          26.200886,
          100,
          100,
          100,
          73.34648,
          49.73087,
          84.38554,
          7.2413383,
          100,
          100,
          55.3897,
          98.20477,
          100,
          100,
          99.7793,
          100,
          53.997433,
          100,
          100,
          100,
          100,
          100,
          99.68923,
          42.074417,
          100,
          100,
          100,
          100,
          100,
          100,
          67.33327,
          73.75793,
          44.524475,
          52.74767
         ]
        }
       ],
       "layout": {
        "coloraxis": {
         "colorbar": {
          "title": {
           "text": "Access to electricity (% of population)"
          }
         },
         "colorscale": [
          [
           0,
           "#0d0887"
          ],
          [
           0.1111111111111111,
           "#46039f"
          ],
          [
           0.2222222222222222,
           "#7201a8"
          ],
          [
           0.3333333333333333,
           "#9c179e"
          ],
          [
           0.4444444444444444,
           "#bd3786"
          ],
          [
           0.5555555555555556,
           "#d8576b"
          ],
          [
           0.6666666666666666,
           "#ed7953"
          ],
          [
           0.7777777777777778,
           "#fb9f3a"
          ],
          [
           0.8888888888888888,
           "#fdca26"
          ],
          [
           1,
           "#f0f921"
          ]
         ]
        },
        "geo": {
         "center": {},
         "domain": {
          "x": [
           0,
           1
          ],
          "y": [
           0,
           1
          ]
         }
        },
        "legend": {
         "tracegroupgap": 0
        },
        "template": {
         "data": {
          "bar": [
           {
            "error_x": {
             "color": "#2a3f5f"
            },
            "error_y": {
             "color": "#2a3f5f"
            },
            "marker": {
             "line": {
              "color": "#E5ECF6",
              "width": 0.5
             },
             "pattern": {
              "fillmode": "overlay",
              "size": 10,
              "solidity": 0.2
             }
            },
            "type": "bar"
           }
          ],
          "barpolar": [
           {
            "marker": {
             "line": {
              "color": "#E5ECF6",
              "width": 0.5
             },
             "pattern": {
              "fillmode": "overlay",
              "size": 10,
              "solidity": 0.2
             }
            },
            "type": "barpolar"
           }
          ],
          "carpet": [
           {
            "aaxis": {
             "endlinecolor": "#2a3f5f",
             "gridcolor": "white",
             "linecolor": "white",
             "minorgridcolor": "white",
             "startlinecolor": "#2a3f5f"
            },
            "baxis": {
             "endlinecolor": "#2a3f5f",
             "gridcolor": "white",
             "linecolor": "white",
             "minorgridcolor": "white",
             "startlinecolor": "#2a3f5f"
            },
            "type": "carpet"
           }
          ],
          "choropleth": [
           {
            "colorbar": {
             "outlinewidth": 0,
             "ticks": ""
            },
            "type": "choropleth"
           }
          ],
          "contour": [
           {
            "colorbar": {
             "outlinewidth": 0,
             "ticks": ""
            },
            "colorscale": [
             [
              0,
              "#0d0887"
             ],
             [
              0.1111111111111111,
              "#46039f"
             ],
             [
              0.2222222222222222,
              "#7201a8"
             ],
             [
              0.3333333333333333,
              "#9c179e"
             ],
             [
              0.4444444444444444,
              "#bd3786"
             ],
             [
              0.5555555555555556,
              "#d8576b"
             ],
             [
              0.6666666666666666,
              "#ed7953"
             ],
             [
              0.7777777777777778,
              "#fb9f3a"
             ],
             [
              0.8888888888888888,
              "#fdca26"
             ],
             [
              1,
              "#f0f921"
             ]
            ],
            "type": "contour"
           }
          ],
          "contourcarpet": [
           {
            "colorbar": {
             "outlinewidth": 0,
             "ticks": ""
            },
            "type": "contourcarpet"
           }
          ],
          "heatmap": [
           {
            "colorbar": {
             "outlinewidth": 0,
             "ticks": ""
            },
            "colorscale": [
             [
              0,
              "#0d0887"
             ],
             [
              0.1111111111111111,
              "#46039f"
             ],
             [
              0.2222222222222222,
              "#7201a8"
             ],
             [
              0.3333333333333333,
              "#9c179e"
             ],
             [
              0.4444444444444444,
              "#bd3786"
             ],
             [
              0.5555555555555556,
              "#d8576b"
             ],
             [
              0.6666666666666666,
              "#ed7953"
             ],
             [
              0.7777777777777778,
              "#fb9f3a"
             ],
             [
              0.8888888888888888,
              "#fdca26"
             ],
             [
              1,
              "#f0f921"
             ]
            ],
            "type": "heatmap"
           }
          ],
          "heatmapgl": [
           {
            "colorbar": {
             "outlinewidth": 0,
             "ticks": ""
            },
            "colorscale": [
             [
              0,
              "#0d0887"
             ],
             [
              0.1111111111111111,
              "#46039f"
             ],
             [
              0.2222222222222222,
              "#7201a8"
             ],
             [
              0.3333333333333333,
              "#9c179e"
             ],
             [
              0.4444444444444444,
              "#bd3786"
             ],
             [
              0.5555555555555556,
              "#d8576b"
             ],
             [
              0.6666666666666666,
              "#ed7953"
             ],
             [
              0.7777777777777778,
              "#fb9f3a"
             ],
             [
              0.8888888888888888,
              "#fdca26"
             ],
             [
              1,
              "#f0f921"
             ]
            ],
            "type": "heatmapgl"
           }
          ],
          "histogram": [
           {
            "marker": {
             "pattern": {
              "fillmode": "overlay",
              "size": 10,
              "solidity": 0.2
             }
            },
            "type": "histogram"
           }
          ],
          "histogram2d": [
           {
            "colorbar": {
             "outlinewidth": 0,
             "ticks": ""
            },
            "colorscale": [
             [
              0,
              "#0d0887"
             ],
             [
              0.1111111111111111,
              "#46039f"
             ],
             [
              0.2222222222222222,
              "#7201a8"
             ],
             [
              0.3333333333333333,
              "#9c179e"
             ],
             [
              0.4444444444444444,
              "#bd3786"
             ],
             [
              0.5555555555555556,
              "#d8576b"
             ],
             [
              0.6666666666666666,
              "#ed7953"
             ],
             [
              0.7777777777777778,
              "#fb9f3a"
             ],
             [
              0.8888888888888888,
              "#fdca26"
             ],
             [
              1,
              "#f0f921"
             ]
            ],
            "type": "histogram2d"
           }
          ],
          "histogram2dcontour": [
           {
            "colorbar": {
             "outlinewidth": 0,
             "ticks": ""
            },
            "colorscale": [
             [
              0,
              "#0d0887"
             ],
             [
              0.1111111111111111,
              "#46039f"
             ],
             [
              0.2222222222222222,
              "#7201a8"
             ],
             [
              0.3333333333333333,
              "#9c179e"
             ],
             [
              0.4444444444444444,
              "#bd3786"
             ],
             [
              0.5555555555555556,
              "#d8576b"
             ],
             [
              0.6666666666666666,
              "#ed7953"
             ],
             [
              0.7777777777777778,
              "#fb9f3a"
             ],
             [
              0.8888888888888888,
              "#fdca26"
             ],
             [
              1,
              "#f0f921"
             ]
            ],
            "type": "histogram2dcontour"
           }
          ],
          "mesh3d": [
           {
            "colorbar": {
             "outlinewidth": 0,
             "ticks": ""
            },
            "type": "mesh3d"
           }
          ],
          "parcoords": [
           {
            "line": {
             "colorbar": {
              "outlinewidth": 0,
              "ticks": ""
             }
            },
            "type": "parcoords"
           }
          ],
          "pie": [
           {
            "automargin": true,
            "type": "pie"
           }
          ],
          "scatter": [
           {
            "fillpattern": {
             "fillmode": "overlay",
             "size": 10,
             "solidity": 0.2
            },
            "type": "scatter"
           }
          ],
          "scatter3d": [
           {
            "line": {
             "colorbar": {
              "outlinewidth": 0,
              "ticks": ""
             }
            },
            "marker": {
             "colorbar": {
              "outlinewidth": 0,
              "ticks": ""
             }
            },
            "type": "scatter3d"
           }
          ],
          "scattercarpet": [
           {
            "marker": {
             "colorbar": {
              "outlinewidth": 0,
              "ticks": ""
             }
            },
            "type": "scattercarpet"
           }
          ],
          "scattergeo": [
           {
            "marker": {
             "colorbar": {
              "outlinewidth": 0,
              "ticks": ""
             }
            },
            "type": "scattergeo"
           }
          ],
          "scattergl": [
           {
            "marker": {
             "colorbar": {
              "outlinewidth": 0,
              "ticks": ""
             }
            },
            "type": "scattergl"
           }
          ],
          "scattermapbox": [
           {
            "marker": {
             "colorbar": {
              "outlinewidth": 0,
              "ticks": ""
             }
            },
            "type": "scattermapbox"
           }
          ],
          "scatterpolar": [
           {
            "marker": {
             "colorbar": {
              "outlinewidth": 0,
              "ticks": ""
             }
            },
            "type": "scatterpolar"
           }
          ],
          "scatterpolargl": [
           {
            "marker": {
             "colorbar": {
              "outlinewidth": 0,
              "ticks": ""
             }
            },
            "type": "scatterpolargl"
           }
          ],
          "scatterternary": [
           {
            "marker": {
             "colorbar": {
              "outlinewidth": 0,
              "ticks": ""
             }
            },
            "type": "scatterternary"
           }
          ],
          "surface": [
           {
            "colorbar": {
             "outlinewidth": 0,
             "ticks": ""
            },
            "colorscale": [
             [
              0,
              "#0d0887"
             ],
             [
              0.1111111111111111,
              "#46039f"
             ],
             [
              0.2222222222222222,
              "#7201a8"
             ],
             [
              0.3333333333333333,
              "#9c179e"
             ],
             [
              0.4444444444444444,
              "#bd3786"
             ],
             [
              0.5555555555555556,
              "#d8576b"
             ],
             [
              0.6666666666666666,
              "#ed7953"
             ],
             [
              0.7777777777777778,
              "#fb9f3a"
             ],
             [
              0.8888888888888888,
              "#fdca26"
             ],
             [
              1,
              "#f0f921"
             ]
            ],
            "type": "surface"
           }
          ],
          "table": [
           {
            "cells": {
             "fill": {
              "color": "#EBF0F8"
             },
             "line": {
              "color": "white"
             }
            },
            "header": {
             "fill": {
              "color": "#C8D4E3"
             },
             "line": {
              "color": "white"
             }
            },
            "type": "table"
           }
          ]
         },
         "layout": {
          "annotationdefaults": {
           "arrowcolor": "#2a3f5f",
           "arrowhead": 0,
           "arrowwidth": 1
          },
          "autotypenumbers": "strict",
          "coloraxis": {
           "colorbar": {
            "outlinewidth": 0,
            "ticks": ""
           }
          },
          "colorscale": {
           "diverging": [
            [
             0,
             "#8e0152"
            ],
            [
             0.1,
             "#c51b7d"
            ],
            [
             0.2,
             "#de77ae"
            ],
            [
             0.3,
             "#f1b6da"
            ],
            [
             0.4,
             "#fde0ef"
            ],
            [
             0.5,
             "#f7f7f7"
            ],
            [
             0.6,
             "#e6f5d0"
            ],
            [
             0.7,
             "#b8e186"
            ],
            [
             0.8,
             "#7fbc41"
            ],
            [
             0.9,
             "#4d9221"
            ],
            [
             1,
             "#276419"
            ]
           ],
           "sequential": [
            [
             0,
             "#0d0887"
            ],
            [
             0.1111111111111111,
             "#46039f"
            ],
            [
             0.2222222222222222,
             "#7201a8"
            ],
            [
             0.3333333333333333,
             "#9c179e"
            ],
            [
             0.4444444444444444,
             "#bd3786"
            ],
            [
             0.5555555555555556,
             "#d8576b"
            ],
            [
             0.6666666666666666,
             "#ed7953"
            ],
            [
             0.7777777777777778,
             "#fb9f3a"
            ],
            [
             0.8888888888888888,
             "#fdca26"
            ],
            [
             1,
             "#f0f921"
            ]
           ],
           "sequentialminus": [
            [
             0,
             "#0d0887"
            ],
            [
             0.1111111111111111,
             "#46039f"
            ],
            [
             0.2222222222222222,
             "#7201a8"
            ],
            [
             0.3333333333333333,
             "#9c179e"
            ],
            [
             0.4444444444444444,
             "#bd3786"
            ],
            [
             0.5555555555555556,
             "#d8576b"
            ],
            [
             0.6666666666666666,
             "#ed7953"
            ],
            [
             0.7777777777777778,
             "#fb9f3a"
            ],
            [
             0.8888888888888888,
             "#fdca26"
            ],
            [
             1,
             "#f0f921"
            ]
           ]
          },
          "colorway": [
           "#636efa",
           "#EF553B",
           "#00cc96",
           "#ab63fa",
           "#FFA15A",
           "#19d3f3",
           "#FF6692",
           "#B6E880",
           "#FF97FF",
           "#FECB52"
          ],
          "font": {
           "color": "#2a3f5f"
          },
          "geo": {
           "bgcolor": "white",
           "lakecolor": "white",
           "landcolor": "#E5ECF6",
           "showlakes": true,
           "showland": true,
           "subunitcolor": "white"
          },
          "hoverlabel": {
           "align": "left"
          },
          "hovermode": "closest",
          "mapbox": {
           "style": "light"
          },
          "paper_bgcolor": "white",
          "plot_bgcolor": "#E5ECF6",
          "polar": {
           "angularaxis": {
            "gridcolor": "white",
            "linecolor": "white",
            "ticks": ""
           },
           "bgcolor": "#E5ECF6",
           "radialaxis": {
            "gridcolor": "white",
            "linecolor": "white",
            "ticks": ""
           }
          },
          "scene": {
           "xaxis": {
            "backgroundcolor": "#E5ECF6",
            "gridcolor": "white",
            "gridwidth": 2,
            "linecolor": "white",
            "showbackground": true,
            "ticks": "",
            "zerolinecolor": "white"
           },
           "yaxis": {
            "backgroundcolor": "#E5ECF6",
            "gridcolor": "white",
            "gridwidth": 2,
            "linecolor": "white",
            "showbackground": true,
            "ticks": "",
            "zerolinecolor": "white"
           },
           "zaxis": {
            "backgroundcolor": "#E5ECF6",
            "gridcolor": "white",
            "gridwidth": 2,
            "linecolor": "white",
            "showbackground": true,
            "ticks": "",
            "zerolinecolor": "white"
           }
          },
          "shapedefaults": {
           "line": {
            "color": "#2a3f5f"
           }
          },
          "ternary": {
           "aaxis": {
            "gridcolor": "white",
            "linecolor": "white",
            "ticks": ""
           },
           "baxis": {
            "gridcolor": "white",
            "linecolor": "white",
            "ticks": ""
           },
           "bgcolor": "#E5ECF6",
           "caxis": {
            "gridcolor": "white",
            "linecolor": "white",
            "ticks": ""
           }
          },
          "title": {
           "x": 0.05
          },
          "xaxis": {
           "automargin": true,
           "gridcolor": "white",
           "linecolor": "white",
           "ticks": "",
           "title": {
            "standoff": 15
           },
           "zerolinecolor": "white",
           "zerolinewidth": 2
          },
          "yaxis": {
           "automargin": true,
           "gridcolor": "white",
           "linecolor": "white",
           "ticks": "",
           "title": {
            "standoff": 15
           },
           "zerolinecolor": "white",
           "zerolinewidth": 2
          }
         }
        },
        "title": {
         "text": "Percentage of population per country that has access to electricity in 2020"
        }
       }
      }
     },
     "metadata": {},
     "output_type": "display_data"
    }
   ],
   "source": [
    "df = data\n",
    "df_2020 = df[df['Year'] == 2020] # Taking into account the most recent data\n",
    "\n",
    "fig = px.choropleth(df_2020,\n",
    "                    locations=\"Entity\",\n",
    "                    locationmode='country names',\n",
    "                    color=\"Access to electricity (% of population)\",\n",
    "                    hover_name=\"Entity\",\n",
    "                    color_continuous_scale=px.colors.sequential.Plasma,\n",
    "                    title=\"Percentage of population per country that has access to electricity in 2020\")\n",
    "fig.show()"
   ]
  },
  {
   "cell_type": "code",
   "execution_count": 5,
   "metadata": {},
   "outputs": [
    {
     "data": {
      "application/vnd.plotly.v1+json": {
       "config": {
        "plotlyServerURL": "https://plot.ly"
       },
       "data": [
        {
         "customdata": [
          [
           "Electricity from fossil fuels (TWh)"
          ],
          [
           "Electricity from fossil fuels (TWh)"
          ],
          [
           "Electricity from fossil fuels (TWh)"
          ],
          [
           "Electricity from fossil fuels (TWh)"
          ],
          [
           "Electricity from fossil fuels (TWh)"
          ],
          [
           "Electricity from fossil fuels (TWh)"
          ],
          [
           "Electricity from fossil fuels (TWh)"
          ],
          [
           "Electricity from fossil fuels (TWh)"
          ],
          [
           "Electricity from fossil fuels (TWh)"
          ],
          [
           "Electricity from fossil fuels (TWh)"
          ],
          [
           "Electricity from fossil fuels (TWh)"
          ],
          [
           "Electricity from fossil fuels (TWh)"
          ],
          [
           "Electricity from fossil fuels (TWh)"
          ],
          [
           "Electricity from fossil fuels (TWh)"
          ],
          [
           "Electricity from fossil fuels (TWh)"
          ],
          [
           "Electricity from fossil fuels (TWh)"
          ],
          [
           "Electricity from fossil fuels (TWh)"
          ],
          [
           "Electricity from fossil fuels (TWh)"
          ],
          [
           "Electricity from fossil fuels (TWh)"
          ],
          [
           "Electricity from fossil fuels (TWh)"
          ],
          [
           "Electricity from fossil fuels (TWh)"
          ],
          [
           "Electricity from fossil fuels (TWh)"
          ],
          [
           "Electricity from fossil fuels (TWh)"
          ],
          [
           "Electricity from fossil fuels (TWh)"
          ],
          [
           "Electricity from fossil fuels (TWh)"
          ],
          [
           "Electricity from fossil fuels (TWh)"
          ],
          [
           "Electricity from fossil fuels (TWh)"
          ],
          [
           "Electricity from fossil fuels (TWh)"
          ],
          [
           "Electricity from fossil fuels (TWh)"
          ],
          [
           "Electricity from fossil fuels (TWh)"
          ],
          [
           "Electricity from fossil fuels (TWh)"
          ],
          [
           "Electricity from fossil fuels (TWh)"
          ],
          [
           "Electricity from fossil fuels (TWh)"
          ],
          [
           "Electricity from fossil fuels (TWh)"
          ],
          [
           "Electricity from fossil fuels (TWh)"
          ],
          [
           "Electricity from fossil fuels (TWh)"
          ],
          [
           "Electricity from fossil fuels (TWh)"
          ],
          [
           "Electricity from fossil fuels (TWh)"
          ],
          [
           "Electricity from fossil fuels (TWh)"
          ],
          [
           "Electricity from fossil fuels (TWh)"
          ],
          [
           "Electricity from fossil fuels (TWh)"
          ],
          [
           "Electricity from fossil fuels (TWh)"
          ],
          [
           "Electricity from fossil fuels (TWh)"
          ],
          [
           "Electricity from fossil fuels (TWh)"
          ],
          [
           "Electricity from fossil fuels (TWh)"
          ],
          [
           "Electricity from fossil fuels (TWh)"
          ],
          [
           "Electricity from fossil fuels (TWh)"
          ],
          [
           "Electricity from fossil fuels (TWh)"
          ],
          [
           "Electricity from fossil fuels (TWh)"
          ],
          [
           "Electricity from fossil fuels (TWh)"
          ],
          [
           "Electricity from fossil fuels (TWh)"
          ],
          [
           "Electricity from fossil fuels (TWh)"
          ],
          [
           "Electricity from fossil fuels (TWh)"
          ],
          [
           "Electricity from fossil fuels (TWh)"
          ],
          [
           "Electricity from fossil fuels (TWh)"
          ],
          [
           "Electricity from fossil fuels (TWh)"
          ],
          [
           "Electricity from fossil fuels (TWh)"
          ],
          [
           "Electricity from fossil fuels (TWh)"
          ],
          [
           "Electricity from fossil fuels (TWh)"
          ],
          [
           "Electricity from fossil fuels (TWh)"
          ],
          [
           "Electricity from fossil fuels (TWh)"
          ],
          [
           "Electricity from fossil fuels (TWh)"
          ],
          [
           "Electricity from fossil fuels (TWh)"
          ],
          [
           "Electricity from fossil fuels (TWh)"
          ],
          [
           "Electricity from fossil fuels (TWh)"
          ],
          [
           "Electricity from fossil fuels (TWh)"
          ],
          [
           "Electricity from fossil fuels (TWh)"
          ],
          [
           "Electricity from fossil fuels (TWh)"
          ],
          [
           "Electricity from fossil fuels (TWh)"
          ],
          [
           "Electricity from fossil fuels (TWh)"
          ],
          [
           "Electricity from fossil fuels (TWh)"
          ],
          [
           "Electricity from fossil fuels (TWh)"
          ],
          [
           "Electricity from fossil fuels (TWh)"
          ],
          [
           "Electricity from fossil fuels (TWh)"
          ],
          [
           "Electricity from fossil fuels (TWh)"
          ],
          [
           "Electricity from fossil fuels (TWh)"
          ],
          [
           "Electricity from fossil fuels (TWh)"
          ],
          [
           "Electricity from fossil fuels (TWh)"
          ],
          [
           "Electricity from fossil fuels (TWh)"
          ],
          [
           "Electricity from fossil fuels (TWh)"
          ],
          [
           "Electricity from fossil fuels (TWh)"
          ],
          [
           "Electricity from fossil fuels (TWh)"
          ],
          [
           "Electricity from fossil fuels (TWh)"
          ],
          [
           "Electricity from fossil fuels (TWh)"
          ],
          [
           "Electricity from fossil fuels (TWh)"
          ],
          [
           "Electricity from fossil fuels (TWh)"
          ],
          [
           "Electricity from fossil fuels (TWh)"
          ],
          [
           "Electricity from fossil fuels (TWh)"
          ],
          [
           "Electricity from fossil fuels (TWh)"
          ],
          [
           "Electricity from fossil fuels (TWh)"
          ],
          [
           "Electricity from fossil fuels (TWh)"
          ],
          [
           "Electricity from fossil fuels (TWh)"
          ],
          [
           "Electricity from fossil fuels (TWh)"
          ],
          [
           "Electricity from fossil fuels (TWh)"
          ],
          [
           "Electricity from fossil fuels (TWh)"
          ],
          [
           "Electricity from fossil fuels (TWh)"
          ],
          [
           "Electricity from fossil fuels (TWh)"
          ],
          [
           "Electricity from fossil fuels (TWh)"
          ],
          [
           "Electricity from fossil fuels (TWh)"
          ],
          [
           "Electricity from fossil fuels (TWh)"
          ],
          [
           "Electricity from fossil fuels (TWh)"
          ],
          [
           "Electricity from fossil fuels (TWh)"
          ],
          [
           "Electricity from fossil fuels (TWh)"
          ],
          [
           "Electricity from fossil fuels (TWh)"
          ],
          [
           "Electricity from fossil fuels (TWh)"
          ],
          [
           "Electricity from fossil fuels (TWh)"
          ],
          [
           "Electricity from fossil fuels (TWh)"
          ],
          [
           "Electricity from fossil fuels (TWh)"
          ],
          [
           "Electricity from fossil fuels (TWh)"
          ],
          [
           "Electricity from fossil fuels (TWh)"
          ],
          [
           "Electricity from fossil fuels (TWh)"
          ],
          [
           "Electricity from fossil fuels (TWh)"
          ],
          [
           "Electricity from fossil fuels (TWh)"
          ],
          [
           "Electricity from fossil fuels (TWh)"
          ],
          [
           "Electricity from fossil fuels (TWh)"
          ],
          [
           "Electricity from fossil fuels (TWh)"
          ],
          [
           "Electricity from fossil fuels (TWh)"
          ],
          [
           "Electricity from fossil fuels (TWh)"
          ],
          [
           "Electricity from fossil fuels (TWh)"
          ],
          [
           "Electricity from fossil fuels (TWh)"
          ],
          [
           "Electricity from fossil fuels (TWh)"
          ],
          [
           "Electricity from fossil fuels (TWh)"
          ],
          [
           "Electricity from fossil fuels (TWh)"
          ],
          [
           "Electricity from fossil fuels (TWh)"
          ],
          [
           "Electricity from fossil fuels (TWh)"
          ],
          [
           "Electricity from fossil fuels (TWh)"
          ],
          [
           "Electricity from fossil fuels (TWh)"
          ],
          [
           "Electricity from fossil fuels (TWh)"
          ],
          [
           "Electricity from fossil fuels (TWh)"
          ],
          [
           "Electricity from fossil fuels (TWh)"
          ],
          [
           "Electricity from fossil fuels (TWh)"
          ],
          [
           "Electricity from fossil fuels (TWh)"
          ],
          [
           "Electricity from fossil fuels (TWh)"
          ],
          [
           "Electricity from fossil fuels (TWh)"
          ],
          [
           "Electricity from fossil fuels (TWh)"
          ],
          [
           "Electricity from fossil fuels (TWh)"
          ],
          [
           "Electricity from fossil fuels (TWh)"
          ],
          [
           "Electricity from fossil fuels (TWh)"
          ],
          [
           "Electricity from fossil fuels (TWh)"
          ],
          [
           "Electricity from fossil fuels (TWh)"
          ],
          [
           "Electricity from fossil fuels (TWh)"
          ],
          [
           "Electricity from fossil fuels (TWh)"
          ],
          [
           "Electricity from fossil fuels (TWh)"
          ],
          [
           "Electricity from fossil fuels (TWh)"
          ],
          [
           "Electricity from fossil fuels (TWh)"
          ],
          [
           "Electricity from fossil fuels (TWh)"
          ],
          [
           "Electricity from fossil fuels (TWh)"
          ],
          [
           "Electricity from fossil fuels (TWh)"
          ],
          [
           "Electricity from fossil fuels (TWh)"
          ],
          [
           "Electricity from fossil fuels (TWh)"
          ],
          [
           "Electricity from fossil fuels (TWh)"
          ],
          [
           "Electricity from fossil fuels (TWh)"
          ],
          [
           "Electricity from fossil fuels (TWh)"
          ],
          [
           "Electricity from fossil fuels (TWh)"
          ],
          [
           "Electricity from fossil fuels (TWh)"
          ],
          [
           "Electricity from fossil fuels (TWh)"
          ],
          [
           "Electricity from fossil fuels (TWh)"
          ],
          [
           "Electricity from fossil fuels (TWh)"
          ],
          [
           "Electricity from fossil fuels (TWh)"
          ],
          [
           "Electricity from fossil fuels (TWh)"
          ],
          [
           "Electricity from fossil fuels (TWh)"
          ],
          [
           "Electricity from fossil fuels (TWh)"
          ],
          [
           "Electricity from fossil fuels (TWh)"
          ],
          [
           "Electricity from fossil fuels (TWh)"
          ],
          [
           "Electricity from fossil fuels (TWh)"
          ],
          [
           "Electricity from fossil fuels (TWh)"
          ],
          [
           "Electricity from fossil fuels (TWh)"
          ],
          [
           "Electricity from fossil fuels (TWh)"
          ],
          [
           "Electricity from fossil fuels (TWh)"
          ],
          [
           "Electricity from fossil fuels (TWh)"
          ],
          [
           "Electricity from fossil fuels (TWh)"
          ],
          [
           "Electricity from fossil fuels (TWh)"
          ],
          [
           "Electricity from fossil fuels (TWh)"
          ],
          [
           "Electricity from fossil fuels (TWh)"
          ],
          [
           "Electricity from fossil fuels (TWh)"
          ],
          [
           "Electricity from fossil fuels (TWh)"
          ],
          [
           "Electricity from nuclear (TWh)"
          ],
          [
           "Electricity from nuclear (TWh)"
          ],
          [
           "Electricity from nuclear (TWh)"
          ],
          [
           "Electricity from nuclear (TWh)"
          ],
          [
           "Electricity from nuclear (TWh)"
          ],
          [
           "Electricity from nuclear (TWh)"
          ],
          [
           "Electricity from nuclear (TWh)"
          ],
          [
           "Electricity from nuclear (TWh)"
          ],
          [
           "Electricity from nuclear (TWh)"
          ],
          [
           "Electricity from nuclear (TWh)"
          ],
          [
           "Electricity from nuclear (TWh)"
          ],
          [
           "Electricity from nuclear (TWh)"
          ],
          [
           "Electricity from nuclear (TWh)"
          ],
          [
           "Electricity from nuclear (TWh)"
          ],
          [
           "Electricity from nuclear (TWh)"
          ],
          [
           "Electricity from nuclear (TWh)"
          ],
          [
           "Electricity from nuclear (TWh)"
          ],
          [
           "Electricity from nuclear (TWh)"
          ],
          [
           "Electricity from nuclear (TWh)"
          ],
          [
           "Electricity from nuclear (TWh)"
          ],
          [
           "Electricity from nuclear (TWh)"
          ],
          [
           "Electricity from nuclear (TWh)"
          ],
          [
           "Electricity from nuclear (TWh)"
          ],
          [
           "Electricity from nuclear (TWh)"
          ],
          [
           "Electricity from nuclear (TWh)"
          ],
          [
           "Electricity from nuclear (TWh)"
          ],
          [
           "Electricity from nuclear (TWh)"
          ],
          [
           "Electricity from nuclear (TWh)"
          ],
          [
           "Electricity from nuclear (TWh)"
          ],
          [
           "Electricity from nuclear (TWh)"
          ],
          [
           "Electricity from nuclear (TWh)"
          ],
          [
           "Electricity from nuclear (TWh)"
          ],
          [
           "Electricity from nuclear (TWh)"
          ],
          [
           "Electricity from nuclear (TWh)"
          ],
          [
           "Electricity from nuclear (TWh)"
          ],
          [
           "Electricity from nuclear (TWh)"
          ],
          [
           "Electricity from nuclear (TWh)"
          ],
          [
           "Electricity from nuclear (TWh)"
          ],
          [
           "Electricity from nuclear (TWh)"
          ],
          [
           "Electricity from nuclear (TWh)"
          ],
          [
           "Electricity from nuclear (TWh)"
          ],
          [
           "Electricity from nuclear (TWh)"
          ],
          [
           "Electricity from nuclear (TWh)"
          ],
          [
           "Electricity from nuclear (TWh)"
          ],
          [
           "Electricity from nuclear (TWh)"
          ],
          [
           "Electricity from nuclear (TWh)"
          ],
          [
           "Electricity from nuclear (TWh)"
          ],
          [
           "Electricity from nuclear (TWh)"
          ],
          [
           "Electricity from nuclear (TWh)"
          ],
          [
           "Electricity from nuclear (TWh)"
          ],
          [
           "Electricity from nuclear (TWh)"
          ],
          [
           "Electricity from nuclear (TWh)"
          ],
          [
           "Electricity from nuclear (TWh)"
          ],
          [
           "Electricity from nuclear (TWh)"
          ],
          [
           "Electricity from nuclear (TWh)"
          ],
          [
           "Electricity from nuclear (TWh)"
          ],
          [
           "Electricity from nuclear (TWh)"
          ],
          [
           "Electricity from nuclear (TWh)"
          ],
          [
           "Electricity from nuclear (TWh)"
          ],
          [
           "Electricity from nuclear (TWh)"
          ],
          [
           "Electricity from nuclear (TWh)"
          ],
          [
           "Electricity from nuclear (TWh)"
          ],
          [
           "Electricity from nuclear (TWh)"
          ],
          [
           "Electricity from nuclear (TWh)"
          ],
          [
           "Electricity from nuclear (TWh)"
          ],
          [
           "Electricity from nuclear (TWh)"
          ],
          [
           "Electricity from nuclear (TWh)"
          ],
          [
           "Electricity from nuclear (TWh)"
          ],
          [
           "Electricity from nuclear (TWh)"
          ],
          [
           "Electricity from nuclear (TWh)"
          ],
          [
           "Electricity from nuclear (TWh)"
          ],
          [
           "Electricity from nuclear (TWh)"
          ],
          [
           "Electricity from nuclear (TWh)"
          ],
          [
           "Electricity from nuclear (TWh)"
          ],
          [
           "Electricity from nuclear (TWh)"
          ],
          [
           "Electricity from nuclear (TWh)"
          ],
          [
           "Electricity from nuclear (TWh)"
          ],
          [
           "Electricity from nuclear (TWh)"
          ],
          [
           "Electricity from nuclear (TWh)"
          ],
          [
           "Electricity from nuclear (TWh)"
          ],
          [
           "Electricity from nuclear (TWh)"
          ],
          [
           "Electricity from nuclear (TWh)"
          ],
          [
           "Electricity from nuclear (TWh)"
          ],
          [
           "Electricity from nuclear (TWh)"
          ],
          [
           "Electricity from nuclear (TWh)"
          ],
          [
           "Electricity from nuclear (TWh)"
          ],
          [
           "Electricity from nuclear (TWh)"
          ],
          [
           "Electricity from nuclear (TWh)"
          ],
          [
           "Electricity from nuclear (TWh)"
          ],
          [
           "Electricity from nuclear (TWh)"
          ],
          [
           "Electricity from nuclear (TWh)"
          ],
          [
           "Electricity from nuclear (TWh)"
          ],
          [
           "Electricity from nuclear (TWh)"
          ],
          [
           "Electricity from nuclear (TWh)"
          ],
          [
           "Electricity from nuclear (TWh)"
          ],
          [
           "Electricity from nuclear (TWh)"
          ],
          [
           "Electricity from nuclear (TWh)"
          ],
          [
           "Electricity from nuclear (TWh)"
          ],
          [
           "Electricity from nuclear (TWh)"
          ],
          [
           "Electricity from nuclear (TWh)"
          ],
          [
           "Electricity from nuclear (TWh)"
          ],
          [
           "Electricity from nuclear (TWh)"
          ],
          [
           "Electricity from nuclear (TWh)"
          ],
          [
           "Electricity from nuclear (TWh)"
          ],
          [
           "Electricity from nuclear (TWh)"
          ],
          [
           "Electricity from nuclear (TWh)"
          ],
          [
           "Electricity from nuclear (TWh)"
          ],
          [
           "Electricity from nuclear (TWh)"
          ],
          [
           "Electricity from nuclear (TWh)"
          ],
          [
           "Electricity from nuclear (TWh)"
          ],
          [
           "Electricity from nuclear (TWh)"
          ],
          [
           "Electricity from nuclear (TWh)"
          ],
          [
           "Electricity from nuclear (TWh)"
          ],
          [
           "Electricity from nuclear (TWh)"
          ],
          [
           "Electricity from nuclear (TWh)"
          ],
          [
           "Electricity from nuclear (TWh)"
          ],
          [
           "Electricity from nuclear (TWh)"
          ],
          [
           "Electricity from nuclear (TWh)"
          ],
          [
           "Electricity from nuclear (TWh)"
          ],
          [
           "Electricity from nuclear (TWh)"
          ],
          [
           "Electricity from nuclear (TWh)"
          ],
          [
           "Electricity from nuclear (TWh)"
          ],
          [
           "Electricity from nuclear (TWh)"
          ],
          [
           "Electricity from nuclear (TWh)"
          ],
          [
           "Electricity from nuclear (TWh)"
          ],
          [
           "Electricity from nuclear (TWh)"
          ],
          [
           "Electricity from nuclear (TWh)"
          ],
          [
           "Electricity from nuclear (TWh)"
          ],
          [
           "Electricity from nuclear (TWh)"
          ],
          [
           "Electricity from nuclear (TWh)"
          ],
          [
           "Electricity from nuclear (TWh)"
          ],
          [
           "Electricity from nuclear (TWh)"
          ],
          [
           "Electricity from nuclear (TWh)"
          ],
          [
           "Electricity from nuclear (TWh)"
          ],
          [
           "Electricity from nuclear (TWh)"
          ],
          [
           "Electricity from nuclear (TWh)"
          ],
          [
           "Electricity from nuclear (TWh)"
          ],
          [
           "Electricity from nuclear (TWh)"
          ],
          [
           "Electricity from nuclear (TWh)"
          ],
          [
           "Electricity from nuclear (TWh)"
          ],
          [
           "Electricity from nuclear (TWh)"
          ],
          [
           "Electricity from nuclear (TWh)"
          ],
          [
           "Electricity from nuclear (TWh)"
          ],
          [
           "Electricity from nuclear (TWh)"
          ],
          [
           "Electricity from nuclear (TWh)"
          ],
          [
           "Electricity from nuclear (TWh)"
          ],
          [
           "Electricity from nuclear (TWh)"
          ],
          [
           "Electricity from nuclear (TWh)"
          ],
          [
           "Electricity from nuclear (TWh)"
          ],
          [
           "Electricity from nuclear (TWh)"
          ],
          [
           "Electricity from nuclear (TWh)"
          ],
          [
           "Electricity from nuclear (TWh)"
          ],
          [
           "Electricity from nuclear (TWh)"
          ],
          [
           "Electricity from nuclear (TWh)"
          ],
          [
           "Electricity from nuclear (TWh)"
          ],
          [
           "Electricity from nuclear (TWh)"
          ],
          [
           "Electricity from nuclear (TWh)"
          ],
          [
           "Electricity from nuclear (TWh)"
          ],
          [
           "Electricity from nuclear (TWh)"
          ],
          [
           "Electricity from nuclear (TWh)"
          ],
          [
           "Electricity from nuclear (TWh)"
          ],
          [
           "Electricity from nuclear (TWh)"
          ],
          [
           "Electricity from nuclear (TWh)"
          ],
          [
           "Electricity from nuclear (TWh)"
          ],
          [
           "Electricity from nuclear (TWh)"
          ],
          [
           "Electricity from nuclear (TWh)"
          ],
          [
           "Electricity from nuclear (TWh)"
          ],
          [
           "Electricity from nuclear (TWh)"
          ],
          [
           "Electricity from nuclear (TWh)"
          ],
          [
           "Electricity from nuclear (TWh)"
          ],
          [
           "Electricity from nuclear (TWh)"
          ],
          [
           "Electricity from nuclear (TWh)"
          ],
          [
           "Electricity from nuclear (TWh)"
          ],
          [
           "Electricity from nuclear (TWh)"
          ],
          [
           "Electricity from nuclear (TWh)"
          ],
          [
           "Electricity from nuclear (TWh)"
          ],
          [
           "Electricity from renewables (TWh)"
          ],
          [
           "Electricity from renewables (TWh)"
          ],
          [
           "Electricity from renewables (TWh)"
          ],
          [
           "Electricity from renewables (TWh)"
          ],
          [
           "Electricity from renewables (TWh)"
          ],
          [
           "Electricity from renewables (TWh)"
          ],
          [
           "Electricity from renewables (TWh)"
          ],
          [
           "Electricity from renewables (TWh)"
          ],
          [
           "Electricity from renewables (TWh)"
          ],
          [
           "Electricity from renewables (TWh)"
          ],
          [
           "Electricity from renewables (TWh)"
          ],
          [
           "Electricity from renewables (TWh)"
          ],
          [
           "Electricity from renewables (TWh)"
          ],
          [
           "Electricity from renewables (TWh)"
          ],
          [
           "Electricity from renewables (TWh)"
          ],
          [
           "Electricity from renewables (TWh)"
          ],
          [
           "Electricity from renewables (TWh)"
          ],
          [
           "Electricity from renewables (TWh)"
          ],
          [
           "Electricity from renewables (TWh)"
          ],
          [
           "Electricity from renewables (TWh)"
          ],
          [
           "Electricity from renewables (TWh)"
          ],
          [
           "Electricity from renewables (TWh)"
          ],
          [
           "Electricity from renewables (TWh)"
          ],
          [
           "Electricity from renewables (TWh)"
          ],
          [
           "Electricity from renewables (TWh)"
          ],
          [
           "Electricity from renewables (TWh)"
          ],
          [
           "Electricity from renewables (TWh)"
          ],
          [
           "Electricity from renewables (TWh)"
          ],
          [
           "Electricity from renewables (TWh)"
          ],
          [
           "Electricity from renewables (TWh)"
          ],
          [
           "Electricity from renewables (TWh)"
          ],
          [
           "Electricity from renewables (TWh)"
          ],
          [
           "Electricity from renewables (TWh)"
          ],
          [
           "Electricity from renewables (TWh)"
          ],
          [
           "Electricity from renewables (TWh)"
          ],
          [
           "Electricity from renewables (TWh)"
          ],
          [
           "Electricity from renewables (TWh)"
          ],
          [
           "Electricity from renewables (TWh)"
          ],
          [
           "Electricity from renewables (TWh)"
          ],
          [
           "Electricity from renewables (TWh)"
          ],
          [
           "Electricity from renewables (TWh)"
          ],
          [
           "Electricity from renewables (TWh)"
          ],
          [
           "Electricity from renewables (TWh)"
          ],
          [
           "Electricity from renewables (TWh)"
          ],
          [
           "Electricity from renewables (TWh)"
          ],
          [
           "Electricity from renewables (TWh)"
          ],
          [
           "Electricity from renewables (TWh)"
          ],
          [
           "Electricity from renewables (TWh)"
          ],
          [
           "Electricity from renewables (TWh)"
          ],
          [
           "Electricity from renewables (TWh)"
          ],
          [
           "Electricity from renewables (TWh)"
          ],
          [
           "Electricity from renewables (TWh)"
          ],
          [
           "Electricity from renewables (TWh)"
          ],
          [
           "Electricity from renewables (TWh)"
          ],
          [
           "Electricity from renewables (TWh)"
          ],
          [
           "Electricity from renewables (TWh)"
          ],
          [
           "Electricity from renewables (TWh)"
          ],
          [
           "Electricity from renewables (TWh)"
          ],
          [
           "Electricity from renewables (TWh)"
          ],
          [
           "Electricity from renewables (TWh)"
          ],
          [
           "Electricity from renewables (TWh)"
          ],
          [
           "Electricity from renewables (TWh)"
          ],
          [
           "Electricity from renewables (TWh)"
          ],
          [
           "Electricity from renewables (TWh)"
          ],
          [
           "Electricity from renewables (TWh)"
          ],
          [
           "Electricity from renewables (TWh)"
          ],
          [
           "Electricity from renewables (TWh)"
          ],
          [
           "Electricity from renewables (TWh)"
          ],
          [
           "Electricity from renewables (TWh)"
          ],
          [
           "Electricity from renewables (TWh)"
          ],
          [
           "Electricity from renewables (TWh)"
          ],
          [
           "Electricity from renewables (TWh)"
          ],
          [
           "Electricity from renewables (TWh)"
          ],
          [
           "Electricity from renewables (TWh)"
          ],
          [
           "Electricity from renewables (TWh)"
          ],
          [
           "Electricity from renewables (TWh)"
          ],
          [
           "Electricity from renewables (TWh)"
          ],
          [
           "Electricity from renewables (TWh)"
          ],
          [
           "Electricity from renewables (TWh)"
          ],
          [
           "Electricity from renewables (TWh)"
          ],
          [
           "Electricity from renewables (TWh)"
          ],
          [
           "Electricity from renewables (TWh)"
          ],
          [
           "Electricity from renewables (TWh)"
          ],
          [
           "Electricity from renewables (TWh)"
          ],
          [
           "Electricity from renewables (TWh)"
          ],
          [
           "Electricity from renewables (TWh)"
          ],
          [
           "Electricity from renewables (TWh)"
          ],
          [
           "Electricity from renewables (TWh)"
          ],
          [
           "Electricity from renewables (TWh)"
          ],
          [
           "Electricity from renewables (TWh)"
          ],
          [
           "Electricity from renewables (TWh)"
          ],
          [
           "Electricity from renewables (TWh)"
          ],
          [
           "Electricity from renewables (TWh)"
          ],
          [
           "Electricity from renewables (TWh)"
          ],
          [
           "Electricity from renewables (TWh)"
          ],
          [
           "Electricity from renewables (TWh)"
          ],
          [
           "Electricity from renewables (TWh)"
          ],
          [
           "Electricity from renewables (TWh)"
          ],
          [
           "Electricity from renewables (TWh)"
          ],
          [
           "Electricity from renewables (TWh)"
          ],
          [
           "Electricity from renewables (TWh)"
          ],
          [
           "Electricity from renewables (TWh)"
          ],
          [
           "Electricity from renewables (TWh)"
          ],
          [
           "Electricity from renewables (TWh)"
          ],
          [
           "Electricity from renewables (TWh)"
          ],
          [
           "Electricity from renewables (TWh)"
          ],
          [
           "Electricity from renewables (TWh)"
          ],
          [
           "Electricity from renewables (TWh)"
          ],
          [
           "Electricity from renewables (TWh)"
          ],
          [
           "Electricity from renewables (TWh)"
          ],
          [
           "Electricity from renewables (TWh)"
          ],
          [
           "Electricity from renewables (TWh)"
          ],
          [
           "Electricity from renewables (TWh)"
          ],
          [
           "Electricity from renewables (TWh)"
          ],
          [
           "Electricity from renewables (TWh)"
          ],
          [
           "Electricity from renewables (TWh)"
          ],
          [
           "Electricity from renewables (TWh)"
          ],
          [
           "Electricity from renewables (TWh)"
          ],
          [
           "Electricity from renewables (TWh)"
          ],
          [
           "Electricity from renewables (TWh)"
          ],
          [
           "Electricity from renewables (TWh)"
          ],
          [
           "Electricity from renewables (TWh)"
          ],
          [
           "Electricity from renewables (TWh)"
          ],
          [
           "Electricity from renewables (TWh)"
          ],
          [
           "Electricity from renewables (TWh)"
          ],
          [
           "Electricity from renewables (TWh)"
          ],
          [
           "Electricity from renewables (TWh)"
          ],
          [
           "Electricity from renewables (TWh)"
          ],
          [
           "Electricity from renewables (TWh)"
          ],
          [
           "Electricity from renewables (TWh)"
          ],
          [
           "Electricity from renewables (TWh)"
          ],
          [
           "Electricity from renewables (TWh)"
          ],
          [
           "Electricity from renewables (TWh)"
          ],
          [
           "Electricity from renewables (TWh)"
          ],
          [
           "Electricity from renewables (TWh)"
          ],
          [
           "Electricity from renewables (TWh)"
          ],
          [
           "Electricity from renewables (TWh)"
          ],
          [
           "Electricity from renewables (TWh)"
          ],
          [
           "Electricity from renewables (TWh)"
          ],
          [
           "Electricity from renewables (TWh)"
          ],
          [
           "Electricity from renewables (TWh)"
          ],
          [
           "Electricity from renewables (TWh)"
          ],
          [
           "Electricity from renewables (TWh)"
          ],
          [
           "Electricity from renewables (TWh)"
          ],
          [
           "Electricity from renewables (TWh)"
          ],
          [
           "Electricity from renewables (TWh)"
          ],
          [
           "Electricity from renewables (TWh)"
          ],
          [
           "Electricity from renewables (TWh)"
          ],
          [
           "Electricity from renewables (TWh)"
          ],
          [
           "Electricity from renewables (TWh)"
          ],
          [
           "Electricity from renewables (TWh)"
          ],
          [
           "Electricity from renewables (TWh)"
          ],
          [
           "Electricity from renewables (TWh)"
          ],
          [
           "Electricity from renewables (TWh)"
          ],
          [
           "Electricity from renewables (TWh)"
          ],
          [
           "Electricity from renewables (TWh)"
          ],
          [
           "Electricity from renewables (TWh)"
          ],
          [
           "Electricity from renewables (TWh)"
          ],
          [
           "Electricity from renewables (TWh)"
          ],
          [
           "Electricity from renewables (TWh)"
          ],
          [
           "Electricity from renewables (TWh)"
          ],
          [
           "Electricity from renewables (TWh)"
          ],
          [
           "Electricity from renewables (TWh)"
          ],
          [
           "Electricity from renewables (TWh)"
          ],
          [
           "Electricity from renewables (TWh)"
          ],
          [
           "Electricity from renewables (TWh)"
          ],
          [
           "Electricity from renewables (TWh)"
          ],
          [
           "Electricity from renewables (TWh)"
          ],
          [
           "Electricity from renewables (TWh)"
          ],
          [
           "Electricity from renewables (TWh)"
          ],
          [
           "Electricity from renewables (TWh)"
          ],
          [
           "Electricity from renewables (TWh)"
          ],
          [
           "Electricity from renewables (TWh)"
          ],
          [
           "Electricity from renewables (TWh)"
          ],
          [
           "Electricity from renewables (TWh)"
          ],
          [
           "Electricity from renewables (TWh)"
          ]
         ],
         "domain": {
          "x": [
           0,
           1
          ],
          "y": [
           0,
           1
          ]
         },
         "hovertemplate": "Source=%{customdata[0]}<br>Electricity (TWh)=%{value}<extra></extra>",
         "labels": [
          "Electricity from fossil fuels (TWh)",
          "Electricity from fossil fuels (TWh)",
          "Electricity from fossil fuels (TWh)",
          "Electricity from fossil fuels (TWh)",
          "Electricity from fossil fuels (TWh)",
          "Electricity from fossil fuels (TWh)",
          "Electricity from fossil fuels (TWh)",
          "Electricity from fossil fuels (TWh)",
          "Electricity from fossil fuels (TWh)",
          "Electricity from fossil fuels (TWh)",
          "Electricity from fossil fuels (TWh)",
          "Electricity from fossil fuels (TWh)",
          "Electricity from fossil fuels (TWh)",
          "Electricity from fossil fuels (TWh)",
          "Electricity from fossil fuels (TWh)",
          "Electricity from fossil fuels (TWh)",
          "Electricity from fossil fuels (TWh)",
          "Electricity from fossil fuels (TWh)",
          "Electricity from fossil fuels (TWh)",
          "Electricity from fossil fuels (TWh)",
          "Electricity from fossil fuels (TWh)",
          "Electricity from fossil fuels (TWh)",
          "Electricity from fossil fuels (TWh)",
          "Electricity from fossil fuels (TWh)",
          "Electricity from fossil fuels (TWh)",
          "Electricity from fossil fuels (TWh)",
          "Electricity from fossil fuels (TWh)",
          "Electricity from fossil fuels (TWh)",
          "Electricity from fossil fuels (TWh)",
          "Electricity from fossil fuels (TWh)",
          "Electricity from fossil fuels (TWh)",
          "Electricity from fossil fuels (TWh)",
          "Electricity from fossil fuels (TWh)",
          "Electricity from fossil fuels (TWh)",
          "Electricity from fossil fuels (TWh)",
          "Electricity from fossil fuels (TWh)",
          "Electricity from fossil fuels (TWh)",
          "Electricity from fossil fuels (TWh)",
          "Electricity from fossil fuels (TWh)",
          "Electricity from fossil fuels (TWh)",
          "Electricity from fossil fuels (TWh)",
          "Electricity from fossil fuels (TWh)",
          "Electricity from fossil fuels (TWh)",
          "Electricity from fossil fuels (TWh)",
          "Electricity from fossil fuels (TWh)",
          "Electricity from fossil fuels (TWh)",
          "Electricity from fossil fuels (TWh)",
          "Electricity from fossil fuels (TWh)",
          "Electricity from fossil fuels (TWh)",
          "Electricity from fossil fuels (TWh)",
          "Electricity from fossil fuels (TWh)",
          "Electricity from fossil fuels (TWh)",
          "Electricity from fossil fuels (TWh)",
          "Electricity from fossil fuels (TWh)",
          "Electricity from fossil fuels (TWh)",
          "Electricity from fossil fuels (TWh)",
          "Electricity from fossil fuels (TWh)",
          "Electricity from fossil fuels (TWh)",
          "Electricity from fossil fuels (TWh)",
          "Electricity from fossil fuels (TWh)",
          "Electricity from fossil fuels (TWh)",
          "Electricity from fossil fuels (TWh)",
          "Electricity from fossil fuels (TWh)",
          "Electricity from fossil fuels (TWh)",
          "Electricity from fossil fuels (TWh)",
          "Electricity from fossil fuels (TWh)",
          "Electricity from fossil fuels (TWh)",
          "Electricity from fossil fuels (TWh)",
          "Electricity from fossil fuels (TWh)",
          "Electricity from fossil fuels (TWh)",
          "Electricity from fossil fuels (TWh)",
          "Electricity from fossil fuels (TWh)",
          "Electricity from fossil fuels (TWh)",
          "Electricity from fossil fuels (TWh)",
          "Electricity from fossil fuels (TWh)",
          "Electricity from fossil fuels (TWh)",
          "Electricity from fossil fuels (TWh)",
          "Electricity from fossil fuels (TWh)",
          "Electricity from fossil fuels (TWh)",
          "Electricity from fossil fuels (TWh)",
          "Electricity from fossil fuels (TWh)",
          "Electricity from fossil fuels (TWh)",
          "Electricity from fossil fuels (TWh)",
          "Electricity from fossil fuels (TWh)",
          "Electricity from fossil fuels (TWh)",
          "Electricity from fossil fuels (TWh)",
          "Electricity from fossil fuels (TWh)",
          "Electricity from fossil fuels (TWh)",
          "Electricity from fossil fuels (TWh)",
          "Electricity from fossil fuels (TWh)",
          "Electricity from fossil fuels (TWh)",
          "Electricity from fossil fuels (TWh)",
          "Electricity from fossil fuels (TWh)",
          "Electricity from fossil fuels (TWh)",
          "Electricity from fossil fuels (TWh)",
          "Electricity from fossil fuels (TWh)",
          "Electricity from fossil fuels (TWh)",
          "Electricity from fossil fuels (TWh)",
          "Electricity from fossil fuels (TWh)",
          "Electricity from fossil fuels (TWh)",
          "Electricity from fossil fuels (TWh)",
          "Electricity from fossil fuels (TWh)",
          "Electricity from fossil fuels (TWh)",
          "Electricity from fossil fuels (TWh)",
          "Electricity from fossil fuels (TWh)",
          "Electricity from fossil fuels (TWh)",
          "Electricity from fossil fuels (TWh)",
          "Electricity from fossil fuels (TWh)",
          "Electricity from fossil fuels (TWh)",
          "Electricity from fossil fuels (TWh)",
          "Electricity from fossil fuels (TWh)",
          "Electricity from fossil fuels (TWh)",
          "Electricity from fossil fuels (TWh)",
          "Electricity from fossil fuels (TWh)",
          "Electricity from fossil fuels (TWh)",
          "Electricity from fossil fuels (TWh)",
          "Electricity from fossil fuels (TWh)",
          "Electricity from fossil fuels (TWh)",
          "Electricity from fossil fuels (TWh)",
          "Electricity from fossil fuels (TWh)",
          "Electricity from fossil fuels (TWh)",
          "Electricity from fossil fuels (TWh)",
          "Electricity from fossil fuels (TWh)",
          "Electricity from fossil fuels (TWh)",
          "Electricity from fossil fuels (TWh)",
          "Electricity from fossil fuels (TWh)",
          "Electricity from fossil fuels (TWh)",
          "Electricity from fossil fuels (TWh)",
          "Electricity from fossil fuels (TWh)",
          "Electricity from fossil fuels (TWh)",
          "Electricity from fossil fuels (TWh)",
          "Electricity from fossil fuels (TWh)",
          "Electricity from fossil fuels (TWh)",
          "Electricity from fossil fuels (TWh)",
          "Electricity from fossil fuels (TWh)",
          "Electricity from fossil fuels (TWh)",
          "Electricity from fossil fuels (TWh)",
          "Electricity from fossil fuels (TWh)",
          "Electricity from fossil fuels (TWh)",
          "Electricity from fossil fuels (TWh)",
          "Electricity from fossil fuels (TWh)",
          "Electricity from fossil fuels (TWh)",
          "Electricity from fossil fuels (TWh)",
          "Electricity from fossil fuels (TWh)",
          "Electricity from fossil fuels (TWh)",
          "Electricity from fossil fuels (TWh)",
          "Electricity from fossil fuels (TWh)",
          "Electricity from fossil fuels (TWh)",
          "Electricity from fossil fuels (TWh)",
          "Electricity from fossil fuels (TWh)",
          "Electricity from fossil fuels (TWh)",
          "Electricity from fossil fuels (TWh)",
          "Electricity from fossil fuels (TWh)",
          "Electricity from fossil fuels (TWh)",
          "Electricity from fossil fuels (TWh)",
          "Electricity from fossil fuels (TWh)",
          "Electricity from fossil fuels (TWh)",
          "Electricity from fossil fuels (TWh)",
          "Electricity from fossil fuels (TWh)",
          "Electricity from fossil fuels (TWh)",
          "Electricity from fossil fuels (TWh)",
          "Electricity from fossil fuels (TWh)",
          "Electricity from fossil fuels (TWh)",
          "Electricity from fossil fuels (TWh)",
          "Electricity from fossil fuels (TWh)",
          "Electricity from fossil fuels (TWh)",
          "Electricity from fossil fuels (TWh)",
          "Electricity from fossil fuels (TWh)",
          "Electricity from fossil fuels (TWh)",
          "Electricity from fossil fuels (TWh)",
          "Electricity from fossil fuels (TWh)",
          "Electricity from fossil fuels (TWh)",
          "Electricity from fossil fuels (TWh)",
          "Electricity from fossil fuels (TWh)",
          "Electricity from fossil fuels (TWh)",
          "Electricity from fossil fuels (TWh)",
          "Electricity from nuclear (TWh)",
          "Electricity from nuclear (TWh)",
          "Electricity from nuclear (TWh)",
          "Electricity from nuclear (TWh)",
          "Electricity from nuclear (TWh)",
          "Electricity from nuclear (TWh)",
          "Electricity from nuclear (TWh)",
          "Electricity from nuclear (TWh)",
          "Electricity from nuclear (TWh)",
          "Electricity from nuclear (TWh)",
          "Electricity from nuclear (TWh)",
          "Electricity from nuclear (TWh)",
          "Electricity from nuclear (TWh)",
          "Electricity from nuclear (TWh)",
          "Electricity from nuclear (TWh)",
          "Electricity from nuclear (TWh)",
          "Electricity from nuclear (TWh)",
          "Electricity from nuclear (TWh)",
          "Electricity from nuclear (TWh)",
          "Electricity from nuclear (TWh)",
          "Electricity from nuclear (TWh)",
          "Electricity from nuclear (TWh)",
          "Electricity from nuclear (TWh)",
          "Electricity from nuclear (TWh)",
          "Electricity from nuclear (TWh)",
          "Electricity from nuclear (TWh)",
          "Electricity from nuclear (TWh)",
          "Electricity from nuclear (TWh)",
          "Electricity from nuclear (TWh)",
          "Electricity from nuclear (TWh)",
          "Electricity from nuclear (TWh)",
          "Electricity from nuclear (TWh)",
          "Electricity from nuclear (TWh)",
          "Electricity from nuclear (TWh)",
          "Electricity from nuclear (TWh)",
          "Electricity from nuclear (TWh)",
          "Electricity from nuclear (TWh)",
          "Electricity from nuclear (TWh)",
          "Electricity from nuclear (TWh)",
          "Electricity from nuclear (TWh)",
          "Electricity from nuclear (TWh)",
          "Electricity from nuclear (TWh)",
          "Electricity from nuclear (TWh)",
          "Electricity from nuclear (TWh)",
          "Electricity from nuclear (TWh)",
          "Electricity from nuclear (TWh)",
          "Electricity from nuclear (TWh)",
          "Electricity from nuclear (TWh)",
          "Electricity from nuclear (TWh)",
          "Electricity from nuclear (TWh)",
          "Electricity from nuclear (TWh)",
          "Electricity from nuclear (TWh)",
          "Electricity from nuclear (TWh)",
          "Electricity from nuclear (TWh)",
          "Electricity from nuclear (TWh)",
          "Electricity from nuclear (TWh)",
          "Electricity from nuclear (TWh)",
          "Electricity from nuclear (TWh)",
          "Electricity from nuclear (TWh)",
          "Electricity from nuclear (TWh)",
          "Electricity from nuclear (TWh)",
          "Electricity from nuclear (TWh)",
          "Electricity from nuclear (TWh)",
          "Electricity from nuclear (TWh)",
          "Electricity from nuclear (TWh)",
          "Electricity from nuclear (TWh)",
          "Electricity from nuclear (TWh)",
          "Electricity from nuclear (TWh)",
          "Electricity from nuclear (TWh)",
          "Electricity from nuclear (TWh)",
          "Electricity from nuclear (TWh)",
          "Electricity from nuclear (TWh)",
          "Electricity from nuclear (TWh)",
          "Electricity from nuclear (TWh)",
          "Electricity from nuclear (TWh)",
          "Electricity from nuclear (TWh)",
          "Electricity from nuclear (TWh)",
          "Electricity from nuclear (TWh)",
          "Electricity from nuclear (TWh)",
          "Electricity from nuclear (TWh)",
          "Electricity from nuclear (TWh)",
          "Electricity from nuclear (TWh)",
          "Electricity from nuclear (TWh)",
          "Electricity from nuclear (TWh)",
          "Electricity from nuclear (TWh)",
          "Electricity from nuclear (TWh)",
          "Electricity from nuclear (TWh)",
          "Electricity from nuclear (TWh)",
          "Electricity from nuclear (TWh)",
          "Electricity from nuclear (TWh)",
          "Electricity from nuclear (TWh)",
          "Electricity from nuclear (TWh)",
          "Electricity from nuclear (TWh)",
          "Electricity from nuclear (TWh)",
          "Electricity from nuclear (TWh)",
          "Electricity from nuclear (TWh)",
          "Electricity from nuclear (TWh)",
          "Electricity from nuclear (TWh)",
          "Electricity from nuclear (TWh)",
          "Electricity from nuclear (TWh)",
          "Electricity from nuclear (TWh)",
          "Electricity from nuclear (TWh)",
          "Electricity from nuclear (TWh)",
          "Electricity from nuclear (TWh)",
          "Electricity from nuclear (TWh)",
          "Electricity from nuclear (TWh)",
          "Electricity from nuclear (TWh)",
          "Electricity from nuclear (TWh)",
          "Electricity from nuclear (TWh)",
          "Electricity from nuclear (TWh)",
          "Electricity from nuclear (TWh)",
          "Electricity from nuclear (TWh)",
          "Electricity from nuclear (TWh)",
          "Electricity from nuclear (TWh)",
          "Electricity from nuclear (TWh)",
          "Electricity from nuclear (TWh)",
          "Electricity from nuclear (TWh)",
          "Electricity from nuclear (TWh)",
          "Electricity from nuclear (TWh)",
          "Electricity from nuclear (TWh)",
          "Electricity from nuclear (TWh)",
          "Electricity from nuclear (TWh)",
          "Electricity from nuclear (TWh)",
          "Electricity from nuclear (TWh)",
          "Electricity from nuclear (TWh)",
          "Electricity from nuclear (TWh)",
          "Electricity from nuclear (TWh)",
          "Electricity from nuclear (TWh)",
          "Electricity from nuclear (TWh)",
          "Electricity from nuclear (TWh)",
          "Electricity from nuclear (TWh)",
          "Electricity from nuclear (TWh)",
          "Electricity from nuclear (TWh)",
          "Electricity from nuclear (TWh)",
          "Electricity from nuclear (TWh)",
          "Electricity from nuclear (TWh)",
          "Electricity from nuclear (TWh)",
          "Electricity from nuclear (TWh)",
          "Electricity from nuclear (TWh)",
          "Electricity from nuclear (TWh)",
          "Electricity from nuclear (TWh)",
          "Electricity from nuclear (TWh)",
          "Electricity from nuclear (TWh)",
          "Electricity from nuclear (TWh)",
          "Electricity from nuclear (TWh)",
          "Electricity from nuclear (TWh)",
          "Electricity from nuclear (TWh)",
          "Electricity from nuclear (TWh)",
          "Electricity from nuclear (TWh)",
          "Electricity from nuclear (TWh)",
          "Electricity from nuclear (TWh)",
          "Electricity from nuclear (TWh)",
          "Electricity from nuclear (TWh)",
          "Electricity from nuclear (TWh)",
          "Electricity from nuclear (TWh)",
          "Electricity from nuclear (TWh)",
          "Electricity from nuclear (TWh)",
          "Electricity from nuclear (TWh)",
          "Electricity from nuclear (TWh)",
          "Electricity from nuclear (TWh)",
          "Electricity from nuclear (TWh)",
          "Electricity from nuclear (TWh)",
          "Electricity from nuclear (TWh)",
          "Electricity from nuclear (TWh)",
          "Electricity from nuclear (TWh)",
          "Electricity from nuclear (TWh)",
          "Electricity from nuclear (TWh)",
          "Electricity from nuclear (TWh)",
          "Electricity from nuclear (TWh)",
          "Electricity from nuclear (TWh)",
          "Electricity from nuclear (TWh)",
          "Electricity from nuclear (TWh)",
          "Electricity from nuclear (TWh)",
          "Electricity from nuclear (TWh)",
          "Electricity from nuclear (TWh)",
          "Electricity from nuclear (TWh)",
          "Electricity from renewables (TWh)",
          "Electricity from renewables (TWh)",
          "Electricity from renewables (TWh)",
          "Electricity from renewables (TWh)",
          "Electricity from renewables (TWh)",
          "Electricity from renewables (TWh)",
          "Electricity from renewables (TWh)",
          "Electricity from renewables (TWh)",
          "Electricity from renewables (TWh)",
          "Electricity from renewables (TWh)",
          "Electricity from renewables (TWh)",
          "Electricity from renewables (TWh)",
          "Electricity from renewables (TWh)",
          "Electricity from renewables (TWh)",
          "Electricity from renewables (TWh)",
          "Electricity from renewables (TWh)",
          "Electricity from renewables (TWh)",
          "Electricity from renewables (TWh)",
          "Electricity from renewables (TWh)",
          "Electricity from renewables (TWh)",
          "Electricity from renewables (TWh)",
          "Electricity from renewables (TWh)",
          "Electricity from renewables (TWh)",
          "Electricity from renewables (TWh)",
          "Electricity from renewables (TWh)",
          "Electricity from renewables (TWh)",
          "Electricity from renewables (TWh)",
          "Electricity from renewables (TWh)",
          "Electricity from renewables (TWh)",
          "Electricity from renewables (TWh)",
          "Electricity from renewables (TWh)",
          "Electricity from renewables (TWh)",
          "Electricity from renewables (TWh)",
          "Electricity from renewables (TWh)",
          "Electricity from renewables (TWh)",
          "Electricity from renewables (TWh)",
          "Electricity from renewables (TWh)",
          "Electricity from renewables (TWh)",
          "Electricity from renewables (TWh)",
          "Electricity from renewables (TWh)",
          "Electricity from renewables (TWh)",
          "Electricity from renewables (TWh)",
          "Electricity from renewables (TWh)",
          "Electricity from renewables (TWh)",
          "Electricity from renewables (TWh)",
          "Electricity from renewables (TWh)",
          "Electricity from renewables (TWh)",
          "Electricity from renewables (TWh)",
          "Electricity from renewables (TWh)",
          "Electricity from renewables (TWh)",
          "Electricity from renewables (TWh)",
          "Electricity from renewables (TWh)",
          "Electricity from renewables (TWh)",
          "Electricity from renewables (TWh)",
          "Electricity from renewables (TWh)",
          "Electricity from renewables (TWh)",
          "Electricity from renewables (TWh)",
          "Electricity from renewables (TWh)",
          "Electricity from renewables (TWh)",
          "Electricity from renewables (TWh)",
          "Electricity from renewables (TWh)",
          "Electricity from renewables (TWh)",
          "Electricity from renewables (TWh)",
          "Electricity from renewables (TWh)",
          "Electricity from renewables (TWh)",
          "Electricity from renewables (TWh)",
          "Electricity from renewables (TWh)",
          "Electricity from renewables (TWh)",
          "Electricity from renewables (TWh)",
          "Electricity from renewables (TWh)",
          "Electricity from renewables (TWh)",
          "Electricity from renewables (TWh)",
          "Electricity from renewables (TWh)",
          "Electricity from renewables (TWh)",
          "Electricity from renewables (TWh)",
          "Electricity from renewables (TWh)",
          "Electricity from renewables (TWh)",
          "Electricity from renewables (TWh)",
          "Electricity from renewables (TWh)",
          "Electricity from renewables (TWh)",
          "Electricity from renewables (TWh)",
          "Electricity from renewables (TWh)",
          "Electricity from renewables (TWh)",
          "Electricity from renewables (TWh)",
          "Electricity from renewables (TWh)",
          "Electricity from renewables (TWh)",
          "Electricity from renewables (TWh)",
          "Electricity from renewables (TWh)",
          "Electricity from renewables (TWh)",
          "Electricity from renewables (TWh)",
          "Electricity from renewables (TWh)",
          "Electricity from renewables (TWh)",
          "Electricity from renewables (TWh)",
          "Electricity from renewables (TWh)",
          "Electricity from renewables (TWh)",
          "Electricity from renewables (TWh)",
          "Electricity from renewables (TWh)",
          "Electricity from renewables (TWh)",
          "Electricity from renewables (TWh)",
          "Electricity from renewables (TWh)",
          "Electricity from renewables (TWh)",
          "Electricity from renewables (TWh)",
          "Electricity from renewables (TWh)",
          "Electricity from renewables (TWh)",
          "Electricity from renewables (TWh)",
          "Electricity from renewables (TWh)",
          "Electricity from renewables (TWh)",
          "Electricity from renewables (TWh)",
          "Electricity from renewables (TWh)",
          "Electricity from renewables (TWh)",
          "Electricity from renewables (TWh)",
          "Electricity from renewables (TWh)",
          "Electricity from renewables (TWh)",
          "Electricity from renewables (TWh)",
          "Electricity from renewables (TWh)",
          "Electricity from renewables (TWh)",
          "Electricity from renewables (TWh)",
          "Electricity from renewables (TWh)",
          "Electricity from renewables (TWh)",
          "Electricity from renewables (TWh)",
          "Electricity from renewables (TWh)",
          "Electricity from renewables (TWh)",
          "Electricity from renewables (TWh)",
          "Electricity from renewables (TWh)",
          "Electricity from renewables (TWh)",
          "Electricity from renewables (TWh)",
          "Electricity from renewables (TWh)",
          "Electricity from renewables (TWh)",
          "Electricity from renewables (TWh)",
          "Electricity from renewables (TWh)",
          "Electricity from renewables (TWh)",
          "Electricity from renewables (TWh)",
          "Electricity from renewables (TWh)",
          "Electricity from renewables (TWh)",
          "Electricity from renewables (TWh)",
          "Electricity from renewables (TWh)",
          "Electricity from renewables (TWh)",
          "Electricity from renewables (TWh)",
          "Electricity from renewables (TWh)",
          "Electricity from renewables (TWh)",
          "Electricity from renewables (TWh)",
          "Electricity from renewables (TWh)",
          "Electricity from renewables (TWh)",
          "Electricity from renewables (TWh)",
          "Electricity from renewables (TWh)",
          "Electricity from renewables (TWh)",
          "Electricity from renewables (TWh)",
          "Electricity from renewables (TWh)",
          "Electricity from renewables (TWh)",
          "Electricity from renewables (TWh)",
          "Electricity from renewables (TWh)",
          "Electricity from renewables (TWh)",
          "Electricity from renewables (TWh)",
          "Electricity from renewables (TWh)",
          "Electricity from renewables (TWh)",
          "Electricity from renewables (TWh)",
          "Electricity from renewables (TWh)",
          "Electricity from renewables (TWh)",
          "Electricity from renewables (TWh)",
          "Electricity from renewables (TWh)",
          "Electricity from renewables (TWh)",
          "Electricity from renewables (TWh)",
          "Electricity from renewables (TWh)",
          "Electricity from renewables (TWh)",
          "Electricity from renewables (TWh)",
          "Electricity from renewables (TWh)",
          "Electricity from renewables (TWh)",
          "Electricity from renewables (TWh)",
          "Electricity from renewables (TWh)",
          "Electricity from renewables (TWh)",
          "Electricity from renewables (TWh)",
          "Electricity from renewables (TWh)",
          "Electricity from renewables (TWh)",
          "Electricity from renewables (TWh)",
          "Electricity from renewables (TWh)",
          "Electricity from renewables (TWh)"
         ],
         "legendgroup": "",
         "marker": {
          "colors": [
           "#636efa",
           "#636efa",
           "#636efa",
           "#636efa",
           "#636efa",
           "#636efa",
           "#636efa",
           "#636efa",
           "#636efa",
           "#636efa",
           "#636efa",
           "#636efa",
           "#636efa",
           "#636efa",
           "#636efa",
           "#636efa",
           "#636efa",
           "#636efa",
           "#636efa",
           "#636efa",
           "#636efa",
           "#636efa",
           "#636efa",
           "#636efa",
           "#636efa",
           "#636efa",
           "#636efa",
           "#636efa",
           "#636efa",
           "#636efa",
           "#636efa",
           "#636efa",
           "#636efa",
           "#636efa",
           "#636efa",
           "#636efa",
           "#636efa",
           "#636efa",
           "#636efa",
           "#636efa",
           "#636efa",
           "#636efa",
           "#636efa",
           "#636efa",
           "#636efa",
           "#636efa",
           "#636efa",
           "#636efa",
           "#636efa",
           "#636efa",
           "#636efa",
           "#636efa",
           "#636efa",
           "#636efa",
           "#636efa",
           "#636efa",
           "#636efa",
           "#636efa",
           "#636efa",
           "#636efa",
           "#636efa",
           "#636efa",
           "#636efa",
           "#636efa",
           "#636efa",
           "#636efa",
           "#636efa",
           "#636efa",
           "#636efa",
           "#636efa",
           "#636efa",
           "#636efa",
           "#636efa",
           "#636efa",
           "#636efa",
           "#636efa",
           "#636efa",
           "#636efa",
           "#636efa",
           "#636efa",
           "#636efa",
           "#636efa",
           "#636efa",
           "#636efa",
           "#636efa",
           "#636efa",
           "#636efa",
           "#636efa",
           "#636efa",
           "#636efa",
           "#636efa",
           "#636efa",
           "#636efa",
           "#636efa",
           "#636efa",
           "#636efa",
           "#636efa",
           "#636efa",
           "#636efa",
           "#636efa",
           "#636efa",
           "#636efa",
           "#636efa",
           "#636efa",
           "#636efa",
           "#636efa",
           "#636efa",
           "#636efa",
           "#636efa",
           "#636efa",
           "#636efa",
           "#636efa",
           "#636efa",
           "#636efa",
           "#636efa",
           "#636efa",
           "#636efa",
           "#636efa",
           "#636efa",
           "#636efa",
           "#636efa",
           "#636efa",
           "#636efa",
           "#636efa",
           "#636efa",
           "#636efa",
           "#636efa",
           "#636efa",
           "#636efa",
           "#636efa",
           "#636efa",
           "#636efa",
           "#636efa",
           "#636efa",
           "#636efa",
           "#636efa",
           "#636efa",
           "#636efa",
           "#636efa",
           "#636efa",
           "#636efa",
           "#636efa",
           "#636efa",
           "#636efa",
           "#636efa",
           "#636efa",
           "#636efa",
           "#636efa",
           "#636efa",
           "#636efa",
           "#636efa",
           "#636efa",
           "#636efa",
           "#636efa",
           "#636efa",
           "#636efa",
           "#636efa",
           "#636efa",
           "#636efa",
           "#636efa",
           "#636efa",
           "#636efa",
           "#636efa",
           "#636efa",
           "#636efa",
           "#636efa",
           "#636efa",
           "#636efa",
           "#636efa",
           "#636efa",
           "#636efa",
           "#636efa",
           "#636efa",
           "#636efa",
           "#636efa",
           "#636efa",
           "#EF553B",
           "#EF553B",
           "#EF553B",
           "#EF553B",
           "#EF553B",
           "#EF553B",
           "#EF553B",
           "#EF553B",
           "#EF553B",
           "#EF553B",
           "#EF553B",
           "#EF553B",
           "#EF553B",
           "#EF553B",
           "#EF553B",
           "#EF553B",
           "#EF553B",
           "#EF553B",
           "#EF553B",
           "#EF553B",
           "#EF553B",
           "#EF553B",
           "#EF553B",
           "#EF553B",
           "#EF553B",
           "#EF553B",
           "#EF553B",
           "#EF553B",
           "#EF553B",
           "#EF553B",
           "#EF553B",
           "#EF553B",
           "#EF553B",
           "#EF553B",
           "#EF553B",
           "#EF553B",
           "#EF553B",
           "#EF553B",
           "#EF553B",
           "#EF553B",
           "#EF553B",
           "#EF553B",
           "#EF553B",
           "#EF553B",
           "#EF553B",
           "#EF553B",
           "#EF553B",
           "#EF553B",
           "#EF553B",
           "#EF553B",
           "#EF553B",
           "#EF553B",
           "#EF553B",
           "#EF553B",
           "#EF553B",
           "#EF553B",
           "#EF553B",
           "#EF553B",
           "#EF553B",
           "#EF553B",
           "#EF553B",
           "#EF553B",
           "#EF553B",
           "#EF553B",
           "#EF553B",
           "#EF553B",
           "#EF553B",
           "#EF553B",
           "#EF553B",
           "#EF553B",
           "#EF553B",
           "#EF553B",
           "#EF553B",
           "#EF553B",
           "#EF553B",
           "#EF553B",
           "#EF553B",
           "#EF553B",
           "#EF553B",
           "#EF553B",
           "#EF553B",
           "#EF553B",
           "#EF553B",
           "#EF553B",
           "#EF553B",
           "#EF553B",
           "#EF553B",
           "#EF553B",
           "#EF553B",
           "#EF553B",
           "#EF553B",
           "#EF553B",
           "#EF553B",
           "#EF553B",
           "#EF553B",
           "#EF553B",
           "#EF553B",
           "#EF553B",
           "#EF553B",
           "#EF553B",
           "#EF553B",
           "#EF553B",
           "#EF553B",
           "#EF553B",
           "#EF553B",
           "#EF553B",
           "#EF553B",
           "#EF553B",
           "#EF553B",
           "#EF553B",
           "#EF553B",
           "#EF553B",
           "#EF553B",
           "#EF553B",
           "#EF553B",
           "#EF553B",
           "#EF553B",
           "#EF553B",
           "#EF553B",
           "#EF553B",
           "#EF553B",
           "#EF553B",
           "#EF553B",
           "#EF553B",
           "#EF553B",
           "#EF553B",
           "#EF553B",
           "#EF553B",
           "#EF553B",
           "#EF553B",
           "#EF553B",
           "#EF553B",
           "#EF553B",
           "#EF553B",
           "#EF553B",
           "#EF553B",
           "#EF553B",
           "#EF553B",
           "#EF553B",
           "#EF553B",
           "#EF553B",
           "#EF553B",
           "#EF553B",
           "#EF553B",
           "#EF553B",
           "#EF553B",
           "#EF553B",
           "#EF553B",
           "#EF553B",
           "#EF553B",
           "#EF553B",
           "#EF553B",
           "#EF553B",
           "#EF553B",
           "#EF553B",
           "#EF553B",
           "#EF553B",
           "#EF553B",
           "#EF553B",
           "#EF553B",
           "#EF553B",
           "#EF553B",
           "#EF553B",
           "#EF553B",
           "#EF553B",
           "#EF553B",
           "#EF553B",
           "#EF553B",
           "#EF553B",
           "#EF553B",
           "#EF553B",
           "#EF553B",
           "#EF553B",
           "#EF553B",
           "#EF553B",
           "#EF553B",
           "#00cc96",
           "#00cc96",
           "#00cc96",
           "#00cc96",
           "#00cc96",
           "#00cc96",
           "#00cc96",
           "#00cc96",
           "#00cc96",
           "#00cc96",
           "#00cc96",
           "#00cc96",
           "#00cc96",
           "#00cc96",
           "#00cc96",
           "#00cc96",
           "#00cc96",
           "#00cc96",
           "#00cc96",
           "#00cc96",
           "#00cc96",
           "#00cc96",
           "#00cc96",
           "#00cc96",
           "#00cc96",
           "#00cc96",
           "#00cc96",
           "#00cc96",
           "#00cc96",
           "#00cc96",
           "#00cc96",
           "#00cc96",
           "#00cc96",
           "#00cc96",
           "#00cc96",
           "#00cc96",
           "#00cc96",
           "#00cc96",
           "#00cc96",
           "#00cc96",
           "#00cc96",
           "#00cc96",
           "#00cc96",
           "#00cc96",
           "#00cc96",
           "#00cc96",
           "#00cc96",
           "#00cc96",
           "#00cc96",
           "#00cc96",
           "#00cc96",
           "#00cc96",
           "#00cc96",
           "#00cc96",
           "#00cc96",
           "#00cc96",
           "#00cc96",
           "#00cc96",
           "#00cc96",
           "#00cc96",
           "#00cc96",
           "#00cc96",
           "#00cc96",
           "#00cc96",
           "#00cc96",
           "#00cc96",
           "#00cc96",
           "#00cc96",
           "#00cc96",
           "#00cc96",
           "#00cc96",
           "#00cc96",
           "#00cc96",
           "#00cc96",
           "#00cc96",
           "#00cc96",
           "#00cc96",
           "#00cc96",
           "#00cc96",
           "#00cc96",
           "#00cc96",
           "#00cc96",
           "#00cc96",
           "#00cc96",
           "#00cc96",
           "#00cc96",
           "#00cc96",
           "#00cc96",
           "#00cc96",
           "#00cc96",
           "#00cc96",
           "#00cc96",
           "#00cc96",
           "#00cc96",
           "#00cc96",
           "#00cc96",
           "#00cc96",
           "#00cc96",
           "#00cc96",
           "#00cc96",
           "#00cc96",
           "#00cc96",
           "#00cc96",
           "#00cc96",
           "#00cc96",
           "#00cc96",
           "#00cc96",
           "#00cc96",
           "#00cc96",
           "#00cc96",
           "#00cc96",
           "#00cc96",
           "#00cc96",
           "#00cc96",
           "#00cc96",
           "#00cc96",
           "#00cc96",
           "#00cc96",
           "#00cc96",
           "#00cc96",
           "#00cc96",
           "#00cc96",
           "#00cc96",
           "#00cc96",
           "#00cc96",
           "#00cc96",
           "#00cc96",
           "#00cc96",
           "#00cc96",
           "#00cc96",
           "#00cc96",
           "#00cc96",
           "#00cc96",
           "#00cc96",
           "#00cc96",
           "#00cc96",
           "#00cc96",
           "#00cc96",
           "#00cc96",
           "#00cc96",
           "#00cc96",
           "#00cc96",
           "#00cc96",
           "#00cc96",
           "#00cc96",
           "#00cc96",
           "#00cc96",
           "#00cc96",
           "#00cc96",
           "#00cc96",
           "#00cc96",
           "#00cc96",
           "#00cc96",
           "#00cc96",
           "#00cc96",
           "#00cc96",
           "#00cc96",
           "#00cc96",
           "#00cc96",
           "#00cc96",
           "#00cc96",
           "#00cc96",
           "#00cc96",
           "#00cc96",
           "#00cc96",
           "#00cc96",
           "#00cc96",
           "#00cc96",
           "#00cc96",
           "#00cc96",
           "#00cc96",
           "#00cc96",
           "#00cc96",
           "#00cc96",
           "#00cc96",
           "#00cc96"
          ]
         },
         "name": "",
         "showlegend": true,
         "type": "pie",
         "values": [
          3.98,
          1.02,
          984.81,
          42.85,
          5.7,
          1602.5,
          46.42,
          16.49,
          4241.59,
          380.13,
          399.55,
          39.41,
          460.72,
          867.04,
          19.86,
          632.05,
          660.48,
          3.54,
          3.14,
          0,
          0,
          179.51,
          27.72,
          1397.75,
          474.87,
          16.11,
          0.56,
          31.080000000000002,
          31.38,
          2806.02,
          11.72,
          0.32,
          3.97,
          746.56,
          67927.33,
          323.18,
          1.1,
          15.5,
          9.72,
          114.5,
          323.01,
          92.18,
          1064.46,
          457.52,
          4.45,
          1.26,
          266.89,
          155.16,
          2675.06,
          39.36,
          10.82,
          6.4,
          202.84,
          1.05,
          1.76,
          6.69,
          509.86,
          1128.16,
          0.43,
          19.52,
          4.78,
          33.9,
          7640.41,
          84.76,
          975.93,
          3.81,
          81.77,
          9.07,
          0.89,
          17.13,
          11.64,
          77.06,
          364.08,
          0.05,
          17445.829999999998,
          3319.43,
          997.67,
          471.5,
          1163.1,
          4402.5599999999995,
          93.9,
          15140.82,
          273.93,
          1544.46,
          37.01,
          0.44,
          1092.33,
          32.17,
          46.379999999999995,
          293.78,
          0,
          5.55,
          558.54,
          49.77,
          37.25,
          15.93,
          3.12,
          2329.25,
          7.29,
          16.43,
          41.52,
          14.35,
          42.84,
          4303.04,
          88.17999999999999,
          18.63,
          441.19,
          19.65,
          97.28999999999999,
          0.93,
          0.5599999999999999,
          0.19,
          1911.99,
          38.39,
          225.71,
          42.46,
          6.7,
          383.11,
          102.07,
          44.7,
          435.77,
          1355.28,
          54.71,
          48.019999999999996,
          0.31000000000000005,
          284.7,
          1032.81,
          3040.32,
          606.04,
          435.75,
          558.7,
          646.12,
          3.96,
          3.45,
          6.93,
          2.2,
          1.46,
          1.05,
          5188.39,
          55.730000000000004,
          375.65000000000003,
          6.92,
          1.24,
          879.06,
          154.52,
          113.77,
          1.69,
          6.3100000000000005,
          4472.7699999999995,
          4.07,
          2917.58,
          130.64,
          66.19,
          18.169999999999998,
          102.16,
          67.49,
          8.38,
          2757.08,
          3.33,
          1.02,
          157.5,
          313.38,
          3216.08,
          330.1,
          0,
          7.08,
          1689.59,
          1804.35,
          5131.5199999999995,
          57652,
          33.41,
          913.01,
          0.9800000000000001,
          103.06,
          10.34,
          67.81,
          0,
          0,
          0,
          0,
          0,
          141.18,
          46.63,
          0,
          0,
          0,
          0,
          0,
          0,
          0,
          0,
          0.34,
          903.03,
          0,
          0,
          0,
          0,
          0,
          0,
          277.06,
          349.27,
          0,
          0,
          0,
          0,
          1844.24,
          0,
          0,
          0,
          0,
          2609.19,
          0,
          0,
          0,
          0,
          0,
          0,
          0,
          547.16,
          0,
          0,
          0,
          0,
          0,
          0,
          0,
          0,
          0,
          0,
          0,
          0,
          0,
          484.14,
          8914.2,
          0,
          0,
          0,
          0,
          2602.75,
          0,
          0,
          0,
          0,
          0,
          0,
          0,
          0,
          0,
          311.72,
          0,
          577.53,
          0,
          0,
          0,
          0,
          0,
          0,
          3386.87,
          0,
          0,
          0,
          0,
          0,
          0,
          0,
          0,
          0,
          0,
          0,
          114.06,
          0,
          0,
          0,
          0,
          0,
          0,
          0,
          0,
          0,
          205.71,
          0,
          0,
          0,
          0,
          0,
          0,
          0,
          0,
          81.7,
          0,
          0,
          0,
          0,
          0,
          0,
          0,
          0,
          86.08,
          0,
          0,
          0,
          0,
          0,
          0,
          0,
          0,
          0,
          195.46,
          0,
          0,
          0,
          0,
          0,
          0,
          0,
          0,
          0,
          0,
          0,
          0,
          335.53000000000003,
          120.05,
          0,
          0,
          265.55,
          0,
          1240.44,
          0,
          0,
          0,
          1347.55,
          516.54,
          0,
          0,
          0,
          0,
          0,
          0,
          0,
          0,
          0,
          0,
          1783.1100000000001,
          1.56,
          1493.76,
          16602.61,
          0,
          0,
          0,
          0,
          0,
          0,
          15.56,
          108.87,
          7.67,
          92.84,
          0.06,
          710.04,
          41.78,
          1.61,
          606.52,
          966.63,
          43.1,
          0,
          0.07,
          22.1,
          0.21000000000000002,
          5.95,
          178.28,
          4.86,
          0.02,
          0,
          121.82,
          114.57,
          0.03,
          8511.46,
          106.01,
          2.58,
          2.94,
          27.37,
          87.91,
          8167.16,
          0.06,
          2.81,
          0.15,
          517.75,
          19702.94,
          947.0699999999999,
          0,
          14.34,
          187.87,
          153.08,
          32.77,
          4.05,
          128.92000000000002,
          287.04,
          0,
          0.6,
          36.54,
          259.56,
          319.21,
          74.54,
          3.71,
          0.04,
          19.72,
          12.52,
          141.63,
          11.72,
          550.35,
          1708.15,
          0,
          18.81,
          0,
          157.75,
          2633.8,
          131.82,
          203.72,
          0,
          117.06,
          15.09,
          0,
          2.23,
          3.89,
          71.01,
          50.730000000000004,
          303.84000000000003,
          3463.36,
          656.59,
          68.11,
          107.13,
          16.08,
          1681.25,
          10.69,
          2723.67,
          13.31,
          185.87,
          123.32,
          0,
          0.26,
          265.93,
          68.67,
          15.620000000000001,
          10.09,
          0.53,
          0.11,
          24.32,
          7.6000000000000005,
          15.290000000000001,
          33.58,
          275.73,
          0.15,
          19.17,
          1.22,
          3.62,
          8.959999999999999,
          1011.55,
          3.0100000000000002,
          24.97,
          66.02,
          303.03000000000003,
          136.32,
          31.18,
          0,
          71.42,
          243.06,
          8.38,
          656.91,
          31.96,
          0.21000000000000002,
          139.38,
          29.62,
          2775.43,
          0.19,
          656.67,
          104.11,
          26.8,
          1131.52,
          476.03,
          425.51,
          264.94,
          440.51,
          4.78,
          0.21,
          414.58,
          3.95,
          0.08,
          0,
          0.49,
          1.08,
          0.18,
          0.88,
          8.7,
          142.55,
          0.17,
          1.85,
          4.23,
          114.28,
          92.69,
          0,
          0.1,
          92.53,
          0.03,
          1614.05,
          94.68,
          111.65,
          17.54,
          1777.3,
          713.67,
          345.34000000000003,
          270.33,
          2.41,
          0.04,
          0.32,
          7.09,
          1284.98,
          0,
          0,
          48.06,
          244.54,
          12.469999999999999,
          1004.27,
          10234.1,
          188.69,
          135.2,
          0.17,
          1.93,
          224.73,
          105.15
         ]
        }
       ],
       "layout": {
        "height": 600,
        "legend": {
         "tracegroupgap": 0
        },
        "template": {
         "data": {
          "bar": [
           {
            "error_x": {
             "color": "#2a3f5f"
            },
            "error_y": {
             "color": "#2a3f5f"
            },
            "marker": {
             "line": {
              "color": "#E5ECF6",
              "width": 0.5
             },
             "pattern": {
              "fillmode": "overlay",
              "size": 10,
              "solidity": 0.2
             }
            },
            "type": "bar"
           }
          ],
          "barpolar": [
           {
            "marker": {
             "line": {
              "color": "#E5ECF6",
              "width": 0.5
             },
             "pattern": {
              "fillmode": "overlay",
              "size": 10,
              "solidity": 0.2
             }
            },
            "type": "barpolar"
           }
          ],
          "carpet": [
           {
            "aaxis": {
             "endlinecolor": "#2a3f5f",
             "gridcolor": "white",
             "linecolor": "white",
             "minorgridcolor": "white",
             "startlinecolor": "#2a3f5f"
            },
            "baxis": {
             "endlinecolor": "#2a3f5f",
             "gridcolor": "white",
             "linecolor": "white",
             "minorgridcolor": "white",
             "startlinecolor": "#2a3f5f"
            },
            "type": "carpet"
           }
          ],
          "choropleth": [
           {
            "colorbar": {
             "outlinewidth": 0,
             "ticks": ""
            },
            "type": "choropleth"
           }
          ],
          "contour": [
           {
            "colorbar": {
             "outlinewidth": 0,
             "ticks": ""
            },
            "colorscale": [
             [
              0,
              "#0d0887"
             ],
             [
              0.1111111111111111,
              "#46039f"
             ],
             [
              0.2222222222222222,
              "#7201a8"
             ],
             [
              0.3333333333333333,
              "#9c179e"
             ],
             [
              0.4444444444444444,
              "#bd3786"
             ],
             [
              0.5555555555555556,
              "#d8576b"
             ],
             [
              0.6666666666666666,
              "#ed7953"
             ],
             [
              0.7777777777777778,
              "#fb9f3a"
             ],
             [
              0.8888888888888888,
              "#fdca26"
             ],
             [
              1,
              "#f0f921"
             ]
            ],
            "type": "contour"
           }
          ],
          "contourcarpet": [
           {
            "colorbar": {
             "outlinewidth": 0,
             "ticks": ""
            },
            "type": "contourcarpet"
           }
          ],
          "heatmap": [
           {
            "colorbar": {
             "outlinewidth": 0,
             "ticks": ""
            },
            "colorscale": [
             [
              0,
              "#0d0887"
             ],
             [
              0.1111111111111111,
              "#46039f"
             ],
             [
              0.2222222222222222,
              "#7201a8"
             ],
             [
              0.3333333333333333,
              "#9c179e"
             ],
             [
              0.4444444444444444,
              "#bd3786"
             ],
             [
              0.5555555555555556,
              "#d8576b"
             ],
             [
              0.6666666666666666,
              "#ed7953"
             ],
             [
              0.7777777777777778,
              "#fb9f3a"
             ],
             [
              0.8888888888888888,
              "#fdca26"
             ],
             [
              1,
              "#f0f921"
             ]
            ],
            "type": "heatmap"
           }
          ],
          "heatmapgl": [
           {
            "colorbar": {
             "outlinewidth": 0,
             "ticks": ""
            },
            "colorscale": [
             [
              0,
              "#0d0887"
             ],
             [
              0.1111111111111111,
              "#46039f"
             ],
             [
              0.2222222222222222,
              "#7201a8"
             ],
             [
              0.3333333333333333,
              "#9c179e"
             ],
             [
              0.4444444444444444,
              "#bd3786"
             ],
             [
              0.5555555555555556,
              "#d8576b"
             ],
             [
              0.6666666666666666,
              "#ed7953"
             ],
             [
              0.7777777777777778,
              "#fb9f3a"
             ],
             [
              0.8888888888888888,
              "#fdca26"
             ],
             [
              1,
              "#f0f921"
             ]
            ],
            "type": "heatmapgl"
           }
          ],
          "histogram": [
           {
            "marker": {
             "pattern": {
              "fillmode": "overlay",
              "size": 10,
              "solidity": 0.2
             }
            },
            "type": "histogram"
           }
          ],
          "histogram2d": [
           {
            "colorbar": {
             "outlinewidth": 0,
             "ticks": ""
            },
            "colorscale": [
             [
              0,
              "#0d0887"
             ],
             [
              0.1111111111111111,
              "#46039f"
             ],
             [
              0.2222222222222222,
              "#7201a8"
             ],
             [
              0.3333333333333333,
              "#9c179e"
             ],
             [
              0.4444444444444444,
              "#bd3786"
             ],
             [
              0.5555555555555556,
              "#d8576b"
             ],
             [
              0.6666666666666666,
              "#ed7953"
             ],
             [
              0.7777777777777778,
              "#fb9f3a"
             ],
             [
              0.8888888888888888,
              "#fdca26"
             ],
             [
              1,
              "#f0f921"
             ]
            ],
            "type": "histogram2d"
           }
          ],
          "histogram2dcontour": [
           {
            "colorbar": {
             "outlinewidth": 0,
             "ticks": ""
            },
            "colorscale": [
             [
              0,
              "#0d0887"
             ],
             [
              0.1111111111111111,
              "#46039f"
             ],
             [
              0.2222222222222222,
              "#7201a8"
             ],
             [
              0.3333333333333333,
              "#9c179e"
             ],
             [
              0.4444444444444444,
              "#bd3786"
             ],
             [
              0.5555555555555556,
              "#d8576b"
             ],
             [
              0.6666666666666666,
              "#ed7953"
             ],
             [
              0.7777777777777778,
              "#fb9f3a"
             ],
             [
              0.8888888888888888,
              "#fdca26"
             ],
             [
              1,
              "#f0f921"
             ]
            ],
            "type": "histogram2dcontour"
           }
          ],
          "mesh3d": [
           {
            "colorbar": {
             "outlinewidth": 0,
             "ticks": ""
            },
            "type": "mesh3d"
           }
          ],
          "parcoords": [
           {
            "line": {
             "colorbar": {
              "outlinewidth": 0,
              "ticks": ""
             }
            },
            "type": "parcoords"
           }
          ],
          "pie": [
           {
            "automargin": true,
            "type": "pie"
           }
          ],
          "scatter": [
           {
            "fillpattern": {
             "fillmode": "overlay",
             "size": 10,
             "solidity": 0.2
            },
            "type": "scatter"
           }
          ],
          "scatter3d": [
           {
            "line": {
             "colorbar": {
              "outlinewidth": 0,
              "ticks": ""
             }
            },
            "marker": {
             "colorbar": {
              "outlinewidth": 0,
              "ticks": ""
             }
            },
            "type": "scatter3d"
           }
          ],
          "scattercarpet": [
           {
            "marker": {
             "colorbar": {
              "outlinewidth": 0,
              "ticks": ""
             }
            },
            "type": "scattercarpet"
           }
          ],
          "scattergeo": [
           {
            "marker": {
             "colorbar": {
              "outlinewidth": 0,
              "ticks": ""
             }
            },
            "type": "scattergeo"
           }
          ],
          "scattergl": [
           {
            "marker": {
             "colorbar": {
              "outlinewidth": 0,
              "ticks": ""
             }
            },
            "type": "scattergl"
           }
          ],
          "scattermapbox": [
           {
            "marker": {
             "colorbar": {
              "outlinewidth": 0,
              "ticks": ""
             }
            },
            "type": "scattermapbox"
           }
          ],
          "scatterpolar": [
           {
            "marker": {
             "colorbar": {
              "outlinewidth": 0,
              "ticks": ""
             }
            },
            "type": "scatterpolar"
           }
          ],
          "scatterpolargl": [
           {
            "marker": {
             "colorbar": {
              "outlinewidth": 0,
              "ticks": ""
             }
            },
            "type": "scatterpolargl"
           }
          ],
          "scatterternary": [
           {
            "marker": {
             "colorbar": {
              "outlinewidth": 0,
              "ticks": ""
             }
            },
            "type": "scatterternary"
           }
          ],
          "surface": [
           {
            "colorbar": {
             "outlinewidth": 0,
             "ticks": ""
            },
            "colorscale": [
             [
              0,
              "#0d0887"
             ],
             [
              0.1111111111111111,
              "#46039f"
             ],
             [
              0.2222222222222222,
              "#7201a8"
             ],
             [
              0.3333333333333333,
              "#9c179e"
             ],
             [
              0.4444444444444444,
              "#bd3786"
             ],
             [
              0.5555555555555556,
              "#d8576b"
             ],
             [
              0.6666666666666666,
              "#ed7953"
             ],
             [
              0.7777777777777778,
              "#fb9f3a"
             ],
             [
              0.8888888888888888,
              "#fdca26"
             ],
             [
              1,
              "#f0f921"
             ]
            ],
            "type": "surface"
           }
          ],
          "table": [
           {
            "cells": {
             "fill": {
              "color": "#EBF0F8"
             },
             "line": {
              "color": "white"
             }
            },
            "header": {
             "fill": {
              "color": "#C8D4E3"
             },
             "line": {
              "color": "white"
             }
            },
            "type": "table"
           }
          ]
         },
         "layout": {
          "annotationdefaults": {
           "arrowcolor": "#2a3f5f",
           "arrowhead": 0,
           "arrowwidth": 1
          },
          "autotypenumbers": "strict",
          "coloraxis": {
           "colorbar": {
            "outlinewidth": 0,
            "ticks": ""
           }
          },
          "colorscale": {
           "diverging": [
            [
             0,
             "#8e0152"
            ],
            [
             0.1,
             "#c51b7d"
            ],
            [
             0.2,
             "#de77ae"
            ],
            [
             0.3,
             "#f1b6da"
            ],
            [
             0.4,
             "#fde0ef"
            ],
            [
             0.5,
             "#f7f7f7"
            ],
            [
             0.6,
             "#e6f5d0"
            ],
            [
             0.7,
             "#b8e186"
            ],
            [
             0.8,
             "#7fbc41"
            ],
            [
             0.9,
             "#4d9221"
            ],
            [
             1,
             "#276419"
            ]
           ],
           "sequential": [
            [
             0,
             "#0d0887"
            ],
            [
             0.1111111111111111,
             "#46039f"
            ],
            [
             0.2222222222222222,
             "#7201a8"
            ],
            [
             0.3333333333333333,
             "#9c179e"
            ],
            [
             0.4444444444444444,
             "#bd3786"
            ],
            [
             0.5555555555555556,
             "#d8576b"
            ],
            [
             0.6666666666666666,
             "#ed7953"
            ],
            [
             0.7777777777777778,
             "#fb9f3a"
            ],
            [
             0.8888888888888888,
             "#fdca26"
            ],
            [
             1,
             "#f0f921"
            ]
           ],
           "sequentialminus": [
            [
             0,
             "#0d0887"
            ],
            [
             0.1111111111111111,
             "#46039f"
            ],
            [
             0.2222222222222222,
             "#7201a8"
            ],
            [
             0.3333333333333333,
             "#9c179e"
            ],
            [
             0.4444444444444444,
             "#bd3786"
            ],
            [
             0.5555555555555556,
             "#d8576b"
            ],
            [
             0.6666666666666666,
             "#ed7953"
            ],
            [
             0.7777777777777778,
             "#fb9f3a"
            ],
            [
             0.8888888888888888,
             "#fdca26"
            ],
            [
             1,
             "#f0f921"
            ]
           ]
          },
          "colorway": [
           "#636efa",
           "#EF553B",
           "#00cc96",
           "#ab63fa",
           "#FFA15A",
           "#19d3f3",
           "#FF6692",
           "#B6E880",
           "#FF97FF",
           "#FECB52"
          ],
          "font": {
           "color": "#2a3f5f"
          },
          "geo": {
           "bgcolor": "white",
           "lakecolor": "white",
           "landcolor": "#E5ECF6",
           "showlakes": true,
           "showland": true,
           "subunitcolor": "white"
          },
          "hoverlabel": {
           "align": "left"
          },
          "hovermode": "closest",
          "mapbox": {
           "style": "light"
          },
          "paper_bgcolor": "white",
          "plot_bgcolor": "#E5ECF6",
          "polar": {
           "angularaxis": {
            "gridcolor": "white",
            "linecolor": "white",
            "ticks": ""
           },
           "bgcolor": "#E5ECF6",
           "radialaxis": {
            "gridcolor": "white",
            "linecolor": "white",
            "ticks": ""
           }
          },
          "scene": {
           "xaxis": {
            "backgroundcolor": "#E5ECF6",
            "gridcolor": "white",
            "gridwidth": 2,
            "linecolor": "white",
            "showbackground": true,
            "ticks": "",
            "zerolinecolor": "white"
           },
           "yaxis": {
            "backgroundcolor": "#E5ECF6",
            "gridcolor": "white",
            "gridwidth": 2,
            "linecolor": "white",
            "showbackground": true,
            "ticks": "",
            "zerolinecolor": "white"
           },
           "zaxis": {
            "backgroundcolor": "#E5ECF6",
            "gridcolor": "white",
            "gridwidth": 2,
            "linecolor": "white",
            "showbackground": true,
            "ticks": "",
            "zerolinecolor": "white"
           }
          },
          "shapedefaults": {
           "line": {
            "color": "#2a3f5f"
           }
          },
          "ternary": {
           "aaxis": {
            "gridcolor": "white",
            "linecolor": "white",
            "ticks": ""
           },
           "baxis": {
            "gridcolor": "white",
            "linecolor": "white",
            "ticks": ""
           },
           "bgcolor": "#E5ECF6",
           "caxis": {
            "gridcolor": "white",
            "linecolor": "white",
            "ticks": ""
           }
          },
          "title": {
           "x": 0.05
          },
          "xaxis": {
           "automargin": true,
           "gridcolor": "white",
           "linecolor": "white",
           "ticks": "",
           "title": {
            "standoff": 15
           },
           "zerolinecolor": "white",
           "zerolinewidth": 2
          },
          "yaxis": {
           "automargin": true,
           "gridcolor": "white",
           "linecolor": "white",
           "ticks": "",
           "title": {
            "standoff": 15
           },
           "zerolinecolor": "white",
           "zerolinewidth": 2
          }
         }
        },
        "title": {
         "text": "Main Sources of Electricity in Different Countries"
        },
        "width": 800
       }
      }
     },
     "metadata": {},
     "output_type": "display_data"
    }
   ],
   "source": [
    "df_aggregated = df.groupby('Entity').agg({\n",
    "    'Electricity from fossil fuels (TWh)': 'sum',\n",
    "    'Electricity from nuclear (TWh)': 'sum',\n",
    "    'Electricity from renewables (TWh)': 'sum'\n",
    "}).reset_index()\n",
    "\n",
    "df_melted = df_aggregated.melt(id_vars='Entity', var_name='Source', value_name='Electricity (TWh)')\n",
    "fig = px.pie(df_melted, names='Source', values='Electricity (TWh)', color='Source', title='Main Sources of Electricity in Different Countries')\n",
    "fig.update_layout(width=800, height=600)\n",
    "fig.show()"
   ]
  },
  {
   "cell_type": "code",
   "execution_count": 6,
   "metadata": {},
   "outputs": [
    {
     "data": {
      "application/vnd.plotly.v1+json": {
       "config": {
        "plotlyServerURL": "https://plot.ly"
       },
       "data": [
        {
         "hovertemplate": "Year=%{x}<br>Access to Electricity (%)=%{y}<extra></extra>",
         "legendgroup": "",
         "line": {
          "color": "#636efa",
          "dash": "solid"
         },
         "marker": {
          "symbol": "circle"
         },
         "mode": "lines",
         "name": "",
         "orientation": "v",
         "showlegend": false,
         "type": "scatter",
         "x": [
          2000,
          2001,
          2002,
          2003,
          2004,
          2005,
          2006,
          2007,
          2008,
          2009,
          2010,
          2011,
          2012,
          2013,
          2014,
          2015,
          2016,
          2017,
          2018,
          2019,
          2020
         ],
         "xaxis": "x",
         "y": [
          73.12129176705882,
          73.64649957705883,
          73.99243717134503,
          74.56480078538011,
          75.1479655385965,
          75.56081601520468,
          76.49222845555556,
          76.9137928678161,
          77.44069590977011,
          77.80496805977012,
          78.53495358850574,
          79.40394607471264,
          80.27541079885057,
          80.31820591828571,
          81.048828764,
          81.68352206285715,
          82.77789023257142,
          83.56211616,
          84.32894910628572,
          84.76053396571429,
          85.46007794457142
         ],
         "yaxis": "y"
        }
       ],
       "layout": {
        "height": 600,
        "legend": {
         "tracegroupgap": 0
        },
        "template": {
         "data": {
          "bar": [
           {
            "error_x": {
             "color": "#2a3f5f"
            },
            "error_y": {
             "color": "#2a3f5f"
            },
            "marker": {
             "line": {
              "color": "#E5ECF6",
              "width": 0.5
             },
             "pattern": {
              "fillmode": "overlay",
              "size": 10,
              "solidity": 0.2
             }
            },
            "type": "bar"
           }
          ],
          "barpolar": [
           {
            "marker": {
             "line": {
              "color": "#E5ECF6",
              "width": 0.5
             },
             "pattern": {
              "fillmode": "overlay",
              "size": 10,
              "solidity": 0.2
             }
            },
            "type": "barpolar"
           }
          ],
          "carpet": [
           {
            "aaxis": {
             "endlinecolor": "#2a3f5f",
             "gridcolor": "white",
             "linecolor": "white",
             "minorgridcolor": "white",
             "startlinecolor": "#2a3f5f"
            },
            "baxis": {
             "endlinecolor": "#2a3f5f",
             "gridcolor": "white",
             "linecolor": "white",
             "minorgridcolor": "white",
             "startlinecolor": "#2a3f5f"
            },
            "type": "carpet"
           }
          ],
          "choropleth": [
           {
            "colorbar": {
             "outlinewidth": 0,
             "ticks": ""
            },
            "type": "choropleth"
           }
          ],
          "contour": [
           {
            "colorbar": {
             "outlinewidth": 0,
             "ticks": ""
            },
            "colorscale": [
             [
              0,
              "#0d0887"
             ],
             [
              0.1111111111111111,
              "#46039f"
             ],
             [
              0.2222222222222222,
              "#7201a8"
             ],
             [
              0.3333333333333333,
              "#9c179e"
             ],
             [
              0.4444444444444444,
              "#bd3786"
             ],
             [
              0.5555555555555556,
              "#d8576b"
             ],
             [
              0.6666666666666666,
              "#ed7953"
             ],
             [
              0.7777777777777778,
              "#fb9f3a"
             ],
             [
              0.8888888888888888,
              "#fdca26"
             ],
             [
              1,
              "#f0f921"
             ]
            ],
            "type": "contour"
           }
          ],
          "contourcarpet": [
           {
            "colorbar": {
             "outlinewidth": 0,
             "ticks": ""
            },
            "type": "contourcarpet"
           }
          ],
          "heatmap": [
           {
            "colorbar": {
             "outlinewidth": 0,
             "ticks": ""
            },
            "colorscale": [
             [
              0,
              "#0d0887"
             ],
             [
              0.1111111111111111,
              "#46039f"
             ],
             [
              0.2222222222222222,
              "#7201a8"
             ],
             [
              0.3333333333333333,
              "#9c179e"
             ],
             [
              0.4444444444444444,
              "#bd3786"
             ],
             [
              0.5555555555555556,
              "#d8576b"
             ],
             [
              0.6666666666666666,
              "#ed7953"
             ],
             [
              0.7777777777777778,
              "#fb9f3a"
             ],
             [
              0.8888888888888888,
              "#fdca26"
             ],
             [
              1,
              "#f0f921"
             ]
            ],
            "type": "heatmap"
           }
          ],
          "heatmapgl": [
           {
            "colorbar": {
             "outlinewidth": 0,
             "ticks": ""
            },
            "colorscale": [
             [
              0,
              "#0d0887"
             ],
             [
              0.1111111111111111,
              "#46039f"
             ],
             [
              0.2222222222222222,
              "#7201a8"
             ],
             [
              0.3333333333333333,
              "#9c179e"
             ],
             [
              0.4444444444444444,
              "#bd3786"
             ],
             [
              0.5555555555555556,
              "#d8576b"
             ],
             [
              0.6666666666666666,
              "#ed7953"
             ],
             [
              0.7777777777777778,
              "#fb9f3a"
             ],
             [
              0.8888888888888888,
              "#fdca26"
             ],
             [
              1,
              "#f0f921"
             ]
            ],
            "type": "heatmapgl"
           }
          ],
          "histogram": [
           {
            "marker": {
             "pattern": {
              "fillmode": "overlay",
              "size": 10,
              "solidity": 0.2
             }
            },
            "type": "histogram"
           }
          ],
          "histogram2d": [
           {
            "colorbar": {
             "outlinewidth": 0,
             "ticks": ""
            },
            "colorscale": [
             [
              0,
              "#0d0887"
             ],
             [
              0.1111111111111111,
              "#46039f"
             ],
             [
              0.2222222222222222,
              "#7201a8"
             ],
             [
              0.3333333333333333,
              "#9c179e"
             ],
             [
              0.4444444444444444,
              "#bd3786"
             ],
             [
              0.5555555555555556,
              "#d8576b"
             ],
             [
              0.6666666666666666,
              "#ed7953"
             ],
             [
              0.7777777777777778,
              "#fb9f3a"
             ],
             [
              0.8888888888888888,
              "#fdca26"
             ],
             [
              1,
              "#f0f921"
             ]
            ],
            "type": "histogram2d"
           }
          ],
          "histogram2dcontour": [
           {
            "colorbar": {
             "outlinewidth": 0,
             "ticks": ""
            },
            "colorscale": [
             [
              0,
              "#0d0887"
             ],
             [
              0.1111111111111111,
              "#46039f"
             ],
             [
              0.2222222222222222,
              "#7201a8"
             ],
             [
              0.3333333333333333,
              "#9c179e"
             ],
             [
              0.4444444444444444,
              "#bd3786"
             ],
             [
              0.5555555555555556,
              "#d8576b"
             ],
             [
              0.6666666666666666,
              "#ed7953"
             ],
             [
              0.7777777777777778,
              "#fb9f3a"
             ],
             [
              0.8888888888888888,
              "#fdca26"
             ],
             [
              1,
              "#f0f921"
             ]
            ],
            "type": "histogram2dcontour"
           }
          ],
          "mesh3d": [
           {
            "colorbar": {
             "outlinewidth": 0,
             "ticks": ""
            },
            "type": "mesh3d"
           }
          ],
          "parcoords": [
           {
            "line": {
             "colorbar": {
              "outlinewidth": 0,
              "ticks": ""
             }
            },
            "type": "parcoords"
           }
          ],
          "pie": [
           {
            "automargin": true,
            "type": "pie"
           }
          ],
          "scatter": [
           {
            "fillpattern": {
             "fillmode": "overlay",
             "size": 10,
             "solidity": 0.2
            },
            "type": "scatter"
           }
          ],
          "scatter3d": [
           {
            "line": {
             "colorbar": {
              "outlinewidth": 0,
              "ticks": ""
             }
            },
            "marker": {
             "colorbar": {
              "outlinewidth": 0,
              "ticks": ""
             }
            },
            "type": "scatter3d"
           }
          ],
          "scattercarpet": [
           {
            "marker": {
             "colorbar": {
              "outlinewidth": 0,
              "ticks": ""
             }
            },
            "type": "scattercarpet"
           }
          ],
          "scattergeo": [
           {
            "marker": {
             "colorbar": {
              "outlinewidth": 0,
              "ticks": ""
             }
            },
            "type": "scattergeo"
           }
          ],
          "scattergl": [
           {
            "marker": {
             "colorbar": {
              "outlinewidth": 0,
              "ticks": ""
             }
            },
            "type": "scattergl"
           }
          ],
          "scattermapbox": [
           {
            "marker": {
             "colorbar": {
              "outlinewidth": 0,
              "ticks": ""
             }
            },
            "type": "scattermapbox"
           }
          ],
          "scatterpolar": [
           {
            "marker": {
             "colorbar": {
              "outlinewidth": 0,
              "ticks": ""
             }
            },
            "type": "scatterpolar"
           }
          ],
          "scatterpolargl": [
           {
            "marker": {
             "colorbar": {
              "outlinewidth": 0,
              "ticks": ""
             }
            },
            "type": "scatterpolargl"
           }
          ],
          "scatterternary": [
           {
            "marker": {
             "colorbar": {
              "outlinewidth": 0,
              "ticks": ""
             }
            },
            "type": "scatterternary"
           }
          ],
          "surface": [
           {
            "colorbar": {
             "outlinewidth": 0,
             "ticks": ""
            },
            "colorscale": [
             [
              0,
              "#0d0887"
             ],
             [
              0.1111111111111111,
              "#46039f"
             ],
             [
              0.2222222222222222,
              "#7201a8"
             ],
             [
              0.3333333333333333,
              "#9c179e"
             ],
             [
              0.4444444444444444,
              "#bd3786"
             ],
             [
              0.5555555555555556,
              "#d8576b"
             ],
             [
              0.6666666666666666,
              "#ed7953"
             ],
             [
              0.7777777777777778,
              "#fb9f3a"
             ],
             [
              0.8888888888888888,
              "#fdca26"
             ],
             [
              1,
              "#f0f921"
             ]
            ],
            "type": "surface"
           }
          ],
          "table": [
           {
            "cells": {
             "fill": {
              "color": "#EBF0F8"
             },
             "line": {
              "color": "white"
             }
            },
            "header": {
             "fill": {
              "color": "#C8D4E3"
             },
             "line": {
              "color": "white"
             }
            },
            "type": "table"
           }
          ]
         },
         "layout": {
          "annotationdefaults": {
           "arrowcolor": "#2a3f5f",
           "arrowhead": 0,
           "arrowwidth": 1
          },
          "autotypenumbers": "strict",
          "coloraxis": {
           "colorbar": {
            "outlinewidth": 0,
            "ticks": ""
           }
          },
          "colorscale": {
           "diverging": [
            [
             0,
             "#8e0152"
            ],
            [
             0.1,
             "#c51b7d"
            ],
            [
             0.2,
             "#de77ae"
            ],
            [
             0.3,
             "#f1b6da"
            ],
            [
             0.4,
             "#fde0ef"
            ],
            [
             0.5,
             "#f7f7f7"
            ],
            [
             0.6,
             "#e6f5d0"
            ],
            [
             0.7,
             "#b8e186"
            ],
            [
             0.8,
             "#7fbc41"
            ],
            [
             0.9,
             "#4d9221"
            ],
            [
             1,
             "#276419"
            ]
           ],
           "sequential": [
            [
             0,
             "#0d0887"
            ],
            [
             0.1111111111111111,
             "#46039f"
            ],
            [
             0.2222222222222222,
             "#7201a8"
            ],
            [
             0.3333333333333333,
             "#9c179e"
            ],
            [
             0.4444444444444444,
             "#bd3786"
            ],
            [
             0.5555555555555556,
             "#d8576b"
            ],
            [
             0.6666666666666666,
             "#ed7953"
            ],
            [
             0.7777777777777778,
             "#fb9f3a"
            ],
            [
             0.8888888888888888,
             "#fdca26"
            ],
            [
             1,
             "#f0f921"
            ]
           ],
           "sequentialminus": [
            [
             0,
             "#0d0887"
            ],
            [
             0.1111111111111111,
             "#46039f"
            ],
            [
             0.2222222222222222,
             "#7201a8"
            ],
            [
             0.3333333333333333,
             "#9c179e"
            ],
            [
             0.4444444444444444,
             "#bd3786"
            ],
            [
             0.5555555555555556,
             "#d8576b"
            ],
            [
             0.6666666666666666,
             "#ed7953"
            ],
            [
             0.7777777777777778,
             "#fb9f3a"
            ],
            [
             0.8888888888888888,
             "#fdca26"
            ],
            [
             1,
             "#f0f921"
            ]
           ]
          },
          "colorway": [
           "#636efa",
           "#EF553B",
           "#00cc96",
           "#ab63fa",
           "#FFA15A",
           "#19d3f3",
           "#FF6692",
           "#B6E880",
           "#FF97FF",
           "#FECB52"
          ],
          "font": {
           "color": "#2a3f5f"
          },
          "geo": {
           "bgcolor": "white",
           "lakecolor": "white",
           "landcolor": "#E5ECF6",
           "showlakes": true,
           "showland": true,
           "subunitcolor": "white"
          },
          "hoverlabel": {
           "align": "left"
          },
          "hovermode": "closest",
          "mapbox": {
           "style": "light"
          },
          "paper_bgcolor": "white",
          "plot_bgcolor": "#E5ECF6",
          "polar": {
           "angularaxis": {
            "gridcolor": "white",
            "linecolor": "white",
            "ticks": ""
           },
           "bgcolor": "#E5ECF6",
           "radialaxis": {
            "gridcolor": "white",
            "linecolor": "white",
            "ticks": ""
           }
          },
          "scene": {
           "xaxis": {
            "backgroundcolor": "#E5ECF6",
            "gridcolor": "white",
            "gridwidth": 2,
            "linecolor": "white",
            "showbackground": true,
            "ticks": "",
            "zerolinecolor": "white"
           },
           "yaxis": {
            "backgroundcolor": "#E5ECF6",
            "gridcolor": "white",
            "gridwidth": 2,
            "linecolor": "white",
            "showbackground": true,
            "ticks": "",
            "zerolinecolor": "white"
           },
           "zaxis": {
            "backgroundcolor": "#E5ECF6",
            "gridcolor": "white",
            "gridwidth": 2,
            "linecolor": "white",
            "showbackground": true,
            "ticks": "",
            "zerolinecolor": "white"
           }
          },
          "shapedefaults": {
           "line": {
            "color": "#2a3f5f"
           }
          },
          "ternary": {
           "aaxis": {
            "gridcolor": "white",
            "linecolor": "white",
            "ticks": ""
           },
           "baxis": {
            "gridcolor": "white",
            "linecolor": "white",
            "ticks": ""
           },
           "bgcolor": "#E5ECF6",
           "caxis": {
            "gridcolor": "white",
            "linecolor": "white",
            "ticks": ""
           }
          },
          "title": {
           "x": 0.05
          },
          "xaxis": {
           "automargin": true,
           "gridcolor": "white",
           "linecolor": "white",
           "ticks": "",
           "title": {
            "standoff": 15
           },
           "zerolinecolor": "white",
           "zerolinewidth": 2
          },
          "yaxis": {
           "automargin": true,
           "gridcolor": "white",
           "linecolor": "white",
           "ticks": "",
           "title": {
            "standoff": 15
           },
           "zerolinecolor": "white",
           "zerolinewidth": 2
          }
         }
        },
        "title": {
         "text": "Global Change in Access to Electricity (2000-2020)"
        },
        "width": 1200,
        "xaxis": {
         "anchor": "y",
         "domain": [
          0,
          1
         ],
         "title": {
          "text": "Year"
         }
        },
        "yaxis": {
         "anchor": "x",
         "domain": [
          0,
          1
         ],
         "title": {
          "text": "Access to Electricity (%)"
         }
        }
       }
      }
     },
     "metadata": {},
     "output_type": "display_data"
    }
   ],
   "source": [
    "df_global_electricity = df.groupby('Year')['Access to electricity (% of population)'].mean().reset_index()\n",
    "\n",
    "fig = px.line(df_global_electricity, x='Year', y='Access to electricity (% of population)',\n",
    "              title='Global Change in Access to Electricity (2000-2020)',\n",
    "              labels={'Access to electricity (% of population)': 'Access to Electricity (%)'})\n",
    "fig.update_layout(width=1200, height=600)\n",
    "fig.show()"
   ]
  },
  {
   "cell_type": "code",
   "execution_count": 7,
   "metadata": {},
   "outputs": [
    {
     "data": {
      "application/vnd.plotly.v1+json": {
       "config": {
        "plotlyServerURL": "https://plot.ly"
       },
       "data": [
        {
         "hovertemplate": "Year=%{x}<br>Global C02 Emission (kt)=%{y}<extra></extra>",
         "legendgroup": "",
         "line": {
          "color": "#636efa",
          "dash": "solid"
         },
         "marker": {
          "symbol": "circle"
         },
         "mode": "lines",
         "name": "",
         "orientation": "v",
         "showlegend": false,
         "type": "scatter",
         "x": [
          2000,
          2001,
          2002,
          2003,
          2004,
          2005,
          2006,
          2007,
          2008,
          2009,
          2010,
          2011,
          2012,
          2013,
          2014,
          2015,
          2016,
          2017,
          2018,
          2019,
          2020
         ],
         "xaxis": "x",
         "y": [
          125001.5365125,
          127215.00925624999,
          128975.90846920104,
          135309.79929451417,
          141869.1466554158,
          147313.50409523866,
          151966.28215288522,
          156387.9004175497,
          157413.63111503288,
          155844.53854196498,
          165706.2534798953,
          170890.0731666249,
          173419.12147627375,
          176601.15749861096,
          176885.9896112251,
          175533.4055259202,
          175525.58822799713,
          182113.7722606205,
          186116.09904512024,
          186232.3901550517,
          null
         ],
         "yaxis": "y"
        }
       ],
       "layout": {
        "height": 600,
        "legend": {
         "tracegroupgap": 0
        },
        "template": {
         "data": {
          "bar": [
           {
            "error_x": {
             "color": "#2a3f5f"
            },
            "error_y": {
             "color": "#2a3f5f"
            },
            "marker": {
             "line": {
              "color": "#E5ECF6",
              "width": 0.5
             },
             "pattern": {
              "fillmode": "overlay",
              "size": 10,
              "solidity": 0.2
             }
            },
            "type": "bar"
           }
          ],
          "barpolar": [
           {
            "marker": {
             "line": {
              "color": "#E5ECF6",
              "width": 0.5
             },
             "pattern": {
              "fillmode": "overlay",
              "size": 10,
              "solidity": 0.2
             }
            },
            "type": "barpolar"
           }
          ],
          "carpet": [
           {
            "aaxis": {
             "endlinecolor": "#2a3f5f",
             "gridcolor": "white",
             "linecolor": "white",
             "minorgridcolor": "white",
             "startlinecolor": "#2a3f5f"
            },
            "baxis": {
             "endlinecolor": "#2a3f5f",
             "gridcolor": "white",
             "linecolor": "white",
             "minorgridcolor": "white",
             "startlinecolor": "#2a3f5f"
            },
            "type": "carpet"
           }
          ],
          "choropleth": [
           {
            "colorbar": {
             "outlinewidth": 0,
             "ticks": ""
            },
            "type": "choropleth"
           }
          ],
          "contour": [
           {
            "colorbar": {
             "outlinewidth": 0,
             "ticks": ""
            },
            "colorscale": [
             [
              0,
              "#0d0887"
             ],
             [
              0.1111111111111111,
              "#46039f"
             ],
             [
              0.2222222222222222,
              "#7201a8"
             ],
             [
              0.3333333333333333,
              "#9c179e"
             ],
             [
              0.4444444444444444,
              "#bd3786"
             ],
             [
              0.5555555555555556,
              "#d8576b"
             ],
             [
              0.6666666666666666,
              "#ed7953"
             ],
             [
              0.7777777777777778,
              "#fb9f3a"
             ],
             [
              0.8888888888888888,
              "#fdca26"
             ],
             [
              1,
              "#f0f921"
             ]
            ],
            "type": "contour"
           }
          ],
          "contourcarpet": [
           {
            "colorbar": {
             "outlinewidth": 0,
             "ticks": ""
            },
            "type": "contourcarpet"
           }
          ],
          "heatmap": [
           {
            "colorbar": {
             "outlinewidth": 0,
             "ticks": ""
            },
            "colorscale": [
             [
              0,
              "#0d0887"
             ],
             [
              0.1111111111111111,
              "#46039f"
             ],
             [
              0.2222222222222222,
              "#7201a8"
             ],
             [
              0.3333333333333333,
              "#9c179e"
             ],
             [
              0.4444444444444444,
              "#bd3786"
             ],
             [
              0.5555555555555556,
              "#d8576b"
             ],
             [
              0.6666666666666666,
              "#ed7953"
             ],
             [
              0.7777777777777778,
              "#fb9f3a"
             ],
             [
              0.8888888888888888,
              "#fdca26"
             ],
             [
              1,
              "#f0f921"
             ]
            ],
            "type": "heatmap"
           }
          ],
          "heatmapgl": [
           {
            "colorbar": {
             "outlinewidth": 0,
             "ticks": ""
            },
            "colorscale": [
             [
              0,
              "#0d0887"
             ],
             [
              0.1111111111111111,
              "#46039f"
             ],
             [
              0.2222222222222222,
              "#7201a8"
             ],
             [
              0.3333333333333333,
              "#9c179e"
             ],
             [
              0.4444444444444444,
              "#bd3786"
             ],
             [
              0.5555555555555556,
              "#d8576b"
             ],
             [
              0.6666666666666666,
              "#ed7953"
             ],
             [
              0.7777777777777778,
              "#fb9f3a"
             ],
             [
              0.8888888888888888,
              "#fdca26"
             ],
             [
              1,
              "#f0f921"
             ]
            ],
            "type": "heatmapgl"
           }
          ],
          "histogram": [
           {
            "marker": {
             "pattern": {
              "fillmode": "overlay",
              "size": 10,
              "solidity": 0.2
             }
            },
            "type": "histogram"
           }
          ],
          "histogram2d": [
           {
            "colorbar": {
             "outlinewidth": 0,
             "ticks": ""
            },
            "colorscale": [
             [
              0,
              "#0d0887"
             ],
             [
              0.1111111111111111,
              "#46039f"
             ],
             [
              0.2222222222222222,
              "#7201a8"
             ],
             [
              0.3333333333333333,
              "#9c179e"
             ],
             [
              0.4444444444444444,
              "#bd3786"
             ],
             [
              0.5555555555555556,
              "#d8576b"
             ],
             [
              0.6666666666666666,
              "#ed7953"
             ],
             [
              0.7777777777777778,
              "#fb9f3a"
             ],
             [
              0.8888888888888888,
              "#fdca26"
             ],
             [
              1,
              "#f0f921"
             ]
            ],
            "type": "histogram2d"
           }
          ],
          "histogram2dcontour": [
           {
            "colorbar": {
             "outlinewidth": 0,
             "ticks": ""
            },
            "colorscale": [
             [
              0,
              "#0d0887"
             ],
             [
              0.1111111111111111,
              "#46039f"
             ],
             [
              0.2222222222222222,
              "#7201a8"
             ],
             [
              0.3333333333333333,
              "#9c179e"
             ],
             [
              0.4444444444444444,
              "#bd3786"
             ],
             [
              0.5555555555555556,
              "#d8576b"
             ],
             [
              0.6666666666666666,
              "#ed7953"
             ],
             [
              0.7777777777777778,
              "#fb9f3a"
             ],
             [
              0.8888888888888888,
              "#fdca26"
             ],
             [
              1,
              "#f0f921"
             ]
            ],
            "type": "histogram2dcontour"
           }
          ],
          "mesh3d": [
           {
            "colorbar": {
             "outlinewidth": 0,
             "ticks": ""
            },
            "type": "mesh3d"
           }
          ],
          "parcoords": [
           {
            "line": {
             "colorbar": {
              "outlinewidth": 0,
              "ticks": ""
             }
            },
            "type": "parcoords"
           }
          ],
          "pie": [
           {
            "automargin": true,
            "type": "pie"
           }
          ],
          "scatter": [
           {
            "fillpattern": {
             "fillmode": "overlay",
             "size": 10,
             "solidity": 0.2
            },
            "type": "scatter"
           }
          ],
          "scatter3d": [
           {
            "line": {
             "colorbar": {
              "outlinewidth": 0,
              "ticks": ""
             }
            },
            "marker": {
             "colorbar": {
              "outlinewidth": 0,
              "ticks": ""
             }
            },
            "type": "scatter3d"
           }
          ],
          "scattercarpet": [
           {
            "marker": {
             "colorbar": {
              "outlinewidth": 0,
              "ticks": ""
             }
            },
            "type": "scattercarpet"
           }
          ],
          "scattergeo": [
           {
            "marker": {
             "colorbar": {
              "outlinewidth": 0,
              "ticks": ""
             }
            },
            "type": "scattergeo"
           }
          ],
          "scattergl": [
           {
            "marker": {
             "colorbar": {
              "outlinewidth": 0,
              "ticks": ""
             }
            },
            "type": "scattergl"
           }
          ],
          "scattermapbox": [
           {
            "marker": {
             "colorbar": {
              "outlinewidth": 0,
              "ticks": ""
             }
            },
            "type": "scattermapbox"
           }
          ],
          "scatterpolar": [
           {
            "marker": {
             "colorbar": {
              "outlinewidth": 0,
              "ticks": ""
             }
            },
            "type": "scatterpolar"
           }
          ],
          "scatterpolargl": [
           {
            "marker": {
             "colorbar": {
              "outlinewidth": 0,
              "ticks": ""
             }
            },
            "type": "scatterpolargl"
           }
          ],
          "scatterternary": [
           {
            "marker": {
             "colorbar": {
              "outlinewidth": 0,
              "ticks": ""
             }
            },
            "type": "scatterternary"
           }
          ],
          "surface": [
           {
            "colorbar": {
             "outlinewidth": 0,
             "ticks": ""
            },
            "colorscale": [
             [
              0,
              "#0d0887"
             ],
             [
              0.1111111111111111,
              "#46039f"
             ],
             [
              0.2222222222222222,
              "#7201a8"
             ],
             [
              0.3333333333333333,
              "#9c179e"
             ],
             [
              0.4444444444444444,
              "#bd3786"
             ],
             [
              0.5555555555555556,
              "#d8576b"
             ],
             [
              0.6666666666666666,
              "#ed7953"
             ],
             [
              0.7777777777777778,
              "#fb9f3a"
             ],
             [
              0.8888888888888888,
              "#fdca26"
             ],
             [
              1,
              "#f0f921"
             ]
            ],
            "type": "surface"
           }
          ],
          "table": [
           {
            "cells": {
             "fill": {
              "color": "#EBF0F8"
             },
             "line": {
              "color": "white"
             }
            },
            "header": {
             "fill": {
              "color": "#C8D4E3"
             },
             "line": {
              "color": "white"
             }
            },
            "type": "table"
           }
          ]
         },
         "layout": {
          "annotationdefaults": {
           "arrowcolor": "#2a3f5f",
           "arrowhead": 0,
           "arrowwidth": 1
          },
          "autotypenumbers": "strict",
          "coloraxis": {
           "colorbar": {
            "outlinewidth": 0,
            "ticks": ""
           }
          },
          "colorscale": {
           "diverging": [
            [
             0,
             "#8e0152"
            ],
            [
             0.1,
             "#c51b7d"
            ],
            [
             0.2,
             "#de77ae"
            ],
            [
             0.3,
             "#f1b6da"
            ],
            [
             0.4,
             "#fde0ef"
            ],
            [
             0.5,
             "#f7f7f7"
            ],
            [
             0.6,
             "#e6f5d0"
            ],
            [
             0.7,
             "#b8e186"
            ],
            [
             0.8,
             "#7fbc41"
            ],
            [
             0.9,
             "#4d9221"
            ],
            [
             1,
             "#276419"
            ]
           ],
           "sequential": [
            [
             0,
             "#0d0887"
            ],
            [
             0.1111111111111111,
             "#46039f"
            ],
            [
             0.2222222222222222,
             "#7201a8"
            ],
            [
             0.3333333333333333,
             "#9c179e"
            ],
            [
             0.4444444444444444,
             "#bd3786"
            ],
            [
             0.5555555555555556,
             "#d8576b"
            ],
            [
             0.6666666666666666,
             "#ed7953"
            ],
            [
             0.7777777777777778,
             "#fb9f3a"
            ],
            [
             0.8888888888888888,
             "#fdca26"
            ],
            [
             1,
             "#f0f921"
            ]
           ],
           "sequentialminus": [
            [
             0,
             "#0d0887"
            ],
            [
             0.1111111111111111,
             "#46039f"
            ],
            [
             0.2222222222222222,
             "#7201a8"
            ],
            [
             0.3333333333333333,
             "#9c179e"
            ],
            [
             0.4444444444444444,
             "#bd3786"
            ],
            [
             0.5555555555555556,
             "#d8576b"
            ],
            [
             0.6666666666666666,
             "#ed7953"
            ],
            [
             0.7777777777777778,
             "#fb9f3a"
            ],
            [
             0.8888888888888888,
             "#fdca26"
            ],
            [
             1,
             "#f0f921"
            ]
           ]
          },
          "colorway": [
           "#636efa",
           "#EF553B",
           "#00cc96",
           "#ab63fa",
           "#FFA15A",
           "#19d3f3",
           "#FF6692",
           "#B6E880",
           "#FF97FF",
           "#FECB52"
          ],
          "font": {
           "color": "#2a3f5f"
          },
          "geo": {
           "bgcolor": "white",
           "lakecolor": "white",
           "landcolor": "#E5ECF6",
           "showlakes": true,
           "showland": true,
           "subunitcolor": "white"
          },
          "hoverlabel": {
           "align": "left"
          },
          "hovermode": "closest",
          "mapbox": {
           "style": "light"
          },
          "paper_bgcolor": "white",
          "plot_bgcolor": "#E5ECF6",
          "polar": {
           "angularaxis": {
            "gridcolor": "white",
            "linecolor": "white",
            "ticks": ""
           },
           "bgcolor": "#E5ECF6",
           "radialaxis": {
            "gridcolor": "white",
            "linecolor": "white",
            "ticks": ""
           }
          },
          "scene": {
           "xaxis": {
            "backgroundcolor": "#E5ECF6",
            "gridcolor": "white",
            "gridwidth": 2,
            "linecolor": "white",
            "showbackground": true,
            "ticks": "",
            "zerolinecolor": "white"
           },
           "yaxis": {
            "backgroundcolor": "#E5ECF6",
            "gridcolor": "white",
            "gridwidth": 2,
            "linecolor": "white",
            "showbackground": true,
            "ticks": "",
            "zerolinecolor": "white"
           },
           "zaxis": {
            "backgroundcolor": "#E5ECF6",
            "gridcolor": "white",
            "gridwidth": 2,
            "linecolor": "white",
            "showbackground": true,
            "ticks": "",
            "zerolinecolor": "white"
           }
          },
          "shapedefaults": {
           "line": {
            "color": "#2a3f5f"
           }
          },
          "ternary": {
           "aaxis": {
            "gridcolor": "white",
            "linecolor": "white",
            "ticks": ""
           },
           "baxis": {
            "gridcolor": "white",
            "linecolor": "white",
            "ticks": ""
           },
           "bgcolor": "#E5ECF6",
           "caxis": {
            "gridcolor": "white",
            "linecolor": "white",
            "ticks": ""
           }
          },
          "title": {
           "x": 0.05
          },
          "xaxis": {
           "automargin": true,
           "gridcolor": "white",
           "linecolor": "white",
           "ticks": "",
           "title": {
            "standoff": 15
           },
           "zerolinecolor": "white",
           "zerolinewidth": 2
          },
          "yaxis": {
           "automargin": true,
           "gridcolor": "white",
           "linecolor": "white",
           "ticks": "",
           "title": {
            "standoff": 15
           },
           "zerolinecolor": "white",
           "zerolinewidth": 2
          }
         }
        },
        "title": {
         "text": "Global Change in C02 Emission (2000-2020)"
        },
        "width": 1200,
        "xaxis": {
         "anchor": "y",
         "domain": [
          0,
          1
         ],
         "title": {
          "text": "Year"
         }
        },
        "yaxis": {
         "anchor": "x",
         "domain": [
          0,
          1
         ],
         "title": {
          "text": "Global C02 Emission (kt)"
         }
        }
       }
      }
     },
     "metadata": {},
     "output_type": "display_data"
    }
   ],
   "source": [
    "df_global_C02_emission = df.groupby('Year')['Value_co2_emissions_kt_by_country'].mean().reset_index()\n",
    "\n",
    "fig = px.line(df_global_C02_emission, x='Year', y='Value_co2_emissions_kt_by_country',\n",
    "              title='Global Change in C02 Emission (2000-2020)',\n",
    "              labels={'Value_co2_emissions_kt_by_country': 'Global C02 Emission (kt)'})\n",
    "fig.update_layout(width=1200, height=600)\n",
    "fig.show()"
   ]
  },
  {
   "cell_type": "code",
   "execution_count": 8,
   "metadata": {},
   "outputs": [
    {
     "data": {
      "application/vnd.plotly.v1+json": {
       "config": {
        "plotlyServerURL": "https://plot.ly"
       },
       "data": [
        {
         "alignmentgroup": "True",
         "hovertemplate": "Entity=%{x}<br>Electricity from fossil fuels (TWh)=%{y}<extra></extra>",
         "legendgroup": "",
         "marker": {
          "color": "#636efa",
          "pattern": {
           "shape": ""
          }
         },
         "name": "",
         "offsetgroup": "",
         "orientation": "v",
         "showlegend": false,
         "textposition": "auto",
         "type": "bar",
         "x": [
          "China",
          "United States",
          "India",
          "Japan",
          "Germany",
          "Saudi Arabia",
          "United Kingdom",
          "South Africa",
          "Italy",
          "Mexico"
         ],
         "xaxis": "x",
         "y": [
          67927.33,
          57652,
          17445.829999999998,
          15140.82,
          7640.41,
          5188.39,
          5131.5199999999995,
          4472.7699999999995,
          4402.5599999999995,
          4303.04
         ],
         "yaxis": "y"
        }
       ],
       "layout": {
        "barmode": "relative",
        "height": 600,
        "legend": {
         "tracegroupgap": 0
        },
        "template": {
         "data": {
          "bar": [
           {
            "error_x": {
             "color": "#2a3f5f"
            },
            "error_y": {
             "color": "#2a3f5f"
            },
            "marker": {
             "line": {
              "color": "#E5ECF6",
              "width": 0.5
             },
             "pattern": {
              "fillmode": "overlay",
              "size": 10,
              "solidity": 0.2
             }
            },
            "type": "bar"
           }
          ],
          "barpolar": [
           {
            "marker": {
             "line": {
              "color": "#E5ECF6",
              "width": 0.5
             },
             "pattern": {
              "fillmode": "overlay",
              "size": 10,
              "solidity": 0.2
             }
            },
            "type": "barpolar"
           }
          ],
          "carpet": [
           {
            "aaxis": {
             "endlinecolor": "#2a3f5f",
             "gridcolor": "white",
             "linecolor": "white",
             "minorgridcolor": "white",
             "startlinecolor": "#2a3f5f"
            },
            "baxis": {
             "endlinecolor": "#2a3f5f",
             "gridcolor": "white",
             "linecolor": "white",
             "minorgridcolor": "white",
             "startlinecolor": "#2a3f5f"
            },
            "type": "carpet"
           }
          ],
          "choropleth": [
           {
            "colorbar": {
             "outlinewidth": 0,
             "ticks": ""
            },
            "type": "choropleth"
           }
          ],
          "contour": [
           {
            "colorbar": {
             "outlinewidth": 0,
             "ticks": ""
            },
            "colorscale": [
             [
              0,
              "#0d0887"
             ],
             [
              0.1111111111111111,
              "#46039f"
             ],
             [
              0.2222222222222222,
              "#7201a8"
             ],
             [
              0.3333333333333333,
              "#9c179e"
             ],
             [
              0.4444444444444444,
              "#bd3786"
             ],
             [
              0.5555555555555556,
              "#d8576b"
             ],
             [
              0.6666666666666666,
              "#ed7953"
             ],
             [
              0.7777777777777778,
              "#fb9f3a"
             ],
             [
              0.8888888888888888,
              "#fdca26"
             ],
             [
              1,
              "#f0f921"
             ]
            ],
            "type": "contour"
           }
          ],
          "contourcarpet": [
           {
            "colorbar": {
             "outlinewidth": 0,
             "ticks": ""
            },
            "type": "contourcarpet"
           }
          ],
          "heatmap": [
           {
            "colorbar": {
             "outlinewidth": 0,
             "ticks": ""
            },
            "colorscale": [
             [
              0,
              "#0d0887"
             ],
             [
              0.1111111111111111,
              "#46039f"
             ],
             [
              0.2222222222222222,
              "#7201a8"
             ],
             [
              0.3333333333333333,
              "#9c179e"
             ],
             [
              0.4444444444444444,
              "#bd3786"
             ],
             [
              0.5555555555555556,
              "#d8576b"
             ],
             [
              0.6666666666666666,
              "#ed7953"
             ],
             [
              0.7777777777777778,
              "#fb9f3a"
             ],
             [
              0.8888888888888888,
              "#fdca26"
             ],
             [
              1,
              "#f0f921"
             ]
            ],
            "type": "heatmap"
           }
          ],
          "heatmapgl": [
           {
            "colorbar": {
             "outlinewidth": 0,
             "ticks": ""
            },
            "colorscale": [
             [
              0,
              "#0d0887"
             ],
             [
              0.1111111111111111,
              "#46039f"
             ],
             [
              0.2222222222222222,
              "#7201a8"
             ],
             [
              0.3333333333333333,
              "#9c179e"
             ],
             [
              0.4444444444444444,
              "#bd3786"
             ],
             [
              0.5555555555555556,
              "#d8576b"
             ],
             [
              0.6666666666666666,
              "#ed7953"
             ],
             [
              0.7777777777777778,
              "#fb9f3a"
             ],
             [
              0.8888888888888888,
              "#fdca26"
             ],
             [
              1,
              "#f0f921"
             ]
            ],
            "type": "heatmapgl"
           }
          ],
          "histogram": [
           {
            "marker": {
             "pattern": {
              "fillmode": "overlay",
              "size": 10,
              "solidity": 0.2
             }
            },
            "type": "histogram"
           }
          ],
          "histogram2d": [
           {
            "colorbar": {
             "outlinewidth": 0,
             "ticks": ""
            },
            "colorscale": [
             [
              0,
              "#0d0887"
             ],
             [
              0.1111111111111111,
              "#46039f"
             ],
             [
              0.2222222222222222,
              "#7201a8"
             ],
             [
              0.3333333333333333,
              "#9c179e"
             ],
             [
              0.4444444444444444,
              "#bd3786"
             ],
             [
              0.5555555555555556,
              "#d8576b"
             ],
             [
              0.6666666666666666,
              "#ed7953"
             ],
             [
              0.7777777777777778,
              "#fb9f3a"
             ],
             [
              0.8888888888888888,
              "#fdca26"
             ],
             [
              1,
              "#f0f921"
             ]
            ],
            "type": "histogram2d"
           }
          ],
          "histogram2dcontour": [
           {
            "colorbar": {
             "outlinewidth": 0,
             "ticks": ""
            },
            "colorscale": [
             [
              0,
              "#0d0887"
             ],
             [
              0.1111111111111111,
              "#46039f"
             ],
             [
              0.2222222222222222,
              "#7201a8"
             ],
             [
              0.3333333333333333,
              "#9c179e"
             ],
             [
              0.4444444444444444,
              "#bd3786"
             ],
             [
              0.5555555555555556,
              "#d8576b"
             ],
             [
              0.6666666666666666,
              "#ed7953"
             ],
             [
              0.7777777777777778,
              "#fb9f3a"
             ],
             [
              0.8888888888888888,
              "#fdca26"
             ],
             [
              1,
              "#f0f921"
             ]
            ],
            "type": "histogram2dcontour"
           }
          ],
          "mesh3d": [
           {
            "colorbar": {
             "outlinewidth": 0,
             "ticks": ""
            },
            "type": "mesh3d"
           }
          ],
          "parcoords": [
           {
            "line": {
             "colorbar": {
              "outlinewidth": 0,
              "ticks": ""
             }
            },
            "type": "parcoords"
           }
          ],
          "pie": [
           {
            "automargin": true,
            "type": "pie"
           }
          ],
          "scatter": [
           {
            "fillpattern": {
             "fillmode": "overlay",
             "size": 10,
             "solidity": 0.2
            },
            "type": "scatter"
           }
          ],
          "scatter3d": [
           {
            "line": {
             "colorbar": {
              "outlinewidth": 0,
              "ticks": ""
             }
            },
            "marker": {
             "colorbar": {
              "outlinewidth": 0,
              "ticks": ""
             }
            },
            "type": "scatter3d"
           }
          ],
          "scattercarpet": [
           {
            "marker": {
             "colorbar": {
              "outlinewidth": 0,
              "ticks": ""
             }
            },
            "type": "scattercarpet"
           }
          ],
          "scattergeo": [
           {
            "marker": {
             "colorbar": {
              "outlinewidth": 0,
              "ticks": ""
             }
            },
            "type": "scattergeo"
           }
          ],
          "scattergl": [
           {
            "marker": {
             "colorbar": {
              "outlinewidth": 0,
              "ticks": ""
             }
            },
            "type": "scattergl"
           }
          ],
          "scattermapbox": [
           {
            "marker": {
             "colorbar": {
              "outlinewidth": 0,
              "ticks": ""
             }
            },
            "type": "scattermapbox"
           }
          ],
          "scatterpolar": [
           {
            "marker": {
             "colorbar": {
              "outlinewidth": 0,
              "ticks": ""
             }
            },
            "type": "scatterpolar"
           }
          ],
          "scatterpolargl": [
           {
            "marker": {
             "colorbar": {
              "outlinewidth": 0,
              "ticks": ""
             }
            },
            "type": "scatterpolargl"
           }
          ],
          "scatterternary": [
           {
            "marker": {
             "colorbar": {
              "outlinewidth": 0,
              "ticks": ""
             }
            },
            "type": "scatterternary"
           }
          ],
          "surface": [
           {
            "colorbar": {
             "outlinewidth": 0,
             "ticks": ""
            },
            "colorscale": [
             [
              0,
              "#0d0887"
             ],
             [
              0.1111111111111111,
              "#46039f"
             ],
             [
              0.2222222222222222,
              "#7201a8"
             ],
             [
              0.3333333333333333,
              "#9c179e"
             ],
             [
              0.4444444444444444,
              "#bd3786"
             ],
             [
              0.5555555555555556,
              "#d8576b"
             ],
             [
              0.6666666666666666,
              "#ed7953"
             ],
             [
              0.7777777777777778,
              "#fb9f3a"
             ],
             [
              0.8888888888888888,
              "#fdca26"
             ],
             [
              1,
              "#f0f921"
             ]
            ],
            "type": "surface"
           }
          ],
          "table": [
           {
            "cells": {
             "fill": {
              "color": "#EBF0F8"
             },
             "line": {
              "color": "white"
             }
            },
            "header": {
             "fill": {
              "color": "#C8D4E3"
             },
             "line": {
              "color": "white"
             }
            },
            "type": "table"
           }
          ]
         },
         "layout": {
          "annotationdefaults": {
           "arrowcolor": "#2a3f5f",
           "arrowhead": 0,
           "arrowwidth": 1
          },
          "autotypenumbers": "strict",
          "coloraxis": {
           "colorbar": {
            "outlinewidth": 0,
            "ticks": ""
           }
          },
          "colorscale": {
           "diverging": [
            [
             0,
             "#8e0152"
            ],
            [
             0.1,
             "#c51b7d"
            ],
            [
             0.2,
             "#de77ae"
            ],
            [
             0.3,
             "#f1b6da"
            ],
            [
             0.4,
             "#fde0ef"
            ],
            [
             0.5,
             "#f7f7f7"
            ],
            [
             0.6,
             "#e6f5d0"
            ],
            [
             0.7,
             "#b8e186"
            ],
            [
             0.8,
             "#7fbc41"
            ],
            [
             0.9,
             "#4d9221"
            ],
            [
             1,
             "#276419"
            ]
           ],
           "sequential": [
            [
             0,
             "#0d0887"
            ],
            [
             0.1111111111111111,
             "#46039f"
            ],
            [
             0.2222222222222222,
             "#7201a8"
            ],
            [
             0.3333333333333333,
             "#9c179e"
            ],
            [
             0.4444444444444444,
             "#bd3786"
            ],
            [
             0.5555555555555556,
             "#d8576b"
            ],
            [
             0.6666666666666666,
             "#ed7953"
            ],
            [
             0.7777777777777778,
             "#fb9f3a"
            ],
            [
             0.8888888888888888,
             "#fdca26"
            ],
            [
             1,
             "#f0f921"
            ]
           ],
           "sequentialminus": [
            [
             0,
             "#0d0887"
            ],
            [
             0.1111111111111111,
             "#46039f"
            ],
            [
             0.2222222222222222,
             "#7201a8"
            ],
            [
             0.3333333333333333,
             "#9c179e"
            ],
            [
             0.4444444444444444,
             "#bd3786"
            ],
            [
             0.5555555555555556,
             "#d8576b"
            ],
            [
             0.6666666666666666,
             "#ed7953"
            ],
            [
             0.7777777777777778,
             "#fb9f3a"
            ],
            [
             0.8888888888888888,
             "#fdca26"
            ],
            [
             1,
             "#f0f921"
            ]
           ]
          },
          "colorway": [
           "#636efa",
           "#EF553B",
           "#00cc96",
           "#ab63fa",
           "#FFA15A",
           "#19d3f3",
           "#FF6692",
           "#B6E880",
           "#FF97FF",
           "#FECB52"
          ],
          "font": {
           "color": "#2a3f5f"
          },
          "geo": {
           "bgcolor": "white",
           "lakecolor": "white",
           "landcolor": "#E5ECF6",
           "showlakes": true,
           "showland": true,
           "subunitcolor": "white"
          },
          "hoverlabel": {
           "align": "left"
          },
          "hovermode": "closest",
          "mapbox": {
           "style": "light"
          },
          "paper_bgcolor": "white",
          "plot_bgcolor": "#E5ECF6",
          "polar": {
           "angularaxis": {
            "gridcolor": "white",
            "linecolor": "white",
            "ticks": ""
           },
           "bgcolor": "#E5ECF6",
           "radialaxis": {
            "gridcolor": "white",
            "linecolor": "white",
            "ticks": ""
           }
          },
          "scene": {
           "xaxis": {
            "backgroundcolor": "#E5ECF6",
            "gridcolor": "white",
            "gridwidth": 2,
            "linecolor": "white",
            "showbackground": true,
            "ticks": "",
            "zerolinecolor": "white"
           },
           "yaxis": {
            "backgroundcolor": "#E5ECF6",
            "gridcolor": "white",
            "gridwidth": 2,
            "linecolor": "white",
            "showbackground": true,
            "ticks": "",
            "zerolinecolor": "white"
           },
           "zaxis": {
            "backgroundcolor": "#E5ECF6",
            "gridcolor": "white",
            "gridwidth": 2,
            "linecolor": "white",
            "showbackground": true,
            "ticks": "",
            "zerolinecolor": "white"
           }
          },
          "shapedefaults": {
           "line": {
            "color": "#2a3f5f"
           }
          },
          "ternary": {
           "aaxis": {
            "gridcolor": "white",
            "linecolor": "white",
            "ticks": ""
           },
           "baxis": {
            "gridcolor": "white",
            "linecolor": "white",
            "ticks": ""
           },
           "bgcolor": "#E5ECF6",
           "caxis": {
            "gridcolor": "white",
            "linecolor": "white",
            "ticks": ""
           }
          },
          "title": {
           "x": 0.05
          },
          "xaxis": {
           "automargin": true,
           "gridcolor": "white",
           "linecolor": "white",
           "ticks": "",
           "title": {
            "standoff": 15
           },
           "zerolinecolor": "white",
           "zerolinewidth": 2
          },
          "yaxis": {
           "automargin": true,
           "gridcolor": "white",
           "linecolor": "white",
           "ticks": "",
           "title": {
            "standoff": 15
           },
           "zerolinecolor": "white",
           "zerolinewidth": 2
          }
         }
        },
        "title": {
         "text": "Top 10 Countries by Electricity Consumption from Fossil Fuels (2000-2020)"
        },
        "width": 1200,
        "xaxis": {
         "anchor": "y",
         "domain": [
          0,
          1
         ],
         "title": {
          "text": "Entity"
         }
        },
        "yaxis": {
         "anchor": "x",
         "domain": [
          0,
          1
         ],
         "title": {
          "text": "Electricity from fossil fuels (TWh)"
         }
        }
       }
      }
     },
     "metadata": {},
     "output_type": "display_data"
    }
   ],
   "source": [
    "# Top 10 countries with highest energy consumption\n",
    "\n",
    "fossil_fuel_sum = df.groupby('Entity')['Electricity from fossil fuels (TWh)'].sum().sort_values(ascending=False).head(10).reset_index()\n",
    "\n",
    "top_10_fossil_fuel_consumption_countries = []\n",
    "\n",
    "for countries in fossil_fuel_sum.Entity:\n",
    "    top_10_fossil_fuel_consumption_countries.append(countries)\n",
    "\n",
    "fig = px.bar(fossil_fuel_sum, x='Entity', y='Electricity from fossil fuels (TWh)', title='Top 10 Countries by Electricity Consumption from Fossil Fuels (2000-2020)')\n",
    "fig.update_layout(width=1200, height=600)\n",
    "fig.show()"
   ]
  },
  {
   "cell_type": "code",
   "execution_count": 9,
   "metadata": {},
   "outputs": [
    {
     "data": {
      "application/vnd.plotly.v1+json": {
       "config": {
        "plotlyServerURL": "https://plot.ly"
       },
       "data": [
        {
         "hovertemplate": "Year=%{x}<br>Value_co2_emissions_kt_by_country=%{y}<extra></extra>",
         "legendgroup": "",
         "line": {
          "color": "#636efa",
          "dash": "solid"
         },
         "marker": {
          "symbol": "circle"
         },
         "mode": "lines",
         "name": "",
         "orientation": "v",
         "showlegend": false,
         "type": "scatter",
         "x": [
          2000,
          2001,
          2002,
          2003,
          2004,
          2005,
          2006,
          2007,
          2008,
          2009,
          2010,
          2011,
          2012,
          2013,
          2014,
          2015,
          2016,
          2017,
          2018,
          2019,
          2020
         ],
         "xaxis": "x",
         "y": [
          3346530,
          3529080,
          3810060.059,
          4415910.156,
          5124819.824,
          5824629.883,
          6437470.215,
          6993180.176,
          7199600.098,
          7719069.824,
          8474919.922,
          9282549.805,
          9541870.117,
          9984570.313,
          10006669.92,
          9861099.609,
          9874660.156,
          10096009.77,
          10502929.69,
          10707219.73,
          null
         ],
         "yaxis": "y"
        },
        {
         "hovertemplate": "Year=%{x}<br>Value_co2_emissions_kt_by_country=%{y}<extra></extra>",
         "legendgroup": "",
         "line": {
          "color": "#636efa",
          "dash": "solid"
         },
         "marker": {
          "symbol": "circle"
         },
         "mode": "lines",
         "name": "",
         "orientation": "v",
         "showlegend": false,
         "type": "scatter",
         "x": [
          2000,
          2001,
          2002,
          2003,
          2004,
          2005,
          2006,
          2007,
          2008,
          2009,
          2010,
          2011,
          2012,
          2013,
          2014,
          2015,
          2016,
          2017,
          2018,
          2019,
          2020
         ],
         "xaxis": "x2",
         "y": [
          5775810,
          5748260,
          5593029.785,
          5658990.234,
          5738290.039,
          5753490.234,
          5653080.078,
          5736319.824,
          5558379.883,
          5156430.176,
          5392109.863,
          5173600.098,
          4956060.059,
          5092100.098,
          5107209.961,
          4990709.961,
          4894500,
          4819370.117,
          4975310.059,
          4817720.215,
          null
         ],
         "yaxis": "y2"
        },
        {
         "hovertemplate": "Year=%{x}<br>Value_co2_emissions_kt_by_country=%{y}<extra></extra>",
         "legendgroup": "",
         "line": {
          "color": "#636efa",
          "dash": "solid"
         },
         "marker": {
          "symbol": "circle"
         },
         "mode": "lines",
         "name": "",
         "orientation": "v",
         "showlegend": false,
         "type": "scatter",
         "x": [
          2000,
          2001,
          2002,
          2003,
          2004,
          2005,
          2006,
          2007,
          2008,
          2009,
          2010,
          2011,
          2012,
          2013,
          2014,
          2015,
          2016,
          2017,
          2018,
          2019,
          2020
         ],
         "xaxis": "x3",
         "y": [
          937860,
          953540,
          985450.0122,
          1011770.02,
          1085670.044,
          1136469.971,
          1215209.961,
          1336739.99,
          1424380.005,
          1564880.005,
          1659979.98,
          1756739.99,
          1909439.941,
          1972430.054,
          2147110.107,
          2158020.02,
          2195250,
          2320409.912,
          2451929.932,
          2456300.049,
          null
         ],
         "yaxis": "y3"
        },
        {
         "hovertemplate": "Year=%{x}<br>Value_co2_emissions_kt_by_country=%{y}<extra></extra>",
         "legendgroup": "",
         "line": {
          "color": "#636efa",
          "dash": "solid"
         },
         "marker": {
          "symbol": "circle"
         },
         "mode": "lines",
         "name": "",
         "orientation": "v",
         "showlegend": false,
         "type": "scatter",
         "x": [
          2000,
          2001,
          2002,
          2003,
          2004,
          2005,
          2006,
          2007,
          2008,
          2009,
          2010,
          2011,
          2012,
          2013,
          2014,
          2015,
          2016,
          2017,
          2018,
          2019,
          2020
         ],
         "xaxis": "x4",
         "y": [
          1182610,
          1170380,
          1206599.976,
          1214949.951,
          1209849.976,
          1212819.946,
          1189520.02,
          1225069.946,
          1158219.971,
          1100979.98,
          1156479.98,
          1213520.02,
          1253609.985,
          1262780.029,
          1217119.995,
          1179439.941,
          1167790.039,
          1155229.98,
          1116150.024,
          1081569.946,
          null
         ],
         "yaxis": "y4"
        },
        {
         "hovertemplate": "Year=%{x}<br>Value_co2_emissions_kt_by_country=%{y}<extra></extra>",
         "legendgroup": "",
         "line": {
          "color": "#636efa",
          "dash": "solid"
         },
         "marker": {
          "symbol": "circle"
         },
         "mode": "lines",
         "name": "",
         "orientation": "v",
         "showlegend": false,
         "type": "scatter",
         "x": [
          2000,
          2001,
          2002,
          2003,
          2004,
          2005,
          2006,
          2007,
          2008,
          2009,
          2010,
          2011,
          2012,
          2013,
          2014,
          2015,
          2016,
          2017,
          2018,
          2019,
          2020
         ],
         "xaxis": "x5",
         "y": [
          830280,
          847680,
          833380.0049,
          836789.978,
          821070.0073,
          802380.0049,
          814409.9731,
          783799.9878,
          789690.0024,
          734809.9976,
          773070.0073,
          746479.9805,
          760130.0049,
          776150.0244,
          736010.0098,
          742309.9976,
          747150.0244,
          732200.0122,
          707700.0122,
          657400.0244,
          null
         ],
         "yaxis": "y5"
        },
        {
         "hovertemplate": "Year=%{x}<br>Value_co2_emissions_kt_by_country=%{y}<extra></extra>",
         "legendgroup": "",
         "line": {
          "color": "#636efa",
          "dash": "solid"
         },
         "marker": {
          "symbol": "circle"
         },
         "mode": "lines",
         "name": "",
         "orientation": "v",
         "showlegend": false,
         "type": "scatter",
         "x": [
          2000,
          2001,
          2002,
          2003,
          2004,
          2005,
          2006,
          2007,
          2008,
          2009,
          2010,
          2011,
          2012,
          2013,
          2014,
          2015,
          2016,
          2017,
          2018,
          2019,
          2020
         ],
         "xaxis": "x6",
         "y": [
          249660,
          254090,
          272250,
          284829.9866,
          299890.0146,
          315290.0085,
          335440.0024,
          354619.9951,
          389720.0012,
          406529.9988,
          446130.0049,
          463769.989,
          492470.0012,
          503209.9915,
          540520.0195,
          565190.0024,
          561229.9805,
          545070.0073,
          521260.0098,
          523780.0293,
          null
         ],
         "yaxis": "y6"
        },
        {
         "hovertemplate": "Year=%{x}<br>Value_co2_emissions_kt_by_country=%{y}<extra></extra>",
         "legendgroup": "",
         "line": {
          "color": "#636efa",
          "dash": "solid"
         },
         "marker": {
          "symbol": "circle"
         },
         "mode": "lines",
         "name": "",
         "orientation": "v",
         "showlegend": false,
         "type": "scatter",
         "x": [
          2000,
          2001,
          2002,
          2003,
          2004,
          2005,
          2006,
          2007,
          2008,
          2009,
          2010,
          2011,
          2012,
          2013,
          2014,
          2015,
          2016,
          2017,
          2018,
          2019,
          2020
         ],
         "xaxis": "x7",
         "y": [
          530890,
          545260,
          530789.978,
          543039.978,
          543080.0171,
          540919.9829,
          542059.9976,
          530500,
          515340.0269,
          466489.9902,
          482440.0024,
          445589.9963,
          467779.9988,
          453760.0098,
          415600.0061,
          401079.9866,
          380809.9976,
          367000,
          360730.011,
          348920.0134,
          null
         ],
         "yaxis": "y7"
        },
        {
         "hovertemplate": "Year=%{x}<br>Value_co2_emissions_kt_by_country=%{y}<extra></extra>",
         "legendgroup": "",
         "line": {
          "color": "#636efa",
          "dash": "solid"
         },
         "marker": {
          "symbol": "circle"
         },
         "mode": "lines",
         "name": "",
         "orientation": "v",
         "showlegend": false,
         "type": "scatter",
         "x": [
          2000,
          2001,
          2002,
          2003,
          2004,
          2005,
          2006,
          2007,
          2008,
          2009,
          2010,
          2011,
          2012,
          2013,
          2014,
          2015,
          2016,
          2017,
          2018,
          2019,
          2020
         ],
         "xaxis": "x8",
         "y": [
          284660,
          320540,
          331320.0073,
          353089.9963,
          379989.9902,
          377649.9939,
          379790.0085,
          397059.9976,
          426739.9902,
          404200.0122,
          425309.9976,
          409260.0098,
          426779.9988,
          436920.0134,
          447929.9927,
          424809.9976,
          425140.0146,
          435649.9939,
          434350.0061,
          439640.0146,
          null
         ],
         "yaxis": "y8"
        },
        {
         "hovertemplate": "Year=%{x}<br>Value_co2_emissions_kt_by_country=%{y}<extra></extra>",
         "legendgroup": "",
         "line": {
          "color": "#636efa",
          "dash": "solid"
         },
         "marker": {
          "symbol": "circle"
         },
         "mode": "lines",
         "name": "",
         "orientation": "v",
         "showlegend": false,
         "type": "scatter",
         "x": [
          2000,
          2001,
          2002,
          2003,
          2004,
          2005,
          2006,
          2007,
          2008,
          2009,
          2010,
          2011,
          2012,
          2013,
          2014,
          2015,
          2016,
          2017,
          2018,
          2019,
          2020
         ],
         "xaxis": "x9",
         "y": [
          436300,
          436570,
          443470.0012,
          462200.0122,
          472399.9939,
          473829.9866,
          466649.9939,
          459369.9951,
          444980.011,
          397059.9976,
          405269.989,
          396690.0024,
          376750,
          346459.9915,
          327500,
          337859.9854,
          333339.9963,
          329190.0024,
          324880.0049,
          317239.9902,
          null
         ],
         "yaxis": "y9"
        },
        {
         "hovertemplate": "Year=%{x}<br>Value_co2_emissions_kt_by_country=%{y}<extra></extra>",
         "legendgroup": "",
         "line": {
          "color": "#636efa",
          "dash": "solid"
         },
         "marker": {
          "symbol": "circle"
         },
         "mode": "lines",
         "name": "",
         "orientation": "v",
         "showlegend": false,
         "type": "scatter",
         "x": [
          2000,
          2001,
          2002,
          2003,
          2004,
          2005,
          2006,
          2007,
          2008,
          2009,
          2010,
          2011,
          2012,
          2013,
          2014,
          2015,
          2016,
          2017,
          2018,
          2019,
          2020
         ],
         "xaxis": "x10",
         "y": [
          379180,
          378830,
          386000,
          404690.0024,
          414100.0061,
          432190.0024,
          448299.9878,
          457119.9951,
          459549.9878,
          448369.9951,
          462869.9951,
          478399.9939,
          486450.0122,
          475739.9902,
          462239.9902,
          471630.0049,
          473309.9976,
          471579.9866,
          452570.0073,
          449269.989,
          null
         ],
         "yaxis": "y10"
        }
       ],
       "layout": {
        "annotations": [
         {
          "font": {
           "size": 16
          },
          "showarrow": false,
          "text": "China",
          "x": 0.225,
          "xanchor": "center",
          "xref": "paper",
          "y": 1,
          "yanchor": "bottom",
          "yref": "paper"
         },
         {
          "font": {
           "size": 16
          },
          "showarrow": false,
          "text": "United States",
          "x": 0.775,
          "xanchor": "center",
          "xref": "paper",
          "y": 1,
          "yanchor": "bottom",
          "yref": "paper"
         },
         {
          "font": {
           "size": 16
          },
          "showarrow": false,
          "text": "India",
          "x": 0.225,
          "xanchor": "center",
          "xref": "paper",
          "y": 0.78,
          "yanchor": "bottom",
          "yref": "paper"
         },
         {
          "font": {
           "size": 16
          },
          "showarrow": false,
          "text": "Japan",
          "x": 0.775,
          "xanchor": "center",
          "xref": "paper",
          "y": 0.78,
          "yanchor": "bottom",
          "yref": "paper"
         },
         {
          "font": {
           "size": 16
          },
          "showarrow": false,
          "text": "Germany",
          "x": 0.225,
          "xanchor": "center",
          "xref": "paper",
          "y": 0.56,
          "yanchor": "bottom",
          "yref": "paper"
         },
         {
          "font": {
           "size": 16
          },
          "showarrow": false,
          "text": "Saudi Arabia",
          "x": 0.775,
          "xanchor": "center",
          "xref": "paper",
          "y": 0.56,
          "yanchor": "bottom",
          "yref": "paper"
         },
         {
          "font": {
           "size": 16
          },
          "showarrow": false,
          "text": "United Kingdom",
          "x": 0.225,
          "xanchor": "center",
          "xref": "paper",
          "y": 0.33999999999999997,
          "yanchor": "bottom",
          "yref": "paper"
         },
         {
          "font": {
           "size": 16
          },
          "showarrow": false,
          "text": "South Africa",
          "x": 0.775,
          "xanchor": "center",
          "xref": "paper",
          "y": 0.33999999999999997,
          "yanchor": "bottom",
          "yref": "paper"
         },
         {
          "font": {
           "size": 16
          },
          "showarrow": false,
          "text": "Italy",
          "x": 0.225,
          "xanchor": "center",
          "xref": "paper",
          "y": 0.12,
          "yanchor": "bottom",
          "yref": "paper"
         },
         {
          "font": {
           "size": 16
          },
          "showarrow": false,
          "text": "Mexico",
          "x": 0.775,
          "xanchor": "center",
          "xref": "paper",
          "y": 0.12,
          "yanchor": "bottom",
          "yref": "paper"
         }
        ],
        "height": 1800,
        "template": {
         "data": {
          "bar": [
           {
            "error_x": {
             "color": "#2a3f5f"
            },
            "error_y": {
             "color": "#2a3f5f"
            },
            "marker": {
             "line": {
              "color": "#E5ECF6",
              "width": 0.5
             },
             "pattern": {
              "fillmode": "overlay",
              "size": 10,
              "solidity": 0.2
             }
            },
            "type": "bar"
           }
          ],
          "barpolar": [
           {
            "marker": {
             "line": {
              "color": "#E5ECF6",
              "width": 0.5
             },
             "pattern": {
              "fillmode": "overlay",
              "size": 10,
              "solidity": 0.2
             }
            },
            "type": "barpolar"
           }
          ],
          "carpet": [
           {
            "aaxis": {
             "endlinecolor": "#2a3f5f",
             "gridcolor": "white",
             "linecolor": "white",
             "minorgridcolor": "white",
             "startlinecolor": "#2a3f5f"
            },
            "baxis": {
             "endlinecolor": "#2a3f5f",
             "gridcolor": "white",
             "linecolor": "white",
             "minorgridcolor": "white",
             "startlinecolor": "#2a3f5f"
            },
            "type": "carpet"
           }
          ],
          "choropleth": [
           {
            "colorbar": {
             "outlinewidth": 0,
             "ticks": ""
            },
            "type": "choropleth"
           }
          ],
          "contour": [
           {
            "colorbar": {
             "outlinewidth": 0,
             "ticks": ""
            },
            "colorscale": [
             [
              0,
              "#0d0887"
             ],
             [
              0.1111111111111111,
              "#46039f"
             ],
             [
              0.2222222222222222,
              "#7201a8"
             ],
             [
              0.3333333333333333,
              "#9c179e"
             ],
             [
              0.4444444444444444,
              "#bd3786"
             ],
             [
              0.5555555555555556,
              "#d8576b"
             ],
             [
              0.6666666666666666,
              "#ed7953"
             ],
             [
              0.7777777777777778,
              "#fb9f3a"
             ],
             [
              0.8888888888888888,
              "#fdca26"
             ],
             [
              1,
              "#f0f921"
             ]
            ],
            "type": "contour"
           }
          ],
          "contourcarpet": [
           {
            "colorbar": {
             "outlinewidth": 0,
             "ticks": ""
            },
            "type": "contourcarpet"
           }
          ],
          "heatmap": [
           {
            "colorbar": {
             "outlinewidth": 0,
             "ticks": ""
            },
            "colorscale": [
             [
              0,
              "#0d0887"
             ],
             [
              0.1111111111111111,
              "#46039f"
             ],
             [
              0.2222222222222222,
              "#7201a8"
             ],
             [
              0.3333333333333333,
              "#9c179e"
             ],
             [
              0.4444444444444444,
              "#bd3786"
             ],
             [
              0.5555555555555556,
              "#d8576b"
             ],
             [
              0.6666666666666666,
              "#ed7953"
             ],
             [
              0.7777777777777778,
              "#fb9f3a"
             ],
             [
              0.8888888888888888,
              "#fdca26"
             ],
             [
              1,
              "#f0f921"
             ]
            ],
            "type": "heatmap"
           }
          ],
          "heatmapgl": [
           {
            "colorbar": {
             "outlinewidth": 0,
             "ticks": ""
            },
            "colorscale": [
             [
              0,
              "#0d0887"
             ],
             [
              0.1111111111111111,
              "#46039f"
             ],
             [
              0.2222222222222222,
              "#7201a8"
             ],
             [
              0.3333333333333333,
              "#9c179e"
             ],
             [
              0.4444444444444444,
              "#bd3786"
             ],
             [
              0.5555555555555556,
              "#d8576b"
             ],
             [
              0.6666666666666666,
              "#ed7953"
             ],
             [
              0.7777777777777778,
              "#fb9f3a"
             ],
             [
              0.8888888888888888,
              "#fdca26"
             ],
             [
              1,
              "#f0f921"
             ]
            ],
            "type": "heatmapgl"
           }
          ],
          "histogram": [
           {
            "marker": {
             "pattern": {
              "fillmode": "overlay",
              "size": 10,
              "solidity": 0.2
             }
            },
            "type": "histogram"
           }
          ],
          "histogram2d": [
           {
            "colorbar": {
             "outlinewidth": 0,
             "ticks": ""
            },
            "colorscale": [
             [
              0,
              "#0d0887"
             ],
             [
              0.1111111111111111,
              "#46039f"
             ],
             [
              0.2222222222222222,
              "#7201a8"
             ],
             [
              0.3333333333333333,
              "#9c179e"
             ],
             [
              0.4444444444444444,
              "#bd3786"
             ],
             [
              0.5555555555555556,
              "#d8576b"
             ],
             [
              0.6666666666666666,
              "#ed7953"
             ],
             [
              0.7777777777777778,
              "#fb9f3a"
             ],
             [
              0.8888888888888888,
              "#fdca26"
             ],
             [
              1,
              "#f0f921"
             ]
            ],
            "type": "histogram2d"
           }
          ],
          "histogram2dcontour": [
           {
            "colorbar": {
             "outlinewidth": 0,
             "ticks": ""
            },
            "colorscale": [
             [
              0,
              "#0d0887"
             ],
             [
              0.1111111111111111,
              "#46039f"
             ],
             [
              0.2222222222222222,
              "#7201a8"
             ],
             [
              0.3333333333333333,
              "#9c179e"
             ],
             [
              0.4444444444444444,
              "#bd3786"
             ],
             [
              0.5555555555555556,
              "#d8576b"
             ],
             [
              0.6666666666666666,
              "#ed7953"
             ],
             [
              0.7777777777777778,
              "#fb9f3a"
             ],
             [
              0.8888888888888888,
              "#fdca26"
             ],
             [
              1,
              "#f0f921"
             ]
            ],
            "type": "histogram2dcontour"
           }
          ],
          "mesh3d": [
           {
            "colorbar": {
             "outlinewidth": 0,
             "ticks": ""
            },
            "type": "mesh3d"
           }
          ],
          "parcoords": [
           {
            "line": {
             "colorbar": {
              "outlinewidth": 0,
              "ticks": ""
             }
            },
            "type": "parcoords"
           }
          ],
          "pie": [
           {
            "automargin": true,
            "type": "pie"
           }
          ],
          "scatter": [
           {
            "fillpattern": {
             "fillmode": "overlay",
             "size": 10,
             "solidity": 0.2
            },
            "type": "scatter"
           }
          ],
          "scatter3d": [
           {
            "line": {
             "colorbar": {
              "outlinewidth": 0,
              "ticks": ""
             }
            },
            "marker": {
             "colorbar": {
              "outlinewidth": 0,
              "ticks": ""
             }
            },
            "type": "scatter3d"
           }
          ],
          "scattercarpet": [
           {
            "marker": {
             "colorbar": {
              "outlinewidth": 0,
              "ticks": ""
             }
            },
            "type": "scattercarpet"
           }
          ],
          "scattergeo": [
           {
            "marker": {
             "colorbar": {
              "outlinewidth": 0,
              "ticks": ""
             }
            },
            "type": "scattergeo"
           }
          ],
          "scattergl": [
           {
            "marker": {
             "colorbar": {
              "outlinewidth": 0,
              "ticks": ""
             }
            },
            "type": "scattergl"
           }
          ],
          "scattermapbox": [
           {
            "marker": {
             "colorbar": {
              "outlinewidth": 0,
              "ticks": ""
             }
            },
            "type": "scattermapbox"
           }
          ],
          "scatterpolar": [
           {
            "marker": {
             "colorbar": {
              "outlinewidth": 0,
              "ticks": ""
             }
            },
            "type": "scatterpolar"
           }
          ],
          "scatterpolargl": [
           {
            "marker": {
             "colorbar": {
              "outlinewidth": 0,
              "ticks": ""
             }
            },
            "type": "scatterpolargl"
           }
          ],
          "scatterternary": [
           {
            "marker": {
             "colorbar": {
              "outlinewidth": 0,
              "ticks": ""
             }
            },
            "type": "scatterternary"
           }
          ],
          "surface": [
           {
            "colorbar": {
             "outlinewidth": 0,
             "ticks": ""
            },
            "colorscale": [
             [
              0,
              "#0d0887"
             ],
             [
              0.1111111111111111,
              "#46039f"
             ],
             [
              0.2222222222222222,
              "#7201a8"
             ],
             [
              0.3333333333333333,
              "#9c179e"
             ],
             [
              0.4444444444444444,
              "#bd3786"
             ],
             [
              0.5555555555555556,
              "#d8576b"
             ],
             [
              0.6666666666666666,
              "#ed7953"
             ],
             [
              0.7777777777777778,
              "#fb9f3a"
             ],
             [
              0.8888888888888888,
              "#fdca26"
             ],
             [
              1,
              "#f0f921"
             ]
            ],
            "type": "surface"
           }
          ],
          "table": [
           {
            "cells": {
             "fill": {
              "color": "#EBF0F8"
             },
             "line": {
              "color": "white"
             }
            },
            "header": {
             "fill": {
              "color": "#C8D4E3"
             },
             "line": {
              "color": "white"
             }
            },
            "type": "table"
           }
          ]
         },
         "layout": {
          "annotationdefaults": {
           "arrowcolor": "#2a3f5f",
           "arrowhead": 0,
           "arrowwidth": 1
          },
          "autotypenumbers": "strict",
          "coloraxis": {
           "colorbar": {
            "outlinewidth": 0,
            "ticks": ""
           }
          },
          "colorscale": {
           "diverging": [
            [
             0,
             "#8e0152"
            ],
            [
             0.1,
             "#c51b7d"
            ],
            [
             0.2,
             "#de77ae"
            ],
            [
             0.3,
             "#f1b6da"
            ],
            [
             0.4,
             "#fde0ef"
            ],
            [
             0.5,
             "#f7f7f7"
            ],
            [
             0.6,
             "#e6f5d0"
            ],
            [
             0.7,
             "#b8e186"
            ],
            [
             0.8,
             "#7fbc41"
            ],
            [
             0.9,
             "#4d9221"
            ],
            [
             1,
             "#276419"
            ]
           ],
           "sequential": [
            [
             0,
             "#0d0887"
            ],
            [
             0.1111111111111111,
             "#46039f"
            ],
            [
             0.2222222222222222,
             "#7201a8"
            ],
            [
             0.3333333333333333,
             "#9c179e"
            ],
            [
             0.4444444444444444,
             "#bd3786"
            ],
            [
             0.5555555555555556,
             "#d8576b"
            ],
            [
             0.6666666666666666,
             "#ed7953"
            ],
            [
             0.7777777777777778,
             "#fb9f3a"
            ],
            [
             0.8888888888888888,
             "#fdca26"
            ],
            [
             1,
             "#f0f921"
            ]
           ],
           "sequentialminus": [
            [
             0,
             "#0d0887"
            ],
            [
             0.1111111111111111,
             "#46039f"
            ],
            [
             0.2222222222222222,
             "#7201a8"
            ],
            [
             0.3333333333333333,
             "#9c179e"
            ],
            [
             0.4444444444444444,
             "#bd3786"
            ],
            [
             0.5555555555555556,
             "#d8576b"
            ],
            [
             0.6666666666666666,
             "#ed7953"
            ],
            [
             0.7777777777777778,
             "#fb9f3a"
            ],
            [
             0.8888888888888888,
             "#fdca26"
            ],
            [
             1,
             "#f0f921"
            ]
           ]
          },
          "colorway": [
           "#636efa",
           "#EF553B",
           "#00cc96",
           "#ab63fa",
           "#FFA15A",
           "#19d3f3",
           "#FF6692",
           "#B6E880",
           "#FF97FF",
           "#FECB52"
          ],
          "font": {
           "color": "#2a3f5f"
          },
          "geo": {
           "bgcolor": "white",
           "lakecolor": "white",
           "landcolor": "#E5ECF6",
           "showlakes": true,
           "showland": true,
           "subunitcolor": "white"
          },
          "hoverlabel": {
           "align": "left"
          },
          "hovermode": "closest",
          "mapbox": {
           "style": "light"
          },
          "paper_bgcolor": "white",
          "plot_bgcolor": "#E5ECF6",
          "polar": {
           "angularaxis": {
            "gridcolor": "white",
            "linecolor": "white",
            "ticks": ""
           },
           "bgcolor": "#E5ECF6",
           "radialaxis": {
            "gridcolor": "white",
            "linecolor": "white",
            "ticks": ""
           }
          },
          "scene": {
           "xaxis": {
            "backgroundcolor": "#E5ECF6",
            "gridcolor": "white",
            "gridwidth": 2,
            "linecolor": "white",
            "showbackground": true,
            "ticks": "",
            "zerolinecolor": "white"
           },
           "yaxis": {
            "backgroundcolor": "#E5ECF6",
            "gridcolor": "white",
            "gridwidth": 2,
            "linecolor": "white",
            "showbackground": true,
            "ticks": "",
            "zerolinecolor": "white"
           },
           "zaxis": {
            "backgroundcolor": "#E5ECF6",
            "gridcolor": "white",
            "gridwidth": 2,
            "linecolor": "white",
            "showbackground": true,
            "ticks": "",
            "zerolinecolor": "white"
           }
          },
          "shapedefaults": {
           "line": {
            "color": "#2a3f5f"
           }
          },
          "ternary": {
           "aaxis": {
            "gridcolor": "white",
            "linecolor": "white",
            "ticks": ""
           },
           "baxis": {
            "gridcolor": "white",
            "linecolor": "white",
            "ticks": ""
           },
           "bgcolor": "#E5ECF6",
           "caxis": {
            "gridcolor": "white",
            "linecolor": "white",
            "ticks": ""
           }
          },
          "title": {
           "x": 0.05
          },
          "xaxis": {
           "automargin": true,
           "gridcolor": "white",
           "linecolor": "white",
           "ticks": "",
           "title": {
            "standoff": 15
           },
           "zerolinecolor": "white",
           "zerolinewidth": 2
          },
          "yaxis": {
           "automargin": true,
           "gridcolor": "white",
           "linecolor": "white",
           "ticks": "",
           "title": {
            "standoff": 15
           },
           "zerolinecolor": "white",
           "zerolinewidth": 2
          }
         }
        },
        "title": {
         "text": "CO2 Emissions Trend for Top 10 Fossil Fuel Consuming Countries"
        },
        "width": 1200,
        "xaxis": {
         "anchor": "y",
         "domain": [
          0,
          0.45
         ]
        },
        "xaxis10": {
         "anchor": "y10",
         "domain": [
          0.55,
          1
         ]
        },
        "xaxis2": {
         "anchor": "y2",
         "domain": [
          0.55,
          1
         ]
        },
        "xaxis3": {
         "anchor": "y3",
         "domain": [
          0,
          0.45
         ]
        },
        "xaxis4": {
         "anchor": "y4",
         "domain": [
          0.55,
          1
         ]
        },
        "xaxis5": {
         "anchor": "y5",
         "domain": [
          0,
          0.45
         ]
        },
        "xaxis6": {
         "anchor": "y6",
         "domain": [
          0.55,
          1
         ]
        },
        "xaxis7": {
         "anchor": "y7",
         "domain": [
          0,
          0.45
         ]
        },
        "xaxis8": {
         "anchor": "y8",
         "domain": [
          0.55,
          1
         ]
        },
        "xaxis9": {
         "anchor": "y9",
         "domain": [
          0,
          0.45
         ]
        },
        "yaxis": {
         "anchor": "x",
         "domain": [
          0.88,
          1
         ]
        },
        "yaxis10": {
         "anchor": "x10",
         "domain": [
          0,
          0.12
         ]
        },
        "yaxis2": {
         "anchor": "x2",
         "domain": [
          0.88,
          1
         ]
        },
        "yaxis3": {
         "anchor": "x3",
         "domain": [
          0.66,
          0.78
         ]
        },
        "yaxis4": {
         "anchor": "x4",
         "domain": [
          0.66,
          0.78
         ]
        },
        "yaxis5": {
         "anchor": "x5",
         "domain": [
          0.44,
          0.56
         ]
        },
        "yaxis6": {
         "anchor": "x6",
         "domain": [
          0.44,
          0.56
         ]
        },
        "yaxis7": {
         "anchor": "x7",
         "domain": [
          0.22,
          0.33999999999999997
         ]
        },
        "yaxis8": {
         "anchor": "x8",
         "domain": [
          0.22,
          0.33999999999999997
         ]
        },
        "yaxis9": {
         "anchor": "x9",
         "domain": [
          0,
          0.12
         ]
        }
       }
      }
     },
     "metadata": {},
     "output_type": "display_data"
    }
   ],
   "source": [
    "from plotly.subplots import make_subplots\n",
    "\n",
    "\n",
    "def co2_emission_plot(country):\n",
    "    co2_trend = df[df['Entity'] == country]\n",
    "    fig = px.line(co2_trend, x='Year', y='Value_co2_emissions_kt_by_country', title=f'CO2 Emissions Trend for {country}')\n",
    "    return fig\n",
    "\n",
    "# List of top 10 fossil fuel consuming countries\n",
    "\n",
    "# Create a subplot figure with 5 rows and 2 columns (for 10 plots)\n",
    "fig = make_subplots(rows=5, cols=2, subplot_titles=top_10_fossil_fuel_consumption_countries)\n",
    "\n",
    "# Add each CO2 emission plot to the subplot\n",
    "for i, country in enumerate(top_10_fossil_fuel_consumption_countries):\n",
    "    row = i // 2 + 1\n",
    "    col = i % 2 + 1\n",
    "    co2_plot = co2_emission_plot(country)\n",
    "    for trace in co2_plot['data']:\n",
    "        fig.add_trace(trace, row=row, col=col)\n",
    "\n",
    "# Update layout for the entire figure\n",
    "fig.update_layout(height=1800, width=1200, title_text=\"CO2 Emissions Trend for Top 10 Fossil Fuel Consuming Countries\")\n",
    "fig.show()"
   ]
  },
  {
   "cell_type": "code",
   "execution_count": 10,
   "metadata": {},
   "outputs": [
    {
     "data": {
      "text/plain": [
       "Index(['Entity', 'Year', 'Access to electricity (% of population)',\n",
       "       'Access to clean fuels for cooking',\n",
       "       'Renewable-electricity-generating-capacity-per-capita',\n",
       "       'Financial flows to developing countries (US $)',\n",
       "       'Renewable energy share in the total final energy consumption (%)',\n",
       "       'Electricity from fossil fuels (TWh)', 'Electricity from nuclear (TWh)',\n",
       "       'Electricity from renewables (TWh)',\n",
       "       'Low-carbon electricity (% electricity)',\n",
       "       'Primary energy consumption per capita (kWh/person)',\n",
       "       'Energy intensity level of primary energy (MJ/$2017 PPP GDP)',\n",
       "       'Value_co2_emissions_kt_by_country',\n",
       "       'Renewables (% equivalent primary energy)', 'gdp_growth',\n",
       "       'gdp_per_capita', 'Density\\n(P/Km2)', 'Land Area(Km2)', 'Latitude',\n",
       "       'Longitude'],\n",
       "      dtype='object')"
      ]
     },
     "execution_count": 10,
     "metadata": {},
     "output_type": "execute_result"
    }
   ],
   "source": [
    "df.columns"
   ]
  },
  {
   "cell_type": "markdown",
   "metadata": {},
   "source": [
    "Visualising CO2 emissions in respective countries"
   ]
  },
  {
   "cell_type": "code",
   "execution_count": 11,
   "metadata": {},
   "outputs": [],
   "source": [
    "average_co2_emission_by_country = data.groupby('Entity')['Value_co2_emissions_kt_by_country'].mean()"
   ]
  },
  {
   "cell_type": "code",
   "execution_count": 12,
   "metadata": {},
   "outputs": [],
   "source": [
    "top_5_countries = average_co2_emission_by_country.nlargest(5)"
   ]
  },
  {
   "cell_type": "code",
   "execution_count": 13,
   "metadata": {},
   "outputs": [
    {
     "data": {
      "image/png": "[encoded data removed]",
      "text/plain": [
       "<Figure size 800x400 with 1 Axes>"
      ]
     },
     "metadata": {
      "image/png": {
       "height": 390,
       "width": 789
      }
     },
     "output_type": "display_data"
    }
   ],
   "source": [
    "plt.figure(figsize = (8,4))\n",
    "sns.barplot(x = top_5_countries.index, y = top_5_countries.values)\n",
    "plt.xlabel('Country')\n",
    "plt.ylabel('Average CO2 Emissions (kT x 1e6)')\n",
    "plt.title('Top 5 Countries with Highest Average CO2 Emissions')\n",
    "\n",
    "plt.xticks(rotation = 45, ha = 'center')\n",
    "\n",
    "plt.tight_layout()\n",
    "plt.show()"
   ]
  },
  {
   "cell_type": "markdown",
   "metadata": {},
   "source": [
    "Five countries with the lowest CO2 emissions"
   ]
  },
  {
   "cell_type": "code",
   "execution_count": 14,
   "metadata": {},
   "outputs": [],
   "source": [
    "top_5_lowest_emissions = average_co2_emission_by_country.nsmallest(5)"
   ]
  },
  {
   "cell_type": "code",
   "execution_count": 15,
   "metadata": {},
   "outputs": [
    {
     "data": {
      "image/png": "[encoded data removed]",
      "text/plain": [
       "<Figure size 800x400 with 1 Axes>"
      ]
     },
     "metadata": {
      "image/png": {
       "height": 392,
       "width": 826
      }
     },
     "output_type": "display_data"
    }
   ],
   "source": [
    "plt.figure(figsize = (8,4))\n",
    "sns.barplot(x = top_5_lowest_emissions.values, y = top_5_lowest_emissions.index)\n",
    "plt.xlabel('Average CO2 Emissions (kT)')\n",
    "plt.ylabel('Country')\n",
    "plt.title('Top 5 Countries with the Lowest CO2 Emissions')\n",
    "\n",
    "plt.show()"
   ]
  },
  {
   "cell_type": "code",
   "execution_count": 16,
   "metadata": {},
   "outputs": [
    {
     "data": {
      "image/png": "[encoded data removed]",
      "text/plain": [
       "<Figure size 480x480 with 2 Axes>"
      ]
     },
     "metadata": {
      "image/png": {
       "height": 554,
       "width": 584
      }
     },
     "output_type": "display_data"
    }
   ],
   "source": [
    "df = data\n",
    "heatmap_cols = ['Entity', 'Year',\n",
    "                'Renewable energy share in the total final energy consumption (%)',\n",
    "                'Electricity from fossil fuels (TWh)', 'Electricity from nuclear (TWh)',\n",
    "                'Electricity from renewables (TWh)',\n",
    "                'Low-carbon electricity (% electricity)',\n",
    "                'Primary energy consumption per capita (kWh/person)',\n",
    "                'Value_co2_emissions_kt_by_country',\n",
    "                'Renewables (% equivalent primary energy)',\n",
    "                'Land Area(Km2)']\n",
    "numerical_features = [col for col in heatmap_cols if df[col].dtype != 'object']\n",
    "\n",
    "correlation_matrix = df[numerical_features].corr()\n",
    "\n",
    "heatmap_plot_cols = ['Year',\n",
    "                'Renewable energy share',\n",
    "                'Electricity from fossil fuels', 'Electricity from nuclear',\n",
    "                'Electricity from renewables',\n",
    "                'Low-carbon electricity',\n",
    "                'energy consumption',\n",
    "                'C02 Emissions',\n",
    "                'Renewables',\n",
    "                'Area']\n",
    "\n",
    "# Create a heatmap visualization\n",
    "plt.matshow(correlation_matrix, cmap = 'gist_gray')\n",
    "plt.xticks(range(len(correlation_matrix.columns)), heatmap_plot_cols, rotation=90)\n",
    "plt.yticks(range(len(correlation_matrix.columns)), heatmap_plot_cols)\n",
    "plt.rcParams[\"figure.figsize\"] = [6, 4]\n",
    "plt.rcParams[\"font.size\"] = 6\n",
    "plt.colorbar()\n",
    "plt.show()"
   ]
  },
  {
   "cell_type": "code",
   "execution_count": 17,
   "metadata": {},
   "outputs": [
    {
     "data": {
      "text/plain": [
       "Index(['Entity', 'Year', 'Access to electricity (% of population)',\n",
       "       'Access to clean fuels for cooking',\n",
       "       'Renewable-electricity-generating-capacity-per-capita',\n",
       "       'Financial flows to developing countries (US $)',\n",
       "       'Renewable energy share in the total final energy consumption (%)',\n",
       "       'Electricity from fossil fuels (TWh)', 'Electricity from nuclear (TWh)',\n",
       "       'Electricity from renewables (TWh)',\n",
       "       'Low-carbon electricity (% electricity)',\n",
       "       'Primary energy consumption per capita (kWh/person)',\n",
       "       'Energy intensity level of primary energy (MJ/$2017 PPP GDP)',\n",
       "       'Value_co2_emissions_kt_by_country',\n",
       "       'Renewables (% equivalent primary energy)', 'gdp_growth',\n",
       "       'gdp_per_capita', 'Density\\n(P/Km2)', 'Land Area(Km2)', 'Latitude',\n",
       "       'Longitude'],\n",
       "      dtype='object')"
      ]
     },
     "execution_count": 17,
     "metadata": {},
     "output_type": "execute_result"
    }
   ],
   "source": [
    "df.columns"
   ]
  },
  {
   "cell_type": "code",
   "execution_count": 18,
   "metadata": {},
   "outputs": [
    {
     "data": {
      "image/png": "[encoded data removed]",
      "text/plain": [
       "<Figure size 600x400 with 1 Axes>"
      ]
     },
     "metadata": {
      "image/png": {
       "height": 368,
       "width": 521
      }
     },
     "output_type": "display_data"
    }
   ],
   "source": [
    "fossil_fuel_energy = df['Electricity from fossil fuels (TWh)']\n",
    "C02_emission = df['Value_co2_emissions_kt_by_country']\n",
    "correlation = C02_emission.corr(fossil_fuel_energy, method='pearson')\n",
    "\n",
    "plt.scatter(fossil_fuel_energy, C02_emission)\n",
    "\n",
    "# Add labels and title\n",
    "plt.xlabel(fossil_fuel_energy.name)\n",
    "plt.ylabel(C02_emission.name)\n",
    "plt.annotate(f\"Correlation: {correlation:.2f}\", xy=(0.6, 0.4), xycoords='axes fraction')\n",
    "\n",
    "\n",
    "# Display the plot\n",
    "plt.show()"
   ]
  },
  {
   "cell_type": "markdown",
   "metadata": {},
   "source": [
    "#### Data Quality Report"
   ]
  },
  {
   "cell_type": "markdown",
   "metadata": {},
   "source": [
    "##### Continuous features report "
   ]
  },
  {
   "cell_type": "code",
   "execution_count": 19,
   "metadata": {},
   "outputs": [],
   "source": [
    "def build_continuous_features_report(data_df):\n",
    "\n",
    "    \"\"\"Build tabular report for continuous features\"\"\"\n",
    "\n",
    "    stats = {\n",
    "        \"Count\": len,\n",
    "        \"Miss %\": lambda df: df.isna().sum() / len(df) * 100,\n",
    "        \"Card.\": lambda df: df.nunique(),\n",
    "        \"Min\": lambda df: df.min(),\n",
    "        \"1st Qrt.\": lambda df: df.quantile(0.25),\n",
    "        \"Mean\": lambda df: df.mean(),\n",
    "        \"Median\": lambda df: df.median(),\n",
    "        \"3rd Qrt\": lambda df: df.quantile(0.75),\n",
    "        \"Max\": lambda df: df.max(),\n",
    "        \"Std. Dev.\": lambda df: df.std(),\n",
    "    }\n",
    "\n",
    "    contin_feat_names = data_df.select_dtypes(\"number\").columns\n",
    "    continuous_data_df = data_df[contin_feat_names]\n",
    "\n",
    "    report_df = pd.DataFrame(index=contin_feat_names, columns=stats.keys())\n",
    "\n",
    "    for stat_name, fn in stats.items():\n",
    "        # NOTE: ignore warnings for empty features\n",
    "        with warnings.catch_warnings():\n",
    "            warnings.simplefilter(\"ignore\", category=RuntimeWarning)\n",
    "            report_df[stat_name] = fn(continuous_data_df)\n",
    "\n",
    "    return report_df\n"
   ]
  },
  {
   "cell_type": "code",
   "execution_count": 20,
   "metadata": {},
   "outputs": [
    {
     "data": {
      "text/html": [
       "<div>\n",
       "<style scoped>\n",
       "    .dataframe tbody tr th:only-of-type {\n",
       "        vertical-align: middle;\n",
       "    }\n",
       "\n",
       "    .dataframe tbody tr th {\n",
       "        vertical-align: top;\n",
       "    }\n",
       "\n",
       "    .dataframe thead th {\n",
       "        text-align: right;\n",
       "    }\n",
       "</style>\n",
       "<table border=\"1\" class=\"dataframe\">\n",
       "  <thead>\n",
       "    <tr style=\"text-align: right;\">\n",
       "      <th></th>\n",
       "      <th>Count</th>\n",
       "      <th>Miss %</th>\n",
       "      <th>Card.</th>\n",
       "      <th>Min</th>\n",
       "      <th>1st Qrt.</th>\n",
       "      <th>Mean</th>\n",
       "      <th>Median</th>\n",
       "      <th>3rd Qrt</th>\n",
       "      <th>Max</th>\n",
       "      <th>Std. Dev.</th>\n",
       "    </tr>\n",
       "  </thead>\n",
       "  <tbody>\n",
       "    <tr>\n",
       "      <th>Year</th>\n",
       "      <td>3649</td>\n",
       "      <td>0.000000</td>\n",
       "      <td>21</td>\n",
       "      <td>2000.000000</td>\n",
       "      <td>2005.000000</td>\n",
       "      <td>2.010038e+03</td>\n",
       "      <td>2.010000e+03</td>\n",
       "      <td>2.015000e+03</td>\n",
       "      <td>2.020000e+03</td>\n",
       "      <td>6.054228e+00</td>\n",
       "    </tr>\n",
       "    <tr>\n",
       "      <th>Access to electricity (% of population)</th>\n",
       "      <td>3649</td>\n",
       "      <td>0.274048</td>\n",
       "      <td>2040</td>\n",
       "      <td>1.252269</td>\n",
       "      <td>59.800890</td>\n",
       "      <td>7.893370e+01</td>\n",
       "      <td>9.836157e+01</td>\n",
       "      <td>1.000000e+02</td>\n",
       "      <td>1.000000e+02</td>\n",
       "      <td>3.027554e+01</td>\n",
       "    </tr>\n",
       "    <tr>\n",
       "      <th>Access to clean fuels for cooking</th>\n",
       "      <td>3649</td>\n",
       "      <td>4.631406</td>\n",
       "      <td>896</td>\n",
       "      <td>0.000000</td>\n",
       "      <td>23.175000</td>\n",
       "      <td>6.325529e+01</td>\n",
       "      <td>8.315000e+01</td>\n",
       "      <td>1.000000e+02</td>\n",
       "      <td>1.000000e+02</td>\n",
       "      <td>3.904366e+01</td>\n",
       "    </tr>\n",
       "    <tr>\n",
       "      <th>Renewable-electricity-generating-capacity-per-capita</th>\n",
       "      <td>3649</td>\n",
       "      <td>25.513839</td>\n",
       "      <td>2110</td>\n",
       "      <td>0.000000</td>\n",
       "      <td>3.540000</td>\n",
       "      <td>1.131375e+02</td>\n",
       "      <td>3.291000e+01</td>\n",
       "      <td>1.122100e+02</td>\n",
       "      <td>3.060190e+03</td>\n",
       "      <td>2.441673e+02</td>\n",
       "    </tr>\n",
       "    <tr>\n",
       "      <th>Financial flows to developing countries (US $)</th>\n",
       "      <td>3649</td>\n",
       "      <td>57.248561</td>\n",
       "      <td>1017</td>\n",
       "      <td>0.000000</td>\n",
       "      <td>260000.000000</td>\n",
       "      <td>9.422400e+07</td>\n",
       "      <td>5.665000e+06</td>\n",
       "      <td>5.534750e+07</td>\n",
       "      <td>5.202310e+09</td>\n",
       "      <td>2.981544e+08</td>\n",
       "    </tr>\n",
       "    <tr>\n",
       "      <th>Renewable energy share in the total final energy consumption (%)</th>\n",
       "      <td>3649</td>\n",
       "      <td>5.316525</td>\n",
       "      <td>2587</td>\n",
       "      <td>0.000000</td>\n",
       "      <td>6.515000</td>\n",
       "      <td>3.263816e+01</td>\n",
       "      <td>2.330000e+01</td>\n",
       "      <td>5.524500e+01</td>\n",
       "      <td>9.604000e+01</td>\n",
       "      <td>2.989490e+01</td>\n",
       "    </tr>\n",
       "    <tr>\n",
       "      <th>Electricity from fossil fuels (TWh)</th>\n",
       "      <td>3649</td>\n",
       "      <td>0.575500</td>\n",
       "      <td>1859</td>\n",
       "      <td>0.000000</td>\n",
       "      <td>0.290000</td>\n",
       "      <td>7.036500e+01</td>\n",
       "      <td>2.970000e+00</td>\n",
       "      <td>2.683750e+01</td>\n",
       "      <td>5.184130e+03</td>\n",
       "      <td>3.480519e+02</td>\n",
       "    </tr>\n",
       "    <tr>\n",
       "      <th>Electricity from nuclear (TWh)</th>\n",
       "      <td>3649</td>\n",
       "      <td>3.453001</td>\n",
       "      <td>547</td>\n",
       "      <td>0.000000</td>\n",
       "      <td>0.000000</td>\n",
       "      <td>1.345019e+01</td>\n",
       "      <td>0.000000e+00</td>\n",
       "      <td>0.000000e+00</td>\n",
       "      <td>8.094100e+02</td>\n",
       "      <td>7.300662e+01</td>\n",
       "    </tr>\n",
       "    <tr>\n",
       "      <th>Electricity from renewables (TWh)</th>\n",
       "      <td>3649</td>\n",
       "      <td>0.575500</td>\n",
       "      <td>1533</td>\n",
       "      <td>0.000000</td>\n",
       "      <td>0.040000</td>\n",
       "      <td>2.396801e+01</td>\n",
       "      <td>1.470000e+00</td>\n",
       "      <td>9.600000e+00</td>\n",
       "      <td>2.184940e+03</td>\n",
       "      <td>1.044311e+02</td>\n",
       "    </tr>\n",
       "    <tr>\n",
       "      <th>Low-carbon electricity (% electricity)</th>\n",
       "      <td>3649</td>\n",
       "      <td>1.151000</td>\n",
       "      <td>2647</td>\n",
       "      <td>0.000000</td>\n",
       "      <td>2.877847</td>\n",
       "      <td>3.680118e+01</td>\n",
       "      <td>2.786507e+01</td>\n",
       "      <td>6.440379e+01</td>\n",
       "      <td>1.000000e+02</td>\n",
       "      <td>3.431488e+01</td>\n",
       "    </tr>\n",
       "    <tr>\n",
       "      <th>Primary energy consumption per capita (kWh/person)</th>\n",
       "      <td>3649</td>\n",
       "      <td>0.000000</td>\n",
       "      <td>3628</td>\n",
       "      <td>0.000000</td>\n",
       "      <td>3116.737300</td>\n",
       "      <td>2.574398e+04</td>\n",
       "      <td>1.312057e+04</td>\n",
       "      <td>3.389278e+04</td>\n",
       "      <td>2.625857e+05</td>\n",
       "      <td>3.477322e+04</td>\n",
       "    </tr>\n",
       "    <tr>\n",
       "      <th>Energy intensity level of primary energy (MJ/$2017 PPP GDP)</th>\n",
       "      <td>3649</td>\n",
       "      <td>5.672787</td>\n",
       "      <td>1044</td>\n",
       "      <td>0.110000</td>\n",
       "      <td>3.170000</td>\n",
       "      <td>5.307345e+00</td>\n",
       "      <td>4.300000e+00</td>\n",
       "      <td>6.027500e+00</td>\n",
       "      <td>3.257000e+01</td>\n",
       "      <td>3.532020e+00</td>\n",
       "    </tr>\n",
       "    <tr>\n",
       "      <th>Value_co2_emissions_kt_by_country</th>\n",
       "      <td>3649</td>\n",
       "      <td>11.729241</td>\n",
       "      <td>2397</td>\n",
       "      <td>10.000000</td>\n",
       "      <td>2019.999981</td>\n",
       "      <td>1.598665e+05</td>\n",
       "      <td>1.050000e+04</td>\n",
       "      <td>6.058000e+04</td>\n",
       "      <td>1.070722e+07</td>\n",
       "      <td>7.736611e+05</td>\n",
       "    </tr>\n",
       "    <tr>\n",
       "      <th>Renewables (% equivalent primary energy)</th>\n",
       "      <td>3649</td>\n",
       "      <td>58.563990</td>\n",
       "      <td>1455</td>\n",
       "      <td>0.000000</td>\n",
       "      <td>2.137095</td>\n",
       "      <td>1.198671e+01</td>\n",
       "      <td>6.290766e+00</td>\n",
       "      <td>1.684164e+01</td>\n",
       "      <td>8.683659e+01</td>\n",
       "      <td>1.499464e+01</td>\n",
       "    </tr>\n",
       "    <tr>\n",
       "      <th>gdp_growth</th>\n",
       "      <td>3649</td>\n",
       "      <td>8.687312</td>\n",
       "      <td>3320</td>\n",
       "      <td>-62.075920</td>\n",
       "      <td>1.383302</td>\n",
       "      <td>3.441610e+00</td>\n",
       "      <td>3.559855e+00</td>\n",
       "      <td>5.830099e+00</td>\n",
       "      <td>1.231396e+02</td>\n",
       "      <td>5.686720e+00</td>\n",
       "    </tr>\n",
       "    <tr>\n",
       "      <th>gdp_per_capita</th>\n",
       "      <td>3649</td>\n",
       "      <td>7.728145</td>\n",
       "      <td>3367</td>\n",
       "      <td>111.927225</td>\n",
       "      <td>1337.813437</td>\n",
       "      <td>1.328377e+04</td>\n",
       "      <td>4.578633e+03</td>\n",
       "      <td>1.576862e+04</td>\n",
       "      <td>1.235142e+05</td>\n",
       "      <td>1.970987e+04</td>\n",
       "    </tr>\n",
       "    <tr>\n",
       "      <th>Land Area(Km2)</th>\n",
       "      <td>3649</td>\n",
       "      <td>0.027405</td>\n",
       "      <td>175</td>\n",
       "      <td>21.000000</td>\n",
       "      <td>25713.000000</td>\n",
       "      <td>6.332135e+05</td>\n",
       "      <td>1.176000e+05</td>\n",
       "      <td>5.131200e+05</td>\n",
       "      <td>9.984670e+06</td>\n",
       "      <td>1.585519e+06</td>\n",
       "    </tr>\n",
       "    <tr>\n",
       "      <th>Latitude</th>\n",
       "      <td>3649</td>\n",
       "      <td>0.027405</td>\n",
       "      <td>175</td>\n",
       "      <td>-40.900557</td>\n",
       "      <td>3.202778</td>\n",
       "      <td>1.824639e+01</td>\n",
       "      <td>1.718988e+01</td>\n",
       "      <td>3.896972e+01</td>\n",
       "      <td>6.496305e+01</td>\n",
       "      <td>2.415923e+01</td>\n",
       "    </tr>\n",
       "    <tr>\n",
       "      <th>Longitude</th>\n",
       "      <td>3649</td>\n",
       "      <td>0.027405</td>\n",
       "      <td>175</td>\n",
       "      <td>-175.198242</td>\n",
       "      <td>-11.779889</td>\n",
       "      <td>1.482269e+01</td>\n",
       "      <td>1.914514e+01</td>\n",
       "      <td>4.619962e+01</td>\n",
       "      <td>1.780650e+02</td>\n",
       "      <td>6.634815e+01</td>\n",
       "    </tr>\n",
       "  </tbody>\n",
       "</table>\n",
       "</div>"
      ],
      "text/plain": [
       "                                                    Count     Miss %  Card.  \\\n",
       "Year                                                 3649   0.000000     21   \n",
       "Access to electricity (% of population)              3649   0.274048   2040   \n",
       "Access to clean fuels for cooking                    3649   4.631406    896   \n",
       "Renewable-electricity-generating-capacity-per-c...   3649  25.513839   2110   \n",
       "Financial flows to developing countries (US $)       3649  57.248561   1017   \n",
       "Renewable energy share in the total final energ...   3649   5.316525   2587   \n",
       "Electricity from fossil fuels (TWh)                  3649   0.575500   1859   \n",
       "Electricity from nuclear (TWh)                       3649   3.453001    547   \n",
       "Electricity from renewables (TWh)                    3649   0.575500   1533   \n",
       "Low-carbon electricity (% electricity)               3649   1.151000   2647   \n",
       "Primary energy consumption per capita (kWh/person)   3649   0.000000   3628   \n",
       "Energy intensity level of primary energy (MJ/$2...   3649   5.672787   1044   \n",
       "Value_co2_emissions_kt_by_country                    3649  11.729241   2397   \n",
       "Renewables (% equivalent primary energy)             3649  58.563990   1455   \n",
       "gdp_growth                                           3649   8.687312   3320   \n",
       "gdp_per_capita                                       3649   7.728145   3367   \n",
       "Land Area(Km2)                                       3649   0.027405    175   \n",
       "Latitude                                             3649   0.027405    175   \n",
       "Longitude                                            3649   0.027405    175   \n",
       "\n",
       "                                                            Min  \\\n",
       "Year                                                2000.000000   \n",
       "Access to electricity (% of population)                1.252269   \n",
       "Access to clean fuels for cooking                      0.000000   \n",
       "Renewable-electricity-generating-capacity-per-c...     0.000000   \n",
       "Financial flows to developing countries (US $)         0.000000   \n",
       "Renewable energy share in the total final energ...     0.000000   \n",
       "Electricity from fossil fuels (TWh)                    0.000000   \n",
       "Electricity from nuclear (TWh)                         0.000000   \n",
       "Electricity from renewables (TWh)                      0.000000   \n",
       "Low-carbon electricity (% electricity)                 0.000000   \n",
       "Primary energy consumption per capita (kWh/person)     0.000000   \n",
       "Energy intensity level of primary energy (MJ/$2...     0.110000   \n",
       "Value_co2_emissions_kt_by_country                     10.000000   \n",
       "Renewables (% equivalent primary energy)               0.000000   \n",
       "gdp_growth                                           -62.075920   \n",
       "gdp_per_capita                                       111.927225   \n",
       "Land Area(Km2)                                        21.000000   \n",
       "Latitude                                             -40.900557   \n",
       "Longitude                                           -175.198242   \n",
       "\n",
       "                                                         1st Qrt.  \\\n",
       "Year                                                  2005.000000   \n",
       "Access to electricity (% of population)                 59.800890   \n",
       "Access to clean fuels for cooking                       23.175000   \n",
       "Renewable-electricity-generating-capacity-per-c...       3.540000   \n",
       "Financial flows to developing countries (US $)      260000.000000   \n",
       "Renewable energy share in the total final energ...       6.515000   \n",
       "Electricity from fossil fuels (TWh)                      0.290000   \n",
       "Electricity from nuclear (TWh)                           0.000000   \n",
       "Electricity from renewables (TWh)                        0.040000   \n",
       "Low-carbon electricity (% electricity)                   2.877847   \n",
       "Primary energy consumption per capita (kWh/person)    3116.737300   \n",
       "Energy intensity level of primary energy (MJ/$2...       3.170000   \n",
       "Value_co2_emissions_kt_by_country                     2019.999981   \n",
       "Renewables (% equivalent primary energy)                 2.137095   \n",
       "gdp_growth                                               1.383302   \n",
       "gdp_per_capita                                        1337.813437   \n",
       "Land Area(Km2)                                       25713.000000   \n",
       "Latitude                                                 3.202778   \n",
       "Longitude                                              -11.779889   \n",
       "\n",
       "                                                            Mean  \\\n",
       "Year                                                2.010038e+03   \n",
       "Access to electricity (% of population)             7.893370e+01   \n",
       "Access to clean fuels for cooking                   6.325529e+01   \n",
       "Renewable-electricity-generating-capacity-per-c...  1.131375e+02   \n",
       "Financial flows to developing countries (US $)      9.422400e+07   \n",
       "Renewable energy share in the total final energ...  3.263816e+01   \n",
       "Electricity from fossil fuels (TWh)                 7.036500e+01   \n",
       "Electricity from nuclear (TWh)                      1.345019e+01   \n",
       "Electricity from renewables (TWh)                   2.396801e+01   \n",
       "Low-carbon electricity (% electricity)              3.680118e+01   \n",
       "Primary energy consumption per capita (kWh/person)  2.574398e+04   \n",
       "Energy intensity level of primary energy (MJ/$2...  5.307345e+00   \n",
       "Value_co2_emissions_kt_by_country                   1.598665e+05   \n",
       "Renewables (% equivalent primary energy)            1.198671e+01   \n",
       "gdp_growth                                          3.441610e+00   \n",
       "gdp_per_capita                                      1.328377e+04   \n",
       "Land Area(Km2)                                      6.332135e+05   \n",
       "Latitude                                            1.824639e+01   \n",
       "Longitude                                           1.482269e+01   \n",
       "\n",
       "                                                          Median  \\\n",
       "Year                                                2.010000e+03   \n",
       "Access to electricity (% of population)             9.836157e+01   \n",
       "Access to clean fuels for cooking                   8.315000e+01   \n",
       "Renewable-electricity-generating-capacity-per-c...  3.291000e+01   \n",
       "Financial flows to developing countries (US $)      5.665000e+06   \n",
       "Renewable energy share in the total final energ...  2.330000e+01   \n",
       "Electricity from fossil fuels (TWh)                 2.970000e+00   \n",
       "Electricity from nuclear (TWh)                      0.000000e+00   \n",
       "Electricity from renewables (TWh)                   1.470000e+00   \n",
       "Low-carbon electricity (% electricity)              2.786507e+01   \n",
       "Primary energy consumption per capita (kWh/person)  1.312057e+04   \n",
       "Energy intensity level of primary energy (MJ/$2...  4.300000e+00   \n",
       "Value_co2_emissions_kt_by_country                   1.050000e+04   \n",
       "Renewables (% equivalent primary energy)            6.290766e+00   \n",
       "gdp_growth                                          3.559855e+00   \n",
       "gdp_per_capita                                      4.578633e+03   \n",
       "Land Area(Km2)                                      1.176000e+05   \n",
       "Latitude                                            1.718988e+01   \n",
       "Longitude                                           1.914514e+01   \n",
       "\n",
       "                                                         3rd Qrt  \\\n",
       "Year                                                2.015000e+03   \n",
       "Access to electricity (% of population)             1.000000e+02   \n",
       "Access to clean fuels for cooking                   1.000000e+02   \n",
       "Renewable-electricity-generating-capacity-per-c...  1.122100e+02   \n",
       "Financial flows to developing countries (US $)      5.534750e+07   \n",
       "Renewable energy share in the total final energ...  5.524500e+01   \n",
       "Electricity from fossil fuels (TWh)                 2.683750e+01   \n",
       "Electricity from nuclear (TWh)                      0.000000e+00   \n",
       "Electricity from renewables (TWh)                   9.600000e+00   \n",
       "Low-carbon electricity (% electricity)              6.440379e+01   \n",
       "Primary energy consumption per capita (kWh/person)  3.389278e+04   \n",
       "Energy intensity level of primary energy (MJ/$2...  6.027500e+00   \n",
       "Value_co2_emissions_kt_by_country                   6.058000e+04   \n",
       "Renewables (% equivalent primary energy)            1.684164e+01   \n",
       "gdp_growth                                          5.830099e+00   \n",
       "gdp_per_capita                                      1.576862e+04   \n",
       "Land Area(Km2)                                      5.131200e+05   \n",
       "Latitude                                            3.896972e+01   \n",
       "Longitude                                           4.619962e+01   \n",
       "\n",
       "                                                             Max     Std. Dev.  \n",
       "Year                                                2.020000e+03  6.054228e+00  \n",
       "Access to electricity (% of population)             1.000000e+02  3.027554e+01  \n",
       "Access to clean fuels for cooking                   1.000000e+02  3.904366e+01  \n",
       "Renewable-electricity-generating-capacity-per-c...  3.060190e+03  2.441673e+02  \n",
       "Financial flows to developing countries (US $)      5.202310e+09  2.981544e+08  \n",
       "Renewable energy share in the total final energ...  9.604000e+01  2.989490e+01  \n",
       "Electricity from fossil fuels (TWh)                 5.184130e+03  3.480519e+02  \n",
       "Electricity from nuclear (TWh)                      8.094100e+02  7.300662e+01  \n",
       "Electricity from renewables (TWh)                   2.184940e+03  1.044311e+02  \n",
       "Low-carbon electricity (% electricity)              1.000000e+02  3.431488e+01  \n",
       "Primary energy consumption per capita (kWh/person)  2.625857e+05  3.477322e+04  \n",
       "Energy intensity level of primary energy (MJ/$2...  3.257000e+01  3.532020e+00  \n",
       "Value_co2_emissions_kt_by_country                   1.070722e+07  7.736611e+05  \n",
       "Renewables (% equivalent primary energy)            8.683659e+01  1.499464e+01  \n",
       "gdp_growth                                          1.231396e+02  5.686720e+00  \n",
       "gdp_per_capita                                      1.235142e+05  1.970987e+04  \n",
       "Land Area(Km2)                                      9.984670e+06  1.585519e+06  \n",
       "Latitude                                            6.496305e+01  2.415923e+01  \n",
       "Longitude                                           1.780650e+02  6.634815e+01  "
      ]
     },
     "execution_count": 20,
     "metadata": {},
     "output_type": "execute_result"
    }
   ],
   "source": [
    "# build continuous features report\n",
    "con_report_df = build_continuous_features_report(data)\n",
    "con_report_df"
   ]
  },
  {
   "cell_type": "code",
   "execution_count": 21,
   "metadata": {},
   "outputs": [
    {
     "name": "stdout",
     "output_type": "stream",
     "text": [
      "categorical features are :\n"
     ]
    },
    {
     "data": {
      "text/plain": [
       "Index(['Entity', 'Density\\n(P/Km2)'], dtype='object')"
      ]
     },
     "execution_count": 21,
     "metadata": {},
     "output_type": "execute_result"
    }
   ],
   "source": [
    "print(\"categorical features are :\")\n",
    "data.select_dtypes(exclude=\"number\").columns"
   ]
  },
  {
   "cell_type": "markdown",
   "metadata": {},
   "source": [
    "##### Categorical features Report"
   ]
  },
  {
   "cell_type": "code",
   "execution_count": 22,
   "metadata": {},
   "outputs": [],
   "source": [
    "def build_categorical_features_report(data_df):\n",
    "\n",
    "    \"\"\"Build tabular report for categorical features\"\"\"\n",
    "\n",
    "    def _mode(df):\n",
    "        return df.apply(lambda ft: \",\".join(ft.mode().to_list()))\n",
    "\n",
    "    def _mode_freq(df):\n",
    "        return df.apply(lambda ft: ft.value_counts()[ft.mode()].sum())\n",
    "\n",
    "    def _second_mode(df):\n",
    "        return df.apply(lambda ft: \",\".join(ft[~ft.isin(ft.mode())].mode().to_list()))\n",
    "\n",
    "    def _second_mode_freq(df):\n",
    "        return df.apply(\n",
    "            lambda ft: ft[~ft.isin(ft.mode())]\n",
    "            .value_counts()[ft[~ft.isin(ft.mode())].mode()]\n",
    "            .sum()\n",
    "        )\n",
    "\n",
    "    stats = {\n",
    "        \"Count\": len,\n",
    "        \"Miss %\": lambda df: df.isna().sum() / len(df) * 100,\n",
    "        \"Card.\": lambda df: df.nunique(),\n",
    "        \"Mode\": _mode,\n",
    "        \"Mode Freq\": _mode_freq,\n",
    "        \"Mode %\": lambda df: _mode_freq(df) / len(df) * 100,\n",
    "        \"2nd Mode\": _second_mode,\n",
    "        \"2nd Mode Freq\": _second_mode_freq,\n",
    "        \"2nd Mode %\": lambda df: _second_mode_freq(df) / len(df) * 100,\n",
    "    }\n",
    "\n",
    "    cat_feat_names = data_df.select_dtypes(exclude=\"number\").columns\n",
    "    cat_data_df = data_df[cat_feat_names]\n",
    "\n",
    "    report_df = pd.DataFrame(index=cat_feat_names, columns=stats.keys())\n",
    "\n",
    "    for stat_name, fn in stats.items():\n",
    "        # NOTE: ignore warnings for empty features\n",
    "        with warnings.catch_warnings():\n",
    "            warnings.simplefilter(\"ignore\", category=RuntimeWarning)\n",
    "            report_df[stat_name] = fn(cat_data_df)\n",
    "\n",
    "    return report_df\n"
   ]
  },
  {
   "cell_type": "code",
   "execution_count": 23,
   "metadata": {},
   "outputs": [
    {
     "data": {
      "text/html": [
       "<div>\n",
       "<style scoped>\n",
       "    .dataframe tbody tr th:only-of-type {\n",
       "        vertical-align: middle;\n",
       "    }\n",
       "\n",
       "    .dataframe tbody tr th {\n",
       "        vertical-align: top;\n",
       "    }\n",
       "\n",
       "    .dataframe thead th {\n",
       "        text-align: right;\n",
       "    }\n",
       "</style>\n",
       "<table border=\"1\" class=\"dataframe\">\n",
       "  <thead>\n",
       "    <tr style=\"text-align: right;\">\n",
       "      <th></th>\n",
       "      <th>Count</th>\n",
       "      <th>Miss %</th>\n",
       "      <th>Card.</th>\n",
       "      <th>Mode</th>\n",
       "      <th>Mode Freq</th>\n",
       "      <th>Mode %</th>\n",
       "      <th>2nd Mode</th>\n",
       "      <th>2nd Mode Freq</th>\n",
       "      <th>2nd Mode %</th>\n",
       "    </tr>\n",
       "  </thead>\n",
       "  <tbody>\n",
       "    <tr>\n",
       "      <th>Entity</th>\n",
       "      <td>3649</td>\n",
       "      <td>0.000000</td>\n",
       "      <td>176</td>\n",
       "      <td>Afghanistan,Albania,Algeria,Angola,Antigua and...</td>\n",
       "      <td>3612</td>\n",
       "      <td>98.986024</td>\n",
       "      <td>Montenegro,Serbia</td>\n",
       "      <td>28</td>\n",
       "      <td>0.767334</td>\n",
       "    </tr>\n",
       "    <tr>\n",
       "      <th>Density\\n(P/Km2)</th>\n",
       "      <td>3649</td>\n",
       "      <td>0.027405</td>\n",
       "      <td>124</td>\n",
       "      <td>25</td>\n",
       "      <td>147</td>\n",
       "      <td>4.028501</td>\n",
       "      <td>18</td>\n",
       "      <td>113</td>\n",
       "      <td>3.096739</td>\n",
       "    </tr>\n",
       "  </tbody>\n",
       "</table>\n",
       "</div>"
      ],
      "text/plain": [
       "                  Count    Miss %  Card.  \\\n",
       "Entity             3649  0.000000    176   \n",
       "Density\\n(P/Km2)   3649  0.027405    124   \n",
       "\n",
       "                                                               Mode  \\\n",
       "Entity            Afghanistan,Albania,Algeria,Angola,Antigua and...   \n",
       "Density\\n(P/Km2)                                                 25   \n",
       "\n",
       "                  Mode Freq     Mode %           2nd Mode  2nd Mode Freq  \\\n",
       "Entity                 3612  98.986024  Montenegro,Serbia             28   \n",
       "Density\\n(P/Km2)        147   4.028501                 18            113   \n",
       "\n",
       "                  2nd Mode %  \n",
       "Entity              0.767334  \n",
       "Density\\n(P/Km2)    3.096739  "
      ]
     },
     "execution_count": 23,
     "metadata": {},
     "output_type": "execute_result"
    }
   ],
   "source": [
    "# build categorical feature report\n",
    "cat_report_df = build_categorical_features_report(data)\n",
    "cat_report_df"
   ]
  },
  {
   "cell_type": "markdown",
   "metadata": {},
   "source": [
    "##### Checking duplicates"
   ]
  },
  {
   "cell_type": "code",
   "execution_count": 24,
   "metadata": {},
   "outputs": [
    {
     "name": "stdout",
     "output_type": "stream",
     "text": [
      "Number of Duplicate Rows: 0\n"
     ]
    }
   ],
   "source": [
    "# Check for duplicate rows\n",
    "num_duplicates = data.duplicated().sum()\n",
    "print(\"Number of Duplicate Rows:\", num_duplicates)"
   ]
  },
  {
   "cell_type": "markdown",
   "metadata": {},
   "source": [
    "##### Checking outliers"
   ]
  },
  {
   "cell_type": "code",
   "execution_count": 25,
   "metadata": {},
   "outputs": [],
   "source": [
    "def detect_outliers(col):\n",
    "    \"\"\"Detect outliers in a dataframe column\n",
    "\n",
    "    Args:\n",
    "        col (pd.Series): A dataframe column\n",
    "\n",
    "    Returns:\n",
    "        pd.Series: Outliers\n",
    "    \"\"\"\n",
    "    Q1 = np.percentile(col, 25)\n",
    "    Q3 = np.percentile(col, 75)\n",
    "    IQR = Q3 - Q1\n",
    "    outlier_step = IQR * 1.5\n",
    "\n",
    "    return col[(col < Q1 - outlier_step) | (col > Q3 + outlier_step)]\n"
   ]
  },
  {
   "cell_type": "code",
   "execution_count": 26,
   "metadata": {},
   "outputs": [
    {
     "data": {
      "text/html": [
       "<div>\n",
       "<style scoped>\n",
       "    .dataframe tbody tr th:only-of-type {\n",
       "        vertical-align: middle;\n",
       "    }\n",
       "\n",
       "    .dataframe tbody tr th {\n",
       "        vertical-align: top;\n",
       "    }\n",
       "\n",
       "    .dataframe thead th {\n",
       "        text-align: right;\n",
       "    }\n",
       "</style>\n",
       "<table border=\"1\" class=\"dataframe\">\n",
       "  <thead>\n",
       "    <tr style=\"text-align: right;\">\n",
       "      <th></th>\n",
       "      <th>Num outliers</th>\n",
       "      <th>Percent outliers</th>\n",
       "    </tr>\n",
       "  </thead>\n",
       "  <tbody>\n",
       "    <tr>\n",
       "      <th>Primary energy consumption per capita (kWh/person)</th>\n",
       "      <td>237</td>\n",
       "      <td>6.49493</td>\n",
       "    </tr>\n",
       "  </tbody>\n",
       "</table>\n",
       "</div>"
      ],
      "text/plain": [
       "                                                    Num outliers  \\\n",
       "Primary energy consumption per capita (kWh/person)           237   \n",
       "\n",
       "                                                    Percent outliers  \n",
       "Primary energy consumption per capita (kWh/person)           6.49493  "
      ]
     },
     "execution_count": 26,
     "metadata": {},
     "output_type": "execute_result"
    }
   ],
   "source": [
    "outliers_df = (\n",
    "    data.select_dtypes(\"number\")\n",
    "    .apply(lambda col: detect_outliers(col).size)\n",
    "    .rename(\"Num outliers\")\n",
    "    .to_frame()\n",
    ").query(\"`Num outliers` > 0\")\n",
    "\n",
    "outliers_df[\"Percent outliers\"] = outliers_df[\"Num outliers\"] / len(data) * 100\n",
    "outliers_df.sort_values(by=\"Percent outliers\", ascending=False)\n"
   ]
  },
  {
   "cell_type": "markdown",
   "metadata": {},
   "source": [
    "#### Data Quality Plan"
   ]
  },
  {
   "cell_type": "markdown",
   "metadata": {},
   "source": [
    "#### Data Preparation"
   ]
  },
  {
   "cell_type": "markdown",
   "metadata": {},
   "source": [
    "Convert the types to the desired ones"
   ]
  },
  {
   "cell_type": "code",
   "execution_count": 27,
   "metadata": {},
   "outputs": [],
   "source": [
    "def remove_functuation(density):\n",
    "    return density.replace(',','')\n",
    "data['Entity']=data['Entity'].astype(str)\n",
    "data['Density\\\\n(P/Km2)']=data['Density\\\\n(P/Km2)'].astype(str)\n",
    "data['Density\\\\n(P/Km2)']=data['Density\\\\n(P/Km2)'].apply(remove_functuation)\n",
    "data['Density\\\\n(P/Km2)']=data['Density\\\\n(P/Km2)'].astype(float)"
   ]
  },
  {
   "cell_type": "markdown",
   "metadata": {},
   "source": [
    "##### Handling missing values"
   ]
  },
  {
   "cell_type": "code",
   "execution_count": 28,
   "metadata": {},
   "outputs": [],
   "source": [
    "#Handling missing values in continuous features\n",
    "missing_con_cols = con_report_df.query(\"`Miss %` > 0.0\").index\n",
    "#print(missing_con_cols)\n",
    "feature_with_null=[column for column in missing_con_cols if column not in ['Year','Primary energy consumption per capita (kWh/person)']]\n",
    "#print(feature_with_null)\n",
    "# Replacing values with mean\n",
    "data.fillna(data[feature_with_null].mean(),inplace=True)"
   ]
  },
  {
   "cell_type": "code",
   "execution_count": 29,
   "metadata": {},
   "outputs": [],
   "source": [
    "# Handling missing values in categorical features\n",
    "cat_missing = cat_report_df.query(\"`Miss %` > 0\").index\n",
    "\n",
    "\n",
    "cat_fillna_vals = data[cat_missing].mode().squeeze()\n",
    "data = data.fillna(cat_fillna_vals)"
   ]
  },
  {
   "cell_type": "code",
   "execution_count": 30,
   "metadata": {},
   "outputs": [
    {
     "data": {
      "text/plain": [
       "Entity                                                              0\n",
       "Year                                                                0\n",
       "Access to electricity (% of population)                             0\n",
       "Access to clean fuels for cooking                                   0\n",
       "Renewable-electricity-generating-capacity-per-capita                0\n",
       "Financial flows to developing countries (US $)                      0\n",
       "Renewable energy share in the total final energy consumption (%)    0\n",
       "Electricity from fossil fuels (TWh)                                 0\n",
       "Electricity from nuclear (TWh)                                      0\n",
       "Electricity from renewables (TWh)                                   0\n",
       "Low-carbon electricity (% electricity)                              0\n",
       "Primary energy consumption per capita (kWh/person)                  0\n",
       "Energy intensity level of primary energy (MJ/$2017 PPP GDP)         0\n",
       "Value_co2_emissions_kt_by_country                                   0\n",
       "Renewables (% equivalent primary energy)                            0\n",
       "gdp_growth                                                          0\n",
       "gdp_per_capita                                                      0\n",
       "Density\\n(P/Km2)                                                    0\n",
       "Land Area(Km2)                                                      0\n",
       "Latitude                                                            0\n",
       "Longitude                                                           0\n",
       "dtype: int64"
      ]
     },
     "execution_count": 30,
     "metadata": {},
     "output_type": "execute_result"
    }
   ],
   "source": [
    "data.isna().sum()"
   ]
  },
  {
   "cell_type": "code",
   "execution_count": 31,
   "metadata": {},
   "outputs": [
    {
     "data": {
      "text/plain": [
       "Entity                                                              0\n",
       "Year                                                                0\n",
       "Access to electricity (% of population)                             0\n",
       "Access to clean fuels for cooking                                   0\n",
       "Renewable-electricity-generating-capacity-per-capita                0\n",
       "Financial flows to developing countries (US $)                      0\n",
       "Renewable energy share in the total final energy consumption (%)    0\n",
       "Electricity from fossil fuels (TWh)                                 0\n",
       "Electricity from nuclear (TWh)                                      0\n",
       "Electricity from renewables (TWh)                                   0\n",
       "Low-carbon electricity (% electricity)                              0\n",
       "Primary energy consumption per capita (kWh/person)                  0\n",
       "Energy intensity level of primary energy (MJ/$2017 PPP GDP)         0\n",
       "Value_co2_emissions_kt_by_country                                   0\n",
       "Renewables (% equivalent primary energy)                            0\n",
       "gdp_growth                                                          0\n",
       "gdp_per_capita                                                      0\n",
       "Density\\n(P/Km2)                                                    0\n",
       "Land Area(Km2)                                                      0\n",
       "Latitude                                                            0\n",
       "Longitude                                                           0\n",
       "dtype: int64"
      ]
     },
     "execution_count": 31,
     "metadata": {},
     "output_type": "execute_result"
    }
   ],
   "source": [
    "data.isnull().sum()"
   ]
  }
 ],
 "metadata": {
  "kernelspec": {
   "display_name": "wang",
   "language": "python",
   "name": "python3"
  },
  "language_info": {
   "codemirror_mode": {
    "name": "ipython",
    "version": 3
   },
   "file_extension": ".py",
   "mimetype": "text/x-python",
   "name": "python",
   "nbconvert_exporter": "python",
   "pygments_lexer": "ipython3",
   "version": "3.11.7"
  }
 },
 "nbformat": 4,
 "nbformat_minor": 2
}
