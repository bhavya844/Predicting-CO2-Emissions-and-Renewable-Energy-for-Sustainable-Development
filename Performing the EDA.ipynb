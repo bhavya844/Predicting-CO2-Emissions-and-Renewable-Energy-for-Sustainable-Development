{
 "cells": [
  {
   "cell_type": "code",
   "execution_count": null,
   "metadata": {},
   "outputs": [],
   "source": [
    "import pandas as pd\n",
    "import warnings\n",
    "import matplotlib.pyplot as plt\n",
    "import numpy as np\n",
    "import seaborn as sns\n",
    "import plotly.express as px\n",
    "# configs\n",
    "warnings.filterwarnings('ignore')\n",
    "%config InlineBackend.figure_format = 'retina'"
   ]
  },
  {
   "cell_type": "code",
   "execution_count": null,
   "metadata": {},
   "outputs": [],
   "source": [
    "data= pd.read_csv('global-data-on-sustainable-energy.csv')"
   ]
  },
  {
   "cell_type": "markdown",
   "metadata": {},
   "source": [
    "#### Exploratory Data Analysis"
   ]
  },
  {
   "cell_type": "code",
   "execution_count": null,
   "metadata": {},
   "outputs": [],
   "source": [
    "data.describe().transpose()"
   ]
  },
  {
   "cell_type": "code",
   "execution_count": null,
   "metadata": {},
   "outputs": [],
   "source": [
    "df = data\n",
    "df_2020 = df[df['Year'] == 2020] # Taking into account the most recent data\n",
    "\n",
    "fig = px.choropleth(df_2020,\n",
    "                    locations=\"Entity\",\n",
    "                    locationmode='country names',\n",
    "                    color=\"Access to electricity (% of population)\",\n",
    "                    hover_name=\"Entity\",\n",
    "                    color_continuous_scale=px.colors.sequential.Plasma,\n",
    "                    title=\"Percentage of population per country that has access to electricity in 2020\")\n",
    "fig.show()"
   ]
  },
  {
   "cell_type": "code",
   "execution_count": null,
   "metadata": {},
   "outputs": [],
   "source": [
    "df_aggregated = df.groupby('Entity').agg({\n",
    "    'Electricity from fossil fuels (TWh)': 'sum',\n",
    "    'Electricity from nuclear (TWh)': 'sum',\n",
    "    'Electricity from renewables (TWh)': 'sum'\n",
    "}).reset_index()\n",
    "\n",
    "df_melted = df_aggregated.melt(id_vars='Entity', var_name='Source', value_name='Electricity (TWh)')\n",
    "fig = px.pie(df_melted, names='Source', values='Electricity (TWh)', color='Source', title='Main Sources of Electricity in Different Countries')\n",
    "fig.update_layout(width=800, height=600)\n",
    "fig.show()"
   ]
  },
  {
   "cell_type": "code",
   "execution_count": null,
   "metadata": {},
   "outputs": [],
   "source": [
    "df_global_electricity = df.groupby('Year')['Access to electricity (% of population)'].mean().reset_index()\n",
    "\n",
    "fig = px.line(df_global_electricity, x='Year', y='Access to electricity (% of population)',\n",
    "              title='Global Change in Access to Electricity (2000-2020)',\n",
    "              labels={'Access to electricity (% of population)': 'Access to Electricity (%)'})\n",
    "fig.update_layout(width=1200, height=600)\n",
    "fig.show()"
   ]
  },
  {
   "cell_type": "code",
   "execution_count": null,
   "metadata": {},
   "outputs": [],
   "source": [
    "df_global_C02_emission = df.groupby('Year')['Value_co2_emissions_kt_by_country'].mean().reset_index()\n",
    "\n",
    "fig = px.line(df_global_C02_emission, x='Year', y='Value_co2_emissions_kt_by_country',\n",
    "              title='Global Change in C02 Emission (2000-2020)',\n",
    "              labels={'Value_co2_emissions_kt_by_country': 'Global C02 Emission (kt)'})\n",
    "fig.update_layout(width=1200, height=600)\n",
    "fig.show()"
   ]
  },
  {
   "cell_type": "code",
   "execution_count": null,
   "metadata": {},
   "outputs": [],
   "source": [
    "# Top 10 countries with highest energy consumption\n",
    "\n",
    "fossil_fuel_sum = df.groupby('Entity')['Electricity from fossil fuels (TWh)'].sum().sort_values(ascending=False).head(10).reset_index()\n",
    "\n",
    "top_10_fossil_fuel_consumption_countries = []\n",
    "\n",
    "for countries in fossil_fuel_sum.Entity:\n",
    "    top_10_fossil_fuel_consumption_countries.append(countries)\n",
    "\n",
    "fig = px.bar(fossil_fuel_sum, x='Entity', y='Electricity from fossil fuels (TWh)', title='Top 10 Countries by Electricity Consumption from Fossil Fuels (2000-2020)')\n",
    "fig.update_layout(width=1200, height=600)\n",
    "fig.show()"
   ]
  },
  {
   "cell_type": "code",
   "execution_count": null,
   "metadata": {},
   "outputs": [],
   "source": [
    "from plotly.subplots import make_subplots\n",
    "\n",
    "\n",
    "def co2_emission_plot(country):\n",
    "    co2_trend = df[df['Entity'] == country]\n",
    "    fig = px.line(co2_trend, x='Year', y='Value_co2_emissions_kt_by_country', title=f'CO2 Emissions Trend for {country}')\n",
    "    return fig\n",
    "\n",
    "# List of top 10 fossil fuel consuming countries\n",
    "\n",
    "# Create a subplot figure with 5 rows and 2 columns (for 10 plots)\n",
    "fig = make_subplots(rows=5, cols=2, subplot_titles=top_10_fossil_fuel_consumption_countries)\n",
    "\n",
    "# Add each CO2 emission plot to the subplot\n",
    "for i, country in enumerate(top_10_fossil_fuel_consumption_countries):\n",
    "    row = i // 2 + 1\n",
    "    col = i % 2 + 1\n",
    "    co2_plot = co2_emission_plot(country)\n",
    "    for trace in co2_plot['data']:\n",
    "        fig.add_trace(trace, row=row, col=col)\n",
    "\n",
    "# Update layout for the entire figure\n",
    "fig.update_layout(height=1800, width=1200, title_text=\"CO2 Emissions Trend for Top 10 Fossil Fuel Consuming Countries\")\n",
    "fig.show()"
   ]
  },
  {
   "cell_type": "code",
   "execution_count": null,
   "metadata": {},
   "outputs": [],
   "source": [
    "df.columns"
   ]
  },
  {
   "cell_type": "markdown",
   "metadata": {},
   "source": [
    "Visualising CO2 emissions in respective countries"
   ]
  },
  {
   "cell_type": "code",
   "execution_count": null,
   "metadata": {},
   "outputs": [],
   "source": [
    "average_co2_emission_by_country = data.groupby('Entity')['Value_co2_emissions_kt_by_country'].mean()"
   ]
  },
  {
   "cell_type": "code",
   "execution_count": null,
   "metadata": {},
   "outputs": [],
   "source": [
    "top_5_countries = average_co2_emission_by_country.nlargest(5)"
   ]
  },
  {
   "cell_type": "code",
   "execution_count": null,
   "metadata": {},
   "outputs": [],
   "source": [
    "plt.figure(figsize = (8,4))\n",
    "sns.barplot(x = top_5_countries.index, y = top_5_countries.values)\n",
    "plt.xlabel('Country')\n",
    "plt.ylabel('Average CO2 Emissions (kT x 1e6)')\n",
    "plt.title('Top 5 Countries with Highest Average CO2 Emissions')\n",
    "\n",
    "plt.xticks(rotation = 45, ha = 'center')\n",
    "\n",
    "plt.tight_layout()\n",
    "plt.show()"
   ]
  },
  {
   "cell_type": "markdown",
   "metadata": {},
   "source": [
    "Five countries with the lowest CO2 emissions"
   ]
  },
  {
   "cell_type": "code",
   "execution_count": null,
   "metadata": {},
   "outputs": [],
   "source": [
    "top_5_lowest_emissions = average_co2_emission_by_country.nsmallest(5)"
   ]
  },
  {
   "cell_type": "code",
   "execution_count": null,
   "metadata": {},
   "outputs": [],
   "source": [
    "plt.figure(figsize = (8,4))\n",
    "sns.barplot(x = top_5_lowest_emissions.values, y = top_5_lowest_emissions.index)\n",
    "plt.xlabel('Average CO2 Emissions (kT)')\n",
    "plt.ylabel('Country')\n",
    "plt.title('Top 5 Countries with the Lowest CO2 Emissions')\n",
    "\n",
    "plt.show()"
   ]
  },
  {
   "cell_type": "code",
   "execution_count": null,
   "metadata": {},
   "outputs": [],
   "source": [
    "df = data\n",
    "heatmap_cols = ['Entity', 'Year',\n",
    "                'Renewable energy share in the total final energy consumption (%)',\n",
    "                'Electricity from fossil fuels (TWh)', 'Electricity from nuclear (TWh)',\n",
    "                'Electricity from renewables (TWh)',\n",
    "                'Low-carbon electricity (% electricity)',\n",
    "                'Primary energy consumption per capita (kWh/person)',\n",
    "                'Value_co2_emissions_kt_by_country',\n",
    "                'Renewables (% equivalent primary energy)',\n",
    "                'Land Area(Km2)']\n",
    "numerical_features = [col for col in heatmap_cols if df[col].dtype != 'object']\n",
    "\n",
    "correlation_matrix = df[numerical_features].corr()\n",
    "\n",
    "heatmap_plot_cols = ['Year',\n",
    "                'Renewable energy share',\n",
    "                'Electricity from fossil fuels', 'Electricity from nuclear',\n",
    "                'Electricity from renewables',\n",
    "                'Low-carbon electricity',\n",
    "                'energy consumption',\n",
    "                'C02 Emissions',\n",
    "                'Renewables',\n",
    "                'Area']\n",
    "\n",
    "# Create a heatmap visualization\n",
    "plt.matshow(correlation_matrix, cmap = 'gist_gray')\n",
    "plt.xticks(range(len(correlation_matrix.columns)), heatmap_plot_cols, rotation=90)\n",
    "plt.yticks(range(len(correlation_matrix.columns)), heatmap_plot_cols)\n",
    "plt.rcParams[\"figure.figsize\"] = [6, 4]\n",
    "plt.rcParams[\"font.size\"] = 6\n",
    "plt.colorbar()\n",
    "plt.show()"
   ]
  },
  {
   "cell_type": "code",
   "execution_count": null,
   "metadata": {},
   "outputs": [],
   "source": [
    "df.columns"
   ]
  },
  {
   "cell_type": "code",
   "execution_count": null,
   "metadata": {},
   "outputs": [],
   "source": [
    "fossil_fuel_energy = df['Electricity from fossil fuels (TWh)']\n",
    "C02_emission = df['Value_co2_emissions_kt_by_country']\n",
    "correlation = C02_emission.corr(fossil_fuel_energy, method='pearson')\n",
    "\n",
    "plt.scatter(fossil_fuel_energy, C02_emission)\n",
    "\n",
    "# Add labels and title\n",
    "plt.xlabel(fossil_fuel_energy.name)\n",
    "plt.ylabel(C02_emission.name)\n",
    "plt.annotate(f\"Correlation: {correlation:.2f}\", xy=(0.6, 0.4), xycoords='axes fraction')\n",
    "\n",
    "\n",
    "# Display the plot\n",
    "plt.show()"
   ]
  },
  {
   "cell_type": "markdown",
   "metadata": {},
   "source": [
    "#### Data Quality Report"
   ]
  },
  {
   "cell_type": "markdown",
   "metadata": {},
   "source": [
    "##### Continuous features report "
   ]
  },
  {
   "cell_type": "code",
   "execution_count": null,
   "metadata": {},
   "outputs": [],
   "source": [
    "def build_continuous_features_report(data_df):\n",
    "\n",
    "    \"\"\"Build tabular report for continuous features\"\"\"\n",
    "\n",
    "    stats = {\n",
    "        \"Count\": len,\n",
    "        \"Miss %\": lambda df: df.isna().sum() / len(df) * 100,\n",
    "        \"Card.\": lambda df: df.nunique(),\n",
    "        \"Min\": lambda df: df.min(),\n",
    "        \"1st Qrt.\": lambda df: df.quantile(0.25),\n",
    "        \"Mean\": lambda df: df.mean(),\n",
    "        \"Median\": lambda df: df.median(),\n",
    "        \"3rd Qrt\": lambda df: df.quantile(0.75),\n",
    "        \"Max\": lambda df: df.max(),\n",
    "        \"Std. Dev.\": lambda df: df.std(),\n",
    "    }\n",
    "\n",
    "    contin_feat_names = data_df.select_dtypes(\"number\").columns\n",
    "    continuous_data_df = data_df[contin_feat_names]\n",
    "\n",
    "    report_df = pd.DataFrame(index=contin_feat_names, columns=stats.keys())\n",
    "\n",
    "    for stat_name, fn in stats.items():\n",
    "        # NOTE: ignore warnings for empty features\n",
    "        with warnings.catch_warnings():\n",
    "            warnings.simplefilter(\"ignore\", category=RuntimeWarning)\n",
    "            report_df[stat_name] = fn(continuous_data_df)\n",
    "\n",
    "    return report_df\n"
   ]
  },
  {
   "cell_type": "code",
   "execution_count": null,
   "metadata": {},
   "outputs": [],
   "source": [
    "# build continuous features report\n",
    "con_report_df = build_continuous_features_report(data)\n",
    "con_report_df"
   ]
  },
  {
   "cell_type": "code",
   "execution_count": null,
   "metadata": {},
   "outputs": [],
   "source": [
    "print(\"categorical features are :\")\n",
    "data.select_dtypes(exclude=\"number\").columns"
   ]
  },
  {
   "cell_type": "markdown",
   "metadata": {},
   "source": [
    "##### Categorical features Report"
   ]
  },
  {
   "cell_type": "code",
   "execution_count": null,
   "metadata": {},
   "outputs": [],
   "source": [
    "def build_categorical_features_report(data_df):\n",
    "\n",
    "    \"\"\"Build tabular report for categorical features\"\"\"\n",
    "\n",
    "    def _mode(df):\n",
    "        return df.apply(lambda ft: \",\".join(ft.mode().to_list()))\n",
    "\n",
    "    def _mode_freq(df):\n",
    "        return df.apply(lambda ft: ft.value_counts()[ft.mode()].sum())\n",
    "\n",
    "    def _second_mode(df):\n",
    "        return df.apply(lambda ft: \",\".join(ft[~ft.isin(ft.mode())].mode().to_list()))\n",
    "\n",
    "    def _second_mode_freq(df):\n",
    "        return df.apply(\n",
    "            lambda ft: ft[~ft.isin(ft.mode())]\n",
    "            .value_counts()[ft[~ft.isin(ft.mode())].mode()]\n",
    "            .sum()\n",
    "        )\n",
    "\n",
    "    stats = {\n",
    "        \"Count\": len,\n",
    "        \"Miss %\": lambda df: df.isna().sum() / len(df) * 100,\n",
    "        \"Card.\": lambda df: df.nunique(),\n",
    "        \"Mode\": _mode,\n",
    "        \"Mode Freq\": _mode_freq,\n",
    "        \"Mode %\": lambda df: _mode_freq(df) / len(df) * 100,\n",
    "        \"2nd Mode\": _second_mode,\n",
    "        \"2nd Mode Freq\": _second_mode_freq,\n",
    "        \"2nd Mode %\": lambda df: _second_mode_freq(df) / len(df) * 100,\n",
    "    }\n",
    "\n",
    "    cat_feat_names = data_df.select_dtypes(exclude=\"number\").columns\n",
    "    cat_data_df = data_df[cat_feat_names]\n",
    "\n",
    "    report_df = pd.DataFrame(index=cat_feat_names, columns=stats.keys())\n",
    "\n",
    "    for stat_name, fn in stats.items():\n",
    "        # NOTE: ignore warnings for empty features\n",
    "        with warnings.catch_warnings():\n",
    "            warnings.simplefilter(\"ignore\", category=RuntimeWarning)\n",
    "            report_df[stat_name] = fn(cat_data_df)\n",
    "\n",
    "    return report_df\n"
   ]
  },
  {
   "cell_type": "code",
   "execution_count": null,
   "metadata": {},
   "outputs": [],
   "source": [
    "# build categorical feature report\n",
    "cat_report_df = build_categorical_features_report(data)\n",
    "cat_report_df"
   ]
  },
  {
   "cell_type": "markdown",
   "metadata": {},
   "source": [
    "##### Checking duplicates"
   ]
  },
  {
   "cell_type": "code",
   "execution_count": null,
   "metadata": {},
   "outputs": [],
   "source": [
    "# Check for duplicate rows\n",
    "num_duplicates = data.duplicated().sum()\n",
    "print(\"Number of Duplicate Rows:\", num_duplicates)"
   ]
  },
  {
   "cell_type": "markdown",
   "metadata": {},
   "source": [
    "##### Checking outliers"
   ]
  },
  {
   "cell_type": "code",
   "execution_count": null,
   "metadata": {},
   "outputs": [],
   "source": [
    "def detect_outliers(col):\n",
    "    \"\"\"Detect outliers in a dataframe column\n",
    "\n",
    "    Args:\n",
    "        col (pd.Series): A dataframe column\n",
    "\n",
    "    Returns:\n",
    "        pd.Series: Outliers\n",
    "    \"\"\"\n",
    "    Q1 = np.percentile(col, 25)\n",
    "    Q3 = np.percentile(col, 75)\n",
    "    IQR = Q3 - Q1\n",
    "    outlier_step = IQR * 1.5\n",
    "\n",
    "    return col[(col < Q1 - outlier_step) | (col > Q3 + outlier_step)]\n"
   ]
  },
  {
   "cell_type": "code",
   "execution_count": null,
   "metadata": {},
   "outputs": [],
   "source": [
    "outliers_df = (\n",
    "    data.select_dtypes(\"number\")\n",
    "    .apply(lambda col: detect_outliers(col).size)\n",
    "    .rename(\"Num outliers\")\n",
    "    .to_frame()\n",
    ").query(\"`Num outliers` > 0\")\n",
    "\n",
    "outliers_df[\"Percent outliers\"] = outliers_df[\"Num outliers\"] / len(data) * 100\n",
    "outliers_df.sort_values(by=\"Percent outliers\", ascending=False)\n"
   ]
  },
  {
   "cell_type": "markdown",
   "metadata": {},
   "source": [
    "#### Data Quality Plan"
   ]
  },
  {
   "cell_type": "markdown",
   "metadata": {},
   "source": [
    "#### Data Preparation"
   ]
  },
  {
   "cell_type": "markdown",
   "metadata": {},
   "source": [
    "Convert the types to the desired ones"
   ]
  },
  {
   "cell_type": "code",
   "execution_count": null,
   "metadata": {},
   "outputs": [],
   "source": [
    "def remove_functuation(density):\n",
    "    return density.replace(',','')\n",
    "data['Entity']=data['Entity'].astype(str)\n",
    "data['Density\\\\n(P/Km2)']=data['Density\\\\n(P/Km2)'].astype(str)\n",
    "data['Density\\\\n(P/Km2)']=data['Density\\\\n(P/Km2)'].apply(remove_functuation)\n",
    "data['Density\\\\n(P/Km2)']=data['Density\\\\n(P/Km2)'].astype(float)"
   ]
  },
  {
   "cell_type": "markdown",
   "metadata": {},
   "source": [
    "##### Handling missing values"
   ]
  },
  {
   "cell_type": "code",
   "execution_count": null,
   "metadata": {},
   "outputs": [],
   "source": [
    "#Handling missing values in continuous features\n",
    "missing_con_cols = con_report_df.query(\"`Miss %` > 0.0\").index\n",
    "#print(missing_con_cols)\n",
    "feature_with_null=[column for column in missing_con_cols if column not in ['Year','Primary energy consumption per capita (kWh/person)']]\n",
    "#print(feature_with_null)\n",
    "# Replacing values with mean\n",
    "data.fillna(data[feature_with_null].mean(),inplace=True)"
   ]
  },
  {
   "cell_type": "code",
   "execution_count": null,
   "metadata": {},
   "outputs": [],
   "source": [
    "# Handling missing values in categorical features\n",
    "cat_missing = cat_report_df.query(\"`Miss %` > 0\").index\n",
    "\n",
    "\n",
    "cat_fillna_vals = data[cat_missing].mode().squeeze()\n",
    "data = data.fillna(cat_fillna_vals)"
   ]
  }
 ],
 "metadata": {
  "kernelspec": {
   "display_name": "wang",
   "language": "python",
   "name": "python3"
  },
  "language_info": {
   "codemirror_mode": {
    "name": "ipython",
    "version": 3
   },
   "file_extension": ".py",
   "mimetype": "text/x-python",
   "name": "python",
   "nbconvert_exporter": "python",
   "pygments_lexer": "ipython3",
   "version": "3.11.8"
  }
 },
 "nbformat": 4,
 "nbformat_minor": 2
}
